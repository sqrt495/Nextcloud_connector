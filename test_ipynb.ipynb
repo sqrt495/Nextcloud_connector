{
 "cells": [
  {
   "cell_type": "code",
   "execution_count": 39,
   "metadata": {},
   "outputs": [],
   "source": [
    "# import zipfile\n",
    "# import os\n",
    "# import xlwings as xw\n",
    "# import psutil\n",
    "# from time import sleep\n",
    "# import stat\n",
    "# import win32com.client\n",
    "# import stat\n",
    "# import openpyxl\n",
    "# from selenium import webdriver\n",
    "# from selenium.webdriver.common.by import By\n",
    "# import telegram\n",
    "# from Nextcloud_connector import config, cloud, handler"
   ]
  },
  {
   "cell_type": "code",
   "execution_count": 40,
   "metadata": {},
   "outputs": [],
   "source": [
    "import zipfile\n",
    "import os\n",
    "import xlwings as xw\n",
    "import psutil\n",
    "\n",
    "def unzip(file, unpack_dir):\n",
    "    with zipfile.ZipFile(file) as zip:\n",
    "        for zip_info in zip.infolist():\n",
    "            if zip_info.filename[-1] == 'КЖЗ/':\n",
    "                continue\n",
    "            zip_info.filename = os.path.basename(zip_info.filename)\n",
    "            zip.extract(zip_info, unpack_dir)\n",
    "\n",
    "def replacer(path, name, method):\n",
    "    try:\n",
    "        os.mkdir(os.path.join(path, method))\n",
    "        os.replace(os.path.join(path, name), os.path.join(path, method, name))\n",
    "    except:\n",
    "        os.replace(os.path.join(path, name), os.path.join(path, method, name))\n",
    "\n",
    "def resaver(path, file):\n",
    "    dir_file = os.path.join(path, file)\n",
    "    try:\n",
    "        excel_app = xw.App(visible=False)\n",
    "        excel_app.display_alerts = False\n",
    "        wb = xw.Book(dir_file)\n",
    "        new_name = file\n",
    "        wb.save(os.path.join(path, new_name))\n",
    "        wb.close()\n",
    "        # xw.apps.active.api.quit()\n",
    "        if file != new_name:\n",
    "            os.remove(dir_file)\n",
    "    except:\n",
    "        try:\n",
    "            excel_app = xw.App(visible=False)\n",
    "            excel_app.display_alerts = False\n",
    "            wb = xw.Book(dir_file, corrupt_load=2)\n",
    "            new_name = \"MOD - \" + file\n",
    "            wb.save(os.path.join(path, new_name))\n",
    "            wb.close()\n",
    "            os.remove(dir_file)\n",
    "        except:\n",
    "            pass\n",
    "\n",
    "\n",
    "# rewrite it\n",
    "def check_headers(path, file, dict):\n",
    "    file = os.path.join(path, file)\n",
    "    try:\n",
    "        excel_app = xw.App(visible=False)\n",
    "        excel_app.display_alerts = False\n",
    "        wb = xw.Book(file)\n",
    "        mass = []\n",
    "        for ws in wb.sheets:\n",
    "            for i in range(1, 20):\n",
    "                try:\n",
    "                    values = ws.range((i, 1), (i, 50)).value\n",
    "                    for value in values:\n",
    "                        if value == 'Наименование \"Павильона Здоровья\" в парке, где выявлено подозрение на ЗНО':\n",
    "                            wb.close()\n",
    "                            return \"ЦАОП\"\n",
    "                        mass.append(value)\n",
    "                except:\n",
    "                    pass\n",
    "\n",
    "        wb.close()\n",
    "        # xw.apps.active.api.quit()\n",
    "\n",
    "        for i in mass:\n",
    "            if i in dict.keys():\n",
    "                return dict[i]\n",
    "        return 'Контроль_МО-Прочие_отсортированные_файлы'\n",
    "    except:\n",
    "        return 'Контроль_МО-Прочие_отсортированные_файлы'\n",
    "\n",
    "def trash_sort(path, file):\n",
    "    if file.split('.')[-1] in ['pdf', 'jpeg', 'jpg', 'png', 'zip', 'PDF', 'JPEG', 'JPG', 'PNG', 'ZIP']:\n",
    "        replacer(path, file, 'Контроль_МО-Прочие_отсортированные_файлы')\n",
    "\n",
    "def die():\n",
    "    try:\n",
    "        for proc in psutil.process_iter():\n",
    "            if proc.name() == \"EXCEL.EXE\":\n",
    "                proc.kill()\n",
    "    except:\n",
    "        pass"
   ]
  },
  {
   "cell_type": "code",
   "execution_count": 41,
   "metadata": {},
   "outputs": [],
   "source": [
    "dictionary ={}\n",
    "\n",
    "for i in [\"Дата направления запроса в МО\", \"Дата направления ответа от МО в Дирекцию МГКР\", \"Комментарий персонального помощника\", \"Ответ от МО\"]:\n",
    "    dictionary[i] = \"Ответы_Контроль_МО\"\n",
    "for i in [\"Группа проблем\", \"Тип ошибки\", \"Назначить помощника\", \"Результат от МО\"]:\n",
    "    dictionary[i] = \"Дельта\"\n",
    "for i in [\"ФИО персонального помощника (выбирается из списка только в случае подписания соглашения на сопровождение)\",\n",
    "          \"Подписано соглашение на сопровождение пациента персональными помощниками\",\n",
    "          \"Дата записи к онкологу (при наличии)\"]:\n",
    "    dictionary[i] = \"Новые_пациенты_с_подозрением\""
   ]
  },
  {
   "cell_type": "code",
   "execution_count": 42,
   "metadata": {},
   "outputs": [],
   "source": [
    "# os.getcwd()"
   ]
  },
  {
   "cell_type": "code",
   "execution_count": 60,
   "metadata": {},
   "outputs": [
    {
     "data": {
      "text/plain": [
       "('C:\\\\Users\\\\KorneevSN\\\\Downloads\\\\КНИГИ\\\\REPO\\\\Nextcloud_connector\\\\Nextcloud_connector\\\\',\n",
       " 'C:\\\\Users\\\\KorneevSN\\\\Downloads\\\\КНИГИ\\\\REPO\\\\Nextcloud_connector\\\\')"
      ]
     },
     "execution_count": 60,
     "metadata": {},
     "output_type": "execute_result"
    }
   ],
   "source": [
    "import zipfile\n",
    "import os\n",
    "import xlwings as xw\n",
    "import psutil\n",
    "\n",
    "current_dir = os.getcwd()+'\\\\'\n",
    "main_dir = str(Path(os.getcwd()).parent)+'\\\\'\n",
    "current_dir, main_dir"
   ]
  },
  {
   "cell_type": "code",
   "execution_count": 1,
   "metadata": {},
   "outputs": [],
   "source": [
    "# for file in os.listdir(main_dir):\n",
    "#     if '.zip' in file:\n",
    "#         with zipfile.ZipFile(main_dir+file) as zip:\n",
    "#             for zip_info in zip.infolist():\n",
    "#                 print(zip_info.filename)"
   ]
  },
  {
   "cell_type": "code",
   "execution_count": null,
   "metadata": {},
   "outputs": [],
   "source": [
    "def unzip(file, unpack_dir):\n",
    "    with zipfile.ZipFile(file) as zip:\n",
    "        for zip_info in zip.infolist():\n",
    "            if zip_info.filename[-1] == 'КЖЗ/':\n",
    "                continue\n",
    "            zip_info.filename = os.path.basename(zip_info.filename)\n",
    "            zip.extract(zip_info, unpack_dir)"
   ]
  },
  {
   "cell_type": "code",
   "execution_count": 44,
   "metadata": {},
   "outputs": [],
   "source": [
    "for file in os.listdir(main_dir):\n",
    "    if '.zip' in file:\n",
    "        unzip(str(main_dir)+file, 'unzip')"
   ]
  },
  {
   "cell_type": "code",
   "execution_count": 54,
   "metadata": {},
   "outputs": [
    {
     "data": {
      "text/plain": [
       "'КЖЗ.zip'"
      ]
     },
     "execution_count": 54,
     "metadata": {},
     "output_type": "execute_result"
    }
   ],
   "source": [
    "'èåç.zip'.encode('cp437').decode('cp866')"
   ]
  },
  {
   "cell_type": "code",
   "execution_count": null,
   "metadata": {},
   "outputs": [],
   "source": [
    "# for _ in os.listdir(current_dir + 'unzip\\\\'):\n",
    "#     unicode_name = _.encode('cp437').decode('cp866')\n",
    "#     os.rename(_, unicode_name)\n",
    "#     print(_,' == ', unicode_name)"
   ]
  },
  {
   "cell_type": "code",
   "execution_count": 55,
   "metadata": {},
   "outputs": [],
   "source": [
    "# for _ in os.listdir(current_dir + 'unzip\\\\'):\n",
    "#     print(_)"
   ]
  },
  {
   "cell_type": "code",
   "execution_count": null,
   "metadata": {},
   "outputs": [],
   "source": [
    "f = ZipFile('z.zip', 'r')\n",
    "\n",
    "for name in f.namelist():\n",
    "    unicode_name = name.encode('cp437').decode('cp866')\n",
    "    print(unicode_name)"
   ]
  },
  {
   "cell_type": "code",
   "execution_count": 38,
   "metadata": {},
   "outputs": [],
   "source": [
    "unzip(f'{main_dir}23.05.2022-15.01-Контроль МО.zip', 'new')"
   ]
  },
  {
   "cell_type": "code",
   "execution_count": 20,
   "metadata": {},
   "outputs": [
    {
     "ename": "FileNotFoundError",
     "evalue": "[WinError 2] Не удается найти указанный файл: 'C:\\\\Users\\\\KorneevSN\\\\Downloads\\\\КНИГИ\\\\REPO\\\\Nextcloud_connector\\\\new\\\\test-11.05.2022-15.01-è«¡Γα«½∞ îÄ/' -> 'C:\\\\Users\\\\KorneevSN\\\\Downloads\\\\КНИГИ\\\\REPO\\\\Nextcloud_connector\\\\new\\\\Контроль_МО-Прочие_отсортированные_файлы\\\\test-11.05.2022-15.01-è«¡Γα«½∞ îÄ/'",
     "output_type": "error",
     "traceback": [
      "\u001b[1;31m---------------------------------------------------------------------------\u001b[0m",
      "\u001b[1;31mFileNotFoundError\u001b[0m                         Traceback (most recent call last)",
      "\u001b[1;32m<ipython-input-4-0685b925e150>\u001b[0m in \u001b[0;36mreplacer\u001b[1;34m(path, name, method)\u001b[0m\n\u001b[0;32m     16\u001b[0m         \u001b[0mos\u001b[0m\u001b[1;33m.\u001b[0m\u001b[0mmkdir\u001b[0m\u001b[1;33m(\u001b[0m\u001b[0mos\u001b[0m\u001b[1;33m.\u001b[0m\u001b[0mpath\u001b[0m\u001b[1;33m.\u001b[0m\u001b[0mjoin\u001b[0m\u001b[1;33m(\u001b[0m\u001b[0mpath\u001b[0m\u001b[1;33m,\u001b[0m \u001b[0mmethod\u001b[0m\u001b[1;33m)\u001b[0m\u001b[1;33m)\u001b[0m\u001b[1;33m\u001b[0m\u001b[1;33m\u001b[0m\u001b[0m\n\u001b[1;32m---> 17\u001b[1;33m         \u001b[0mos\u001b[0m\u001b[1;33m.\u001b[0m\u001b[0mreplace\u001b[0m\u001b[1;33m(\u001b[0m\u001b[0mos\u001b[0m\u001b[1;33m.\u001b[0m\u001b[0mpath\u001b[0m\u001b[1;33m.\u001b[0m\u001b[0mjoin\u001b[0m\u001b[1;33m(\u001b[0m\u001b[0mpath\u001b[0m\u001b[1;33m,\u001b[0m \u001b[0mname\u001b[0m\u001b[1;33m)\u001b[0m\u001b[1;33m,\u001b[0m \u001b[0mos\u001b[0m\u001b[1;33m.\u001b[0m\u001b[0mpath\u001b[0m\u001b[1;33m.\u001b[0m\u001b[0mjoin\u001b[0m\u001b[1;33m(\u001b[0m\u001b[0mpath\u001b[0m\u001b[1;33m,\u001b[0m \u001b[0mmethod\u001b[0m\u001b[1;33m,\u001b[0m \u001b[0mname\u001b[0m\u001b[1;33m)\u001b[0m\u001b[1;33m)\u001b[0m\u001b[1;33m\u001b[0m\u001b[1;33m\u001b[0m\u001b[0m\n\u001b[0m\u001b[0;32m     18\u001b[0m     \u001b[1;32mexcept\u001b[0m\u001b[1;33m:\u001b[0m\u001b[1;33m\u001b[0m\u001b[1;33m\u001b[0m\u001b[0m\n",
      "\u001b[1;31mFileNotFoundError\u001b[0m: [WinError 2] Не удается найти указанный файл: 'C:\\\\Users\\\\KorneevSN\\\\Downloads\\\\КНИГИ\\\\REPO\\\\Nextcloud_connector\\\\new\\\\test-11.05.2022-15.01-è«¡Γα«½∞ îÄ/' -> 'C:\\\\Users\\\\KorneevSN\\\\Downloads\\\\КНИГИ\\\\REPO\\\\Nextcloud_connector\\\\new\\\\Контроль_МО-Прочие_отсортированные_файлы\\\\test-11.05.2022-15.01-è«¡Γα«½∞ îÄ/'",
      "\nDuring handling of the above exception, another exception occurred:\n",
      "\u001b[1;31mFileNotFoundError\u001b[0m                         Traceback (most recent call last)",
      "\u001b[1;32m<ipython-input-20-862934de77c4>\u001b[0m in \u001b[0;36m<module>\u001b[1;34m\u001b[0m\n\u001b[0;32m      2\u001b[0m \u001b[1;32mfor\u001b[0m \u001b[0mfile\u001b[0m \u001b[1;32min\u001b[0m \u001b[0mos\u001b[0m\u001b[1;33m.\u001b[0m\u001b[0mlistdir\u001b[0m\u001b[1;33m(\u001b[0m\u001b[0mnew_folder\u001b[0m\u001b[1;33m)\u001b[0m\u001b[1;33m:\u001b[0m\u001b[1;33m\u001b[0m\u001b[1;33m\u001b[0m\u001b[0m\n\u001b[0;32m      3\u001b[0m     \u001b[0mmethod\u001b[0m \u001b[1;33m=\u001b[0m \u001b[0mcheck_headers\u001b[0m\u001b[1;33m(\u001b[0m\u001b[0mnew_folder\u001b[0m\u001b[1;33m,\u001b[0m \u001b[0mfile\u001b[0m\u001b[1;33m,\u001b[0m \u001b[0mdictionary\u001b[0m\u001b[1;33m)\u001b[0m\u001b[1;33m\u001b[0m\u001b[1;33m\u001b[0m\u001b[0m\n\u001b[1;32m----> 4\u001b[1;33m     \u001b[0mreplacer\u001b[0m\u001b[1;33m(\u001b[0m\u001b[0mnew_folder\u001b[0m\u001b[1;33m,\u001b[0m \u001b[0mname\u001b[0m\u001b[1;33m,\u001b[0m \u001b[0mmethod\u001b[0m\u001b[1;33m)\u001b[0m\u001b[1;33m\u001b[0m\u001b[1;33m\u001b[0m\u001b[0m\n\u001b[0m",
      "\u001b[1;32m<ipython-input-4-0685b925e150>\u001b[0m in \u001b[0;36mreplacer\u001b[1;34m(path, name, method)\u001b[0m\n\u001b[0;32m     17\u001b[0m         \u001b[0mos\u001b[0m\u001b[1;33m.\u001b[0m\u001b[0mreplace\u001b[0m\u001b[1;33m(\u001b[0m\u001b[0mos\u001b[0m\u001b[1;33m.\u001b[0m\u001b[0mpath\u001b[0m\u001b[1;33m.\u001b[0m\u001b[0mjoin\u001b[0m\u001b[1;33m(\u001b[0m\u001b[0mpath\u001b[0m\u001b[1;33m,\u001b[0m \u001b[0mname\u001b[0m\u001b[1;33m)\u001b[0m\u001b[1;33m,\u001b[0m \u001b[0mos\u001b[0m\u001b[1;33m.\u001b[0m\u001b[0mpath\u001b[0m\u001b[1;33m.\u001b[0m\u001b[0mjoin\u001b[0m\u001b[1;33m(\u001b[0m\u001b[0mpath\u001b[0m\u001b[1;33m,\u001b[0m \u001b[0mmethod\u001b[0m\u001b[1;33m,\u001b[0m \u001b[0mname\u001b[0m\u001b[1;33m)\u001b[0m\u001b[1;33m)\u001b[0m\u001b[1;33m\u001b[0m\u001b[1;33m\u001b[0m\u001b[0m\n\u001b[0;32m     18\u001b[0m     \u001b[1;32mexcept\u001b[0m\u001b[1;33m:\u001b[0m\u001b[1;33m\u001b[0m\u001b[1;33m\u001b[0m\u001b[0m\n\u001b[1;32m---> 19\u001b[1;33m         \u001b[0mos\u001b[0m\u001b[1;33m.\u001b[0m\u001b[0mreplace\u001b[0m\u001b[1;33m(\u001b[0m\u001b[0mos\u001b[0m\u001b[1;33m.\u001b[0m\u001b[0mpath\u001b[0m\u001b[1;33m.\u001b[0m\u001b[0mjoin\u001b[0m\u001b[1;33m(\u001b[0m\u001b[0mpath\u001b[0m\u001b[1;33m,\u001b[0m \u001b[0mname\u001b[0m\u001b[1;33m)\u001b[0m\u001b[1;33m,\u001b[0m \u001b[0mos\u001b[0m\u001b[1;33m.\u001b[0m\u001b[0mpath\u001b[0m\u001b[1;33m.\u001b[0m\u001b[0mjoin\u001b[0m\u001b[1;33m(\u001b[0m\u001b[0mpath\u001b[0m\u001b[1;33m,\u001b[0m \u001b[0mmethod\u001b[0m\u001b[1;33m,\u001b[0m \u001b[0mname\u001b[0m\u001b[1;33m)\u001b[0m\u001b[1;33m)\u001b[0m\u001b[1;33m\u001b[0m\u001b[1;33m\u001b[0m\u001b[0m\n\u001b[0m\u001b[0;32m     20\u001b[0m \u001b[1;33m\u001b[0m\u001b[0m\n\u001b[0;32m     21\u001b[0m \u001b[1;32mdef\u001b[0m \u001b[0mresaver\u001b[0m\u001b[1;33m(\u001b[0m\u001b[0mpath\u001b[0m\u001b[1;33m,\u001b[0m \u001b[0mfile\u001b[0m\u001b[1;33m)\u001b[0m\u001b[1;33m:\u001b[0m\u001b[1;33m\u001b[0m\u001b[1;33m\u001b[0m\u001b[0m\n",
      "\u001b[1;31mFileNotFoundError\u001b[0m: [WinError 2] Не удается найти указанный файл: 'C:\\\\Users\\\\KorneevSN\\\\Downloads\\\\КНИГИ\\\\REPO\\\\Nextcloud_connector\\\\new\\\\test-11.05.2022-15.01-è«¡Γα«½∞ îÄ/' -> 'C:\\\\Users\\\\KorneevSN\\\\Downloads\\\\КНИГИ\\\\REPO\\\\Nextcloud_connector\\\\new\\\\Контроль_МО-Прочие_отсортированные_файлы\\\\test-11.05.2022-15.01-è«¡Γα«½∞ îÄ/'"
     ]
    }
   ],
   "source": [
    "new_folder = os.getcwd()+'\\\\new'\n",
    "for file in os.listdir(new_folder):\n",
    "    method = check_headers(new_folder, file, dictionary)\n",
    "    replacer(new_folder, name, method)"
   ]
  },
  {
   "cell_type": "code",
   "execution_count": 9,
   "metadata": {},
   "outputs": [
    {
     "name": "stdout",
     "output_type": "stream",
     "text": [
      "1 test-11.05.2022-15.01-è«¡Γα«½∞ îÄ/\n"
     ]
    },
    {
     "ename": "AttributeError",
     "evalue": "'str' object has no attribute 'decode'",
     "output_type": "error",
     "traceback": [
      "\u001b[1;31m---------------------------------------------------------------------------\u001b[0m",
      "\u001b[1;31mAttributeError\u001b[0m                            Traceback (most recent call last)",
      "\u001b[1;32m<ipython-input-9-2d2f158a4b33>\u001b[0m in \u001b[0;36m<module>\u001b[1;34m\u001b[0m\n\u001b[0;32m     11\u001b[0m \u001b[1;33m\u001b[0m\u001b[0m\n\u001b[0;32m     12\u001b[0m     \u001b[0mz\u001b[0m\u001b[1;33m.\u001b[0m\u001b[0mextract\u001b[0m\u001b[1;33m(\u001b[0m\u001b[0mname\u001b[0m\u001b[1;33m)\u001b[0m\u001b[1;33m\u001b[0m\u001b[1;33m\u001b[0m\u001b[0m\n\u001b[1;32m---> 13\u001b[1;33m     \u001b[0mos\u001b[0m\u001b[1;33m.\u001b[0m\u001b[0mrename\u001b[0m\u001b[1;33m(\u001b[0m\u001b[0mname\u001b[0m\u001b[1;33m,\u001b[0m\u001b[0mname\u001b[0m\u001b[1;33m.\u001b[0m\u001b[0mdecode\u001b[0m\u001b[1;33m(\u001b[0m\u001b[1;34m'cp866'\u001b[0m\u001b[1;33m)\u001b[0m\u001b[1;33m)\u001b[0m\u001b[1;33m\u001b[0m\u001b[1;33m\u001b[0m\u001b[0m\n\u001b[0m\u001b[0;32m     14\u001b[0m \u001b[0mos\u001b[0m\u001b[1;33m.\u001b[0m\u001b[0mremovedirs\u001b[0m\u001b[1;33m(\u001b[0m\u001b[0mlist_files\u001b[0m\u001b[1;33m[\u001b[0m\u001b[1;36m0\u001b[0m\u001b[1;33m]\u001b[0m\u001b[1;33m)\u001b[0m\u001b[1;33m\u001b[0m\u001b[1;33m\u001b[0m\u001b[0m\n",
      "\u001b[1;31mAttributeError\u001b[0m: 'str' object has no attribute 'decode'"
     ]
    }
   ],
   "source": [
    "import zipfile \n",
    "import os\n",
    "import time \n",
    "arh = 'test-11.05.2022-15.01-Контроль МО.zip' \n",
    "z = zipfile.ZipFile(arh, 'r')\n",
    "\n",
    "list_files=list() \n",
    "for name in z.namelist(): \n",
    "    print ('1',name) \n",
    "    list_files.append(name) \n",
    "\n",
    "    z.extract(name) \n",
    "    os.rename(name, name.decode('cp866')) \n",
    "os.removedirs(list_files[0])"
   ]
  },
  {
   "cell_type": "code",
   "execution_count": 5,
   "metadata": {},
   "outputs": [
    {
     "ename": "NameError",
     "evalue": "name '__file__' is not defined",
     "output_type": "error",
     "traceback": [
      "\u001b[1;31m---------------------------------------------------------------------------\u001b[0m",
      "\u001b[1;31mNameError\u001b[0m                                 Traceback (most recent call last)",
      "\u001b[1;32m<ipython-input-5-0039db98fce1>\u001b[0m in \u001b[0;36m<module>\u001b[1;34m\u001b[0m\n\u001b[0;32m      1\u001b[0m \u001b[1;32mfrom\u001b[0m \u001b[0mpathlib\u001b[0m \u001b[1;32mimport\u001b[0m \u001b[0mPath\u001b[0m\u001b[1;33m\u001b[0m\u001b[1;33m\u001b[0m\u001b[0m\n\u001b[1;32m----> 2\u001b[1;33m \u001b[0mmain_dir\u001b[0m \u001b[1;33m=\u001b[0m \u001b[0mPath\u001b[0m\u001b[1;33m(\u001b[0m\u001b[0mos\u001b[0m\u001b[1;33m.\u001b[0m\u001b[0mpath\u001b[0m\u001b[1;33m.\u001b[0m\u001b[0mdirname\u001b[0m\u001b[1;33m(\u001b[0m\u001b[0mos\u001b[0m\u001b[1;33m.\u001b[0m\u001b[0mpath\u001b[0m\u001b[1;33m.\u001b[0m\u001b[0mabspath\u001b[0m\u001b[1;33m(\u001b[0m\u001b[0m__file__\u001b[0m\u001b[1;33m)\u001b[0m\u001b[1;33m)\u001b[0m\u001b[1;33m)\u001b[0m\u001b[1;33m.\u001b[0m\u001b[0mparent\u001b[0m\u001b[1;33m.\u001b[0m\u001b[0mabsolute\u001b[0m\u001b[1;33m(\u001b[0m\u001b[1;33m)\u001b[0m\u001b[1;33m\u001b[0m\u001b[1;33m\u001b[0m\u001b[0m\n\u001b[0m\u001b[0;32m      3\u001b[0m \u001b[0mmain_dir\u001b[0m\u001b[1;33m\u001b[0m\u001b[1;33m\u001b[0m\u001b[0m\n",
      "\u001b[1;31mNameError\u001b[0m: name '__file__' is not defined"
     ]
    }
   ],
   "source": [
    "from pathlib import Path\n",
    "main_dir = Path(os.path.dirname(os.path.abspath(__file__))).parent.absolute()\n",
    "main_dir"
   ]
  },
  {
   "cell_type": "code",
   "execution_count": 7,
   "metadata": {},
   "outputs": [
    {
     "data": {
      "text/plain": [
       "'C:\\\\Users\\\\KorneevSN\\\\Downloads\\\\КНИГИ\\\\REPO\\\\Nextcloud_connector\\\\Nextcloud_connector'"
      ]
     },
     "execution_count": 7,
     "metadata": {},
     "output_type": "execute_result"
    }
   ],
   "source": []
  },
  {
   "cell_type": "code",
   "execution_count": 25,
   "metadata": {},
   "outputs": [
    {
     "data": {
      "text/plain": [
       "'C:\\\\Users\\\\KorneevSN\\\\Downloads\\\\КНИГИ\\\\REPO\\\\Nextcloud_connector\\\\new'"
      ]
     },
     "execution_count": 25,
     "metadata": {},
     "output_type": "execute_result"
    }
   ],
   "source": [
    "new_folder = os.getcwd()+'\\\\new'\n",
    "new_folder"
   ]
  },
  {
   "cell_type": "code",
   "execution_count": 23,
   "metadata": {},
   "outputs": [
    {
     "name": "stdout",
     "output_type": "stream",
     "text": [
      "test-11.05.2022-15.01-Контроль МО\n"
     ]
    }
   ],
   "source": [
    "for file in os.listdir(new_folder):\n",
    "    print(file)\n",
    "    if file.split('.')[-1] == 'xlsx':\n",
    "        shutil.move(file, 'xlsx_folder')\n",
    "    elif file.split('.')[-1] in ['xls', 'ods']:\n",
    "        shutil.move(file, 'xls_to_xlsx_folder')\n",
    "    elif file.split('.')[-1] in ['pdf', 'jpeg', 'jpg', 'png', 'PDF', 'JPEG', 'JPG', 'PNG']:\n",
    "        shutil.move(file, 'img_folder')\n",
    "    elif file.split('.')[-1] in ['zip', 'ZIP']:\n",
    "        shutil.move(file, 'zip_folder')\n",
    "    else: shutil.move(file, 'unnow_format_folder')"
   ]
  },
  {
   "cell_type": "code",
   "execution_count": 2,
   "metadata": {},
   "outputs": [],
   "source": [
    "# os.chdir(new_folder)\n",
    "# for root, dirs, files in os.walk(\".\", topdown = False):\n",
    "#     for file in files:\n",
    "#         print(os.path.join(root, file))\n",
    "# #     for name in dirs:\n",
    "# #         print(os.path.join(root, name))"
   ]
  },
  {
   "cell_type": "code",
   "execution_count": 67,
   "metadata": {},
   "outputs": [],
   "source": [
    "def find_dir_by_name_and_extract_files(processing_dir_path,\n",
    "                                       target_dir_name = 'КЖЗ',\n",
    "                                       dir_for_replace = '',\n",
    "                                       replacing_dir_name = 'КЖЗ'):\n",
    "    \"\"\"\n",
    "    0) *dir_for_replace* - print path to parent folder for *replacing_dir_name* !!!\n",
    "       default 'None' - *replacing_dir_name* will be replaced to *processing_dir_path*   \n",
    "       \n",
    "    1) Find subdir in *processing_dir_path* by *target_dir_name*,\n",
    "    2) if need create *replacing_dir_name* as subdir in *processing_dir_path*\n",
    "    2) replace files in *target_dir_name* to *replacing_dir_name* \n",
    "    \"\"\"\n",
    "    \n",
    "    os.chdir(processing_dir_path)\n",
    "    for root, dirs, files in os.walk(os.getcwd(), topdown = False):\n",
    "        for fld in dirs:\n",
    "            abs_path_to_folder = os.path.join(root, fld)\n",
    "            \n",
    "#             print(abs_path_to_folder)\n",
    "\n",
    "            if abs_path_to_folder.split('\\\\')[-1] == target_dir_name:\n",
    "                if dir_for_replace != '':\n",
    "#                     print(dir_for_replace)\n",
    "                    shutil.move(abs_path_to_folder, dir_for_replace)\n",
    "                else: shutil.move(abs_path_to_folder, processing_dir_path +'\\\\'+ replacing_dir_name)"
   ]
  },
  {
   "cell_type": "code",
   "execution_count": 68,
   "metadata": {},
   "outputs": [],
   "source": [
    "find_dir_by_name_and_extract_files(new_folder)"
   ]
  },
  {
   "cell_type": "code",
   "execution_count": 44,
   "metadata": {},
   "outputs": [
    {
     "name": "stdout",
     "output_type": "stream",
     "text": [
      "C:\\Users\\KorneevSN\\Downloads\\КНИГИ\\REPO\\Nextcloud_connector\\new\\Контроль МО\\07.05.2022\\КЖЗ\n",
      "C:\\Users\\KorneevSN\\Downloads\\КНИГИ\\REPO\\Nextcloud_connector\\new\\Контроль МО\\05.05.2022\n",
      "C:\\Users\\KorneevSN\\Downloads\\КНИГИ\\REPO\\Nextcloud_connector\\new\\Контроль МО\\06.05.2022\n",
      "C:\\Users\\KorneevSN\\Downloads\\КНИГИ\\REPO\\Nextcloud_connector\\new\\Контроль МО\\07.05.2022\n",
      "C:\\Users\\KorneevSN\\Downloads\\КНИГИ\\REPO\\Nextcloud_connector\\new\\Контроль МО\\11.05.2022\n",
      "C:\\Users\\KorneevSN\\Downloads\\КНИГИ\\REPO\\Nextcloud_connector\\new\\Контроль МО\n"
     ]
    }
   ],
   "source": [
    "# find dir by name, extract files \n",
    "\n",
    "\n",
    "def find_dir_by_name_and_extract_files(processing_dir_path,\n",
    "                                       target_dir_name,\n",
    "                                       replacing_dir_name):\n",
    "    os.chdir(processing_dir_path)\n",
    "    for root, dirs, files in os.walk(os.getcwd(), topdown = False):\n",
    "        for fld in dirs:\n",
    "            abs_path_to_folder = os.path.join(root, fld)\n",
    "            print(abs_path_to_folder)\n",
    "            if abs_path_to_folder.split('\\\\')[-1] == 'КЖЗ':\n",
    "                shutil.move(abs_path_to_folder, 'КЖЗ')"
   ]
  },
  {
   "cell_type": "code",
   "execution_count": 68,
   "metadata": {},
   "outputs": [],
   "source": [
    "########### done modules #################################\n",
    "import os\n",
    "import shutil\n",
    "import zipfile\n",
    "\n",
    "########### DEF unpack_zipfile #################################\n",
    "def unpack_zipfile(filename, extract_dir, encoding='cp437'):\n",
    "    with zipfile.ZipFile(filename) as archive:\n",
    "        for entry in archive.infolist():\n",
    "            try:\n",
    "                name = entry.filename.encode('cp437').decode(encoding)  # reencode!!!\n",
    "            except:\n",
    "                name = entry.filename.encode('cp866').decode(encoding)  # reencode!!!\n",
    "\n",
    "            # don't extract absolute paths or ones with .. in them\n",
    "            if name.startswith('/') or '..' in name:\n",
    "                continue\n",
    "\n",
    "            target = os.path.join(extract_dir, *name.split('/'))    \n",
    "            os.makedirs(os.path.dirname(target), exist_ok=True)\n",
    "            if not entry.is_dir():  # file\n",
    "                with archive.open(entry) as source, open(target, 'wb') as dest:\n",
    "                    shutil.copyfileobj(source, dest)\n",
    "\n",
    "########### RUN unpack_zipfile #################################\n",
    "unpack_zipfile('23.05.2022-15.01-Контроль МО.zip', 'unzip', encoding='cp866')"
   ]
  },
  {
   "cell_type": "code",
   "execution_count": 56,
   "metadata": {},
   "outputs": [
    {
     "ename": "FileNotFoundError",
     "evalue": "[Errno 2] No such file or directory: 'test-11.05.2022-15.01-Контроль МО.zip'",
     "output_type": "error",
     "traceback": [
      "\u001b[1;31m---------------------------------------------------------------------------\u001b[0m",
      "\u001b[1;31mFileNotFoundError\u001b[0m                         Traceback (most recent call last)",
      "\u001b[1;32m<ipython-input-56-112710ab0296>\u001b[0m in \u001b[0;36m<module>\u001b[1;34m\u001b[0m\n\u001b[0;32m     21\u001b[0m \u001b[1;33m\u001b[0m\u001b[0m\n\u001b[0;32m     22\u001b[0m \u001b[1;31m########### RUN unpack_zipfile #################################\u001b[0m\u001b[1;33m\u001b[0m\u001b[1;33m\u001b[0m\u001b[1;33m\u001b[0m\u001b[0m\n\u001b[1;32m---> 23\u001b[1;33m \u001b[0munpack_zipfile\u001b[0m\u001b[1;33m(\u001b[0m\u001b[1;34m'test-11.05.2022-15.01-Контроль МО.zip'\u001b[0m\u001b[1;33m,\u001b[0m \u001b[1;34m'unpacked'\u001b[0m\u001b[1;33m,\u001b[0m \u001b[0mencoding\u001b[0m\u001b[1;33m=\u001b[0m\u001b[1;34m'cp866'\u001b[0m\u001b[1;33m)\u001b[0m\u001b[1;33m\u001b[0m\u001b[1;33m\u001b[0m\u001b[0m\n\u001b[0m\u001b[0;32m     24\u001b[0m \u001b[1;33m\u001b[0m\u001b[0m\n\u001b[0;32m     25\u001b[0m \u001b[1;31m########### unpacked_folder #################################\u001b[0m\u001b[1;33m\u001b[0m\u001b[1;33m\u001b[0m\u001b[1;33m\u001b[0m\u001b[0m\n",
      "\u001b[1;32m<ipython-input-56-112710ab0296>\u001b[0m in \u001b[0;36munpack_zipfile\u001b[1;34m(filename, extract_dir, encoding)\u001b[0m\n\u001b[0;32m      6\u001b[0m \u001b[1;31m########### DEF unpack_zipfile #################################\u001b[0m\u001b[1;33m\u001b[0m\u001b[1;33m\u001b[0m\u001b[1;33m\u001b[0m\u001b[0m\n\u001b[0;32m      7\u001b[0m \u001b[1;32mdef\u001b[0m \u001b[0munpack_zipfile\u001b[0m\u001b[1;33m(\u001b[0m\u001b[0mfilename\u001b[0m\u001b[1;33m,\u001b[0m \u001b[0mextract_dir\u001b[0m\u001b[1;33m,\u001b[0m \u001b[0mencoding\u001b[0m\u001b[1;33m=\u001b[0m\u001b[1;34m'cp437'\u001b[0m\u001b[1;33m)\u001b[0m\u001b[1;33m:\u001b[0m\u001b[1;33m\u001b[0m\u001b[1;33m\u001b[0m\u001b[0m\n\u001b[1;32m----> 8\u001b[1;33m     \u001b[1;32mwith\u001b[0m \u001b[0mzipfile\u001b[0m\u001b[1;33m.\u001b[0m\u001b[0mZipFile\u001b[0m\u001b[1;33m(\u001b[0m\u001b[0mfilename\u001b[0m\u001b[1;33m)\u001b[0m \u001b[1;32mas\u001b[0m \u001b[0marchive\u001b[0m\u001b[1;33m:\u001b[0m\u001b[1;33m\u001b[0m\u001b[1;33m\u001b[0m\u001b[0m\n\u001b[0m\u001b[0;32m      9\u001b[0m         \u001b[1;32mfor\u001b[0m \u001b[0mentry\u001b[0m \u001b[1;32min\u001b[0m \u001b[0marchive\u001b[0m\u001b[1;33m.\u001b[0m\u001b[0minfolist\u001b[0m\u001b[1;33m(\u001b[0m\u001b[1;33m)\u001b[0m\u001b[1;33m:\u001b[0m\u001b[1;33m\u001b[0m\u001b[1;33m\u001b[0m\u001b[0m\n\u001b[0;32m     10\u001b[0m             \u001b[0mname\u001b[0m \u001b[1;33m=\u001b[0m \u001b[0mentry\u001b[0m\u001b[1;33m.\u001b[0m\u001b[0mfilename\u001b[0m\u001b[1;33m.\u001b[0m\u001b[0mencode\u001b[0m\u001b[1;33m(\u001b[0m\u001b[1;34m'cp437'\u001b[0m\u001b[1;33m)\u001b[0m\u001b[1;33m.\u001b[0m\u001b[0mdecode\u001b[0m\u001b[1;33m(\u001b[0m\u001b[0mencoding\u001b[0m\u001b[1;33m)\u001b[0m  \u001b[1;31m# reencode!!!\u001b[0m\u001b[1;33m\u001b[0m\u001b[1;33m\u001b[0m\u001b[0m\n",
      "\u001b[1;32mC:\\ProgramData\\Anaconda3\\lib\\zipfile.py\u001b[0m in \u001b[0;36m__init__\u001b[1;34m(self, file, mode, compression, allowZip64, compresslevel, strict_timestamps)\u001b[0m\n\u001b[0;32m   1248\u001b[0m             \u001b[1;32mwhile\u001b[0m \u001b[1;32mTrue\u001b[0m\u001b[1;33m:\u001b[0m\u001b[1;33m\u001b[0m\u001b[1;33m\u001b[0m\u001b[0m\n\u001b[0;32m   1249\u001b[0m                 \u001b[1;32mtry\u001b[0m\u001b[1;33m:\u001b[0m\u001b[1;33m\u001b[0m\u001b[1;33m\u001b[0m\u001b[0m\n\u001b[1;32m-> 1250\u001b[1;33m                     \u001b[0mself\u001b[0m\u001b[1;33m.\u001b[0m\u001b[0mfp\u001b[0m \u001b[1;33m=\u001b[0m \u001b[0mio\u001b[0m\u001b[1;33m.\u001b[0m\u001b[0mopen\u001b[0m\u001b[1;33m(\u001b[0m\u001b[0mfile\u001b[0m\u001b[1;33m,\u001b[0m \u001b[0mfilemode\u001b[0m\u001b[1;33m)\u001b[0m\u001b[1;33m\u001b[0m\u001b[1;33m\u001b[0m\u001b[0m\n\u001b[0m\u001b[0;32m   1251\u001b[0m                 \u001b[1;32mexcept\u001b[0m \u001b[0mOSError\u001b[0m\u001b[1;33m:\u001b[0m\u001b[1;33m\u001b[0m\u001b[1;33m\u001b[0m\u001b[0m\n\u001b[0;32m   1252\u001b[0m                     \u001b[1;32mif\u001b[0m \u001b[0mfilemode\u001b[0m \u001b[1;32min\u001b[0m \u001b[0mmodeDict\u001b[0m\u001b[1;33m:\u001b[0m\u001b[1;33m\u001b[0m\u001b[1;33m\u001b[0m\u001b[0m\n",
      "\u001b[1;31mFileNotFoundError\u001b[0m: [Errno 2] No such file or directory: 'test-11.05.2022-15.01-Контроль МО.zip'"
     ]
    }
   ],
   "source": [
    "########### done modules #################################\n",
    "import os\n",
    "import shutil\n",
    "import zipfile\n",
    "\n",
    "########### DEF unpack_zipfile #################################\n",
    "def unpack_zipfile(filename, extract_dir, encoding='cp437'):\n",
    "    with zipfile.ZipFile(filename) as archive:\n",
    "        for entry in archive.infolist():\n",
    "            name = entry.filename.encode('cp437').decode(encoding)  # reencode!!!\n",
    "\n",
    "            # don't extract absolute paths or ones with .. in them\n",
    "            if name.startswith('/') or '..' in name:\n",
    "                continue\n",
    "\n",
    "            target = os.path.join(extract_dir, *name.split('/'))    \n",
    "            os.makedirs(os.path.dirname(target), exist_ok=True)\n",
    "            if not entry.is_dir():  # file\n",
    "                with archive.open(entry) as source, open(target, 'wb') as dest:\n",
    "                    shutil.copyfileobj(source, dest)\n",
    "\n",
    "########### RUN unpack_zipfile #################################\n",
    "unpack_zipfile('23.05.2022-15.01-Контроль МО.zip', 'unpacked', encoding='cp866')\n",
    "\n",
    "########### unpacked_folder #################################\n",
    "unpacked_folder = os.getcwd()+'\\\\unpacked'\n",
    "\n",
    "\n",
    "\n",
    "########### DEF find_dir_by_name_and_extract_files #################################\n",
    "def find_dir_by_name_and_extract_files(processing_dir_path,\n",
    "                                       target_dir_name = 'КЖЗ',\n",
    "                                       dir_for_replace = '',\n",
    "                                       replacing_dir_name = 'КЖЗ'):\n",
    "    \"\"\"\n",
    "    0) *dir_for_replace* - print path to parent folder for *replacing_dir_name* !!!\n",
    "       default 'None' - *replacing_dir_name* will be replaced to *processing_dir_path*   \n",
    "       \n",
    "    1) Find subdir in *processing_dir_path* by *target_dir_name*,\n",
    "    2) if need create *replacing_dir_name* as subdir in *processing_dir_path*\n",
    "    2) replace files in *target_dir_name* to *replacing_dir_name* \n",
    "    \"\"\"\n",
    "    \n",
    "#     os.chdir(processing_dir_path)\n",
    "    for root, dirs, files in os.walk(os.getcwd(), topdown = False):\n",
    "        for fld in dirs:\n",
    "            abs_path_to_folder = os.path.join(root, fld)\n",
    "            \n",
    "#             print(abs_path_to_folder)\n",
    "\n",
    "            if abs_path_to_folder.split('\\\\')[-1] == target_dir_name:\n",
    "                if dir_for_replace != '':\n",
    "#                     print(dir_for_replace)\n",
    "                    shutil.move(abs_path_to_folder, dir_for_replace)\n",
    "                else: shutil.move(abs_path_to_folder, processing_dir_path +'\\\\'+ replacing_dir_name)\n",
    "\n",
    "########### RUN find_dir_by_name_and_extract_files #################################\n",
    "find_dir_by_name_and_extract_files(unpacked_folder)\n",
    "\n",
    "\n",
    "\n",
    "########## sort by type ##########################################################\n",
    "########## TO DO: create sort func ##########################################################\n",
    "for root, dirs, files in os.walk(unpacked_folder, topdown = False):\n",
    "    for fld in dirs:\n",
    "        if 'Контроль МО' not in fld and fld != 'КЖЗ':\n",
    "            abs_path_to_folder = os.path.join(root, fld)\n",
    "            print(abs_path_to_folder)     \n",
    "            for file in os.listdir(abs_path_to_folder):\n",
    "                path_to_file = os.path.join(abs_path_to_folder, file)\n",
    "                \n",
    "                if file.split('.')[-1] in ['xlsx', 'XLSX']:\n",
    "                    try: os.mkdir(os.path.join(unpacked_folder, 'xlsx_folder'))\n",
    "                    except: pass\n",
    "                    os.replace(path_to_file, unpacked_folder +'\\\\'+ 'xlsx_folder\\\\' + file)\n",
    "                elif file.split('.')[-1] in ['xls', 'ods', 'XLSX', 'ODS']:\n",
    "                    try: os.mkdir(os.path.join(unpacked_folder, 'xls_to_xlsx_folder'))\n",
    "                    except: pass\n",
    "                    os.replace(path_to_file, unpacked_folder +'\\\\'+ 'xls_to_xlsx_folder\\\\' + file)\n",
    "                elif file.split('.')[-1] in ['pdf', 'jpeg', 'jpg', 'png', 'PDF', 'JPEG', 'JPG', 'PNG']:\n",
    "                    try: os.mkdir(os.path.join(unpacked_folder, 'img_folder'))\n",
    "                    except: pass\n",
    "                    os.replace(path_to_file, unpacked_folder +'\\\\'+ 'img_folder\\\\' + file)\n",
    "                elif file.split('.')[-1] in ['zip', 'ZIP']:\n",
    "                    try: os.mkdir(os.path.join(unpacked_folder, 'zip_folder'))\n",
    "                    except: pass\n",
    "                    os.replace(path_to_file, unpacked_folder +'\\\\'+ 'zip_folder\\\\' + file)\n",
    "                else: \n",
    "                    try: os.mkdir(os.path.join(unpacked_folder, 'unnow_format_folder'))\n",
    "                    except: pass\n",
    "                    os.replace(path_to_file, unpacked_folder +'\\\\'+ 'unnow_format_folder\\\\' + file)\n",
    "\n",
    "                    \n",
    "                    \n",
    "########## del ##########################################################   \n",
    "########## TO DO: create del func ##########################################################\n",
    "for root, dirs, files in os.walk(unpacked_folder, topdown = False):\n",
    "    for fld in dirs:\n",
    "        if 'Контроль МО' in fld:\n",
    "            print(os.path.join(root, fld))\n",
    "            shutil.rmtree(os.path.join(root, fld), ignore_errors=True)"
   ]
  },
  {
   "cell_type": "code",
   "execution_count": 75,
   "metadata": {},
   "outputs": [
    {
     "data": {
      "text/plain": [
       "'C:\\\\Users\\\\KorneevSN\\\\Downloads\\\\КНИГИ\\\\REPO\\\\Nextcloud_connector\\\\unpacked\\\\xls_to_xlsx_folder\\\\'"
      ]
     },
     "execution_count": 75,
     "metadata": {},
     "output_type": "execute_result"
    }
   ],
   "source": [
    "unpacked_folder +'\\\\'+ 'xls_to_xlsx_folder\\\\'"
   ]
  },
  {
   "cell_type": "code",
   "execution_count": 76,
   "metadata": {},
   "outputs": [
    {
     "ename": "com_error",
     "evalue": "(-2147352567, 'Ошибка.', (0, 'Microsoft Excel', 'Система Office обнаружила проблему с этим файлом. Чтобы обеспечить защиту компьютера, этот файл не будет открыт.', 'xlmain11.chm', 0, -2146827284), None)",
     "output_type": "error",
     "traceback": [
      "\u001b[1;31m---------------------------------------------------------------------------\u001b[0m",
      "\u001b[1;31mcom_error\u001b[0m                                 Traceback (most recent call last)",
      "\u001b[1;32m<ipython-input-76-028f17ded224>\u001b[0m in \u001b[0;36m<module>\u001b[1;34m\u001b[0m\n\u001b[0;32m     43\u001b[0m         \u001b[1;31m#excel = win32com.client.gencache.EnsureDispatch('Excel.Application')\u001b[0m\u001b[1;33m\u001b[0m\u001b[1;33m\u001b[0m\u001b[1;33m\u001b[0m\u001b[0m\n\u001b[0;32m     44\u001b[0m         \u001b[1;31m#excel = win32.gencache.EnsureDispatch('Excel.Application')\u001b[0m\u001b[1;33m\u001b[0m\u001b[1;33m\u001b[0m\u001b[1;33m\u001b[0m\u001b[0m\n\u001b[1;32m---> 45\u001b[1;33m         \u001b[0mwb\u001b[0m \u001b[1;33m=\u001b[0m \u001b[0mexcel\u001b[0m\u001b[1;33m.\u001b[0m\u001b[0mWorkbooks\u001b[0m\u001b[1;33m.\u001b[0m\u001b[0mOpen\u001b[0m\u001b[1;33m(\u001b[0m\u001b[0mfile\u001b[0m\u001b[1;33m)\u001b[0m\u001b[1;33m\u001b[0m\u001b[1;33m\u001b[0m\u001b[0m\n\u001b[0m\u001b[0;32m     46\u001b[0m         \u001b[0mexcel\u001b[0m\u001b[1;33m.\u001b[0m\u001b[0mDisplayAlerts\u001b[0m \u001b[1;33m=\u001b[0m \u001b[1;32mFalse\u001b[0m\u001b[1;33m\u001b[0m\u001b[1;33m\u001b[0m\u001b[0m\n\u001b[0;32m     47\u001b[0m         \u001b[0mwb\u001b[0m\u001b[1;33m.\u001b[0m\u001b[0mSaveAs\u001b[0m\u001b[1;33m(\u001b[0m\u001b[0mpath\u001b[0m\u001b[1;33m+\u001b[0m\u001b[1;34m\"\\\\\"\u001b[0m\u001b[1;33m+\u001b[0m\u001b[1;34m\"MOD-\"\u001b[0m\u001b[1;33m+\u001b[0m\u001b[0mfilename\u001b[0m\u001b[1;33m+\u001b[0m\u001b[1;34m\".xlsx\"\u001b[0m\u001b[1;33m,\u001b[0m \u001b[0mFileFormat\u001b[0m \u001b[1;33m=\u001b[0m \u001b[1;36m51\u001b[0m\u001b[1;33m)\u001b[0m    \u001b[1;31m#FileFormat = 51 is for .xlsx extension #FileFormat = 56 is for .xls extension\u001b[0m\u001b[1;33m\u001b[0m\u001b[1;33m\u001b[0m\u001b[0m\n",
      "\u001b[1;32mC:\\ProgramData\\Anaconda3\\lib\\site-packages\\win32com\\client\\dynamic.py\u001b[0m in \u001b[0;36mOpen\u001b[1;34m(self, Filename, UpdateLinks, ReadOnly, Format, Password, WriteResPassword, IgnoreReadOnlyRecommended, Origin, Delimiter, Editable, Notify, Converter, AddToMru, Local, CorruptLoad)\u001b[0m\n",
      "\u001b[1;31mcom_error\u001b[0m: (-2147352567, 'Ошибка.', (0, 'Microsoft Excel', 'Система Office обнаружила проблему с этим файлом. Чтобы обеспечить защиту компьютера, этот файл не будет открыт.', 'xlmain11.chm', 0, -2146827284), None)"
     ]
    }
   ],
   "source": [
    "import os\n",
    "from time import sleep\n",
    "import stat\n",
    "import win32com.client\n",
    "import win32process\n",
    "import win32gui\n",
    "import win32api\n",
    "import win32con\n",
    "#print(win32com.__gen_path__)\n",
    "\n",
    "def close_excel_by_force(excel):\n",
    "    # Get the window's process id's\n",
    "    hwnd = excel.Hwnd\n",
    "    t, p = win32process.GetWindowThreadProcessId(hwnd)\n",
    "    # Ask window nicely to close\n",
    "    win32gui.PostMessage(hwnd, win32con.WM_CLOSE, 0, 0)\n",
    "    # Allow some time for app to close\n",
    "    sleep(10)\n",
    "    # If the application didn't close, force close\n",
    "    try:\n",
    "        handle = win32api.OpenProcess(win32con.PROCESS_TERMINATE, 0, p)\n",
    "        if handle:\n",
    "            win32api.TerminateProcess(handle, 0)\n",
    "            win32api.CloseHandle(handle)\n",
    "    except:\n",
    "        pass\n",
    "\n",
    "# path = os.getcwd()\n",
    "path = unpacked_folder +'\\\\'+ 'xls_to_xlsx_folder\\\\'\n",
    "files_in_folder = os.listdir(path)\n",
    "mass = []\n",
    "\n",
    "for f in files_in_folder:\n",
    "    file = path+\"\\\\\"+f\n",
    "    if (\".xlsx\" not in f) and ((\".xls\" in f) or (\".ods\" in f)):\n",
    "        mass.append(file)\n",
    "        res = \".\" + f.split('.')[-1]\n",
    "        filename = f.replace(res, \"\")\n",
    "        #print(filename)\n",
    "\n",
    "        excel = win32com.client.Dispatch('Excel.Application')\n",
    "        #excel = win32com.client.dynamic.Dispatch('Excel.Application')\n",
    "        #excel = win32com.client.gencache.EnsureDispatch('Excel.Application')\n",
    "        #excel = win32.gencache.EnsureDispatch('Excel.Application')\n",
    "        wb = excel.Workbooks.Open(file)\n",
    "        excel.DisplayAlerts = False\n",
    "        wb.SaveAs(path+\"\\\\\"+\"MOD-\"+filename+\".xlsx\", FileFormat = 51)    #FileFormat = 51 is for .xlsx extension #FileFormat = 56 is for .xls extension\n",
    "        wb.Close()\n",
    "        \n",
    "        del wb\n",
    "        excel.Application.Quit()\n",
    "        excel.Quit()\n",
    "        close_excel_by_force(excel)\n",
    "        del excel\n",
    "\n",
    "del files_in_folder, path\n",
    "sleep(2)\n",
    "for i in mass:\n",
    "    os.chmod(i, stat.S_IWRITE)\n",
    "    os.remove(i)\n",
    "\n",
    "print('Completed!')"
   ]
  },
  {
   "cell_type": "code",
   "execution_count": 74,
   "metadata": {},
   "outputs": [
    {
     "data": {
      "text/plain": [
       "['06.05.2022_ГП 170_Контроль_МО-.xls']"
      ]
     },
     "execution_count": 74,
     "metadata": {},
     "output_type": "execute_result"
    }
   ],
   "source": [
    "path = unpacked_folder +'\\\\'+ 'xls_to_xlsx_folder\\\\'\n",
    "files_in_folder = os.listdir(path)\n",
    "files_in_folder"
   ]
  },
  {
   "cell_type": "code",
   "execution_count": null,
   "metadata": {},
   "outputs": [],
   "source": [
    "def check_headers(path, file, dict):\n",
    "    file = os.path.join(path, file)\n",
    "    try:\n",
    "        excel_app = xw.App(visible=False)\n",
    "        excel_app.display_alerts = False\n",
    "        wb = xw.Book(file)\n",
    "        mass = []\n",
    "        for ws in wb.sheets:\n",
    "            for i in range(1, 20):\n",
    "                try:\n",
    "                    values = ws.range((i, 1), (i, 50)).value\n",
    "                    for value in values:\n",
    "                        if value == 'Наименование \"Павильона Здоровья\" в парке, где выявлено подозрение на ЗНО':\n",
    "                            wb.close()\n",
    "                            return \"ЦАОП\"\n",
    "                        mass.append(value)\n",
    "                except:\n",
    "                    pass\n",
    "\n",
    "        wb.close()\n",
    "        # xw.apps.active.api.quit()\n",
    "\n",
    "        for i in mass:\n",
    "            if i in dict.keys():\n",
    "                return dict[i]\n",
    "        return 'Контроль_МО-Прочие_отсортированные_файлы'\n",
    "    except:\n",
    "        return 'Контроль_МО-Прочие_отсортированные_файлы'"
   ]
  }
 ],
 "metadata": {
  "kernelspec": {
   "display_name": "Python 3",
   "language": "python",
   "name": "python3"
  },
  "language_info": {
   "codemirror_mode": {
    "name": "ipython",
    "version": 3
   },
   "file_extension": ".py",
   "mimetype": "text/x-python",
   "name": "python",
   "nbconvert_exporter": "python",
   "pygments_lexer": "ipython3",
   "version": "3.8.3"
  }
 },
 "nbformat": 4,
 "nbformat_minor": 4
}
