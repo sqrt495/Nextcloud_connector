{
 "cells": [
  {
   "cell_type": "code",
   "execution_count": 231,
   "metadata": {},
   "outputs": [
    {
     "data": {
      "text/plain": [
       "('C:\\\\Users\\\\KorneevSN\\\\Downloads\\\\КНИГИ\\\\REPO\\\\Nextcloud_connector\\\\Nextcloud_connector\\\\',\n",
       " 'C:\\\\Users\\\\KorneevSN\\\\Downloads\\\\КНИГИ\\\\REPO\\\\Nextcloud_connector\\\\')"
      ]
     },
     "execution_count": 231,
     "metadata": {},
     "output_type": "execute_result"
    }
   ],
   "source": [
    "import zipfile\n",
    "import os\n",
    "import xlwings as xw\n",
    "import psutil\n",
    "import os\n",
    "import shutil\n",
    "import zipfile\n",
    "from pathlib import Path\n",
    "\n",
    "\n",
    "not_table_file_types = ['pdf', 'jpeg', 'jpg', 'png', 'zip', 'PDF', 'JPEG', 'JPG', 'PNG', 'ZIP']\n",
    "arch_file_types = ['zip', 'ZIP']\n",
    "table_file_types = ['xlsx', 'xlsm', 'xls', 'ods', 'XLSX', 'XLSM', 'XLS', 'ODS']\n",
    "\n",
    "current_dir = os.getcwd()+'\\\\'\n",
    "main_dir = str(Path(os.getcwd()).parent)+'\\\\'\n",
    "current_dir, main_dir"
   ]
  },
  {
   "cell_type": "code",
   "execution_count": 232,
   "metadata": {},
   "outputs": [],
   "source": [
    "########### done modules #################################\n",
    "import os\n",
    "import shutil\n",
    "import zipfile\n",
    "\n",
    "########### DEF unpack_zipfile #################################\n",
    "def unpack_zipfile(dir_with_archive, extract_dir='unzip', encoding='cp866'):\n",
    "    for file in os.listdir(dir_with_archive):\n",
    "        if '.zip' in file:\n",
    "            with zipfile.ZipFile(dir_with_archive+file) as archive:\n",
    "                for entry in archive.infolist():\n",
    "                    try:\n",
    "                        name = entry.filename.encode('cp437').decode(encoding)\n",
    "                    except:\n",
    "                        name = entry.filename.encode('cp866').decode('cp866')\n",
    "                    target = os.path.join(extract_dir, *name.split('/'))    \n",
    "                    os.makedirs(os.path.dirname(target), exist_ok=True)\n",
    "                    if not entry.is_dir():  # file\n",
    "                        with archive.open(entry) as source, open(target, 'wb') as dest:\n",
    "                            shutil.copyfileobj(source, dest)\n",
    "\n"
   ]
  },
  {
   "cell_type": "code",
   "execution_count": 233,
   "metadata": {},
   "outputs": [],
   "source": [
    "########### RUN unpack_zipfile #################################\n",
    "unpack_zipfile(main_dir)"
   ]
  },
  {
   "cell_type": "code",
   "execution_count": 259,
   "metadata": {},
   "outputs": [],
   "source": [
    "# формирование словаря, где ключ = путь_к_паке, а значения = список имено файлов в папке\n",
    "\n",
    "unpacked_dict = {}\n",
    "unpacked_dir_tree = os.walk(current_dir+'unzip'+'\\\\')\n",
    "\n",
    "\n",
    "for i in unpacked_dir_tree:\n",
    "    dir_structure = list(i)\n",
    "    if dir_structure[-1]:\n",
    "        unpacked_dict[dir_structure[0]+'\\\\'] = dir_structure[-1]"
   ]
  },
  {
   "cell_type": "code",
   "execution_count": 279,
   "metadata": {
    "scrolled": true
   },
   "outputs": [],
   "source": [
    "# unpacked_dict"
   ]
  },
  {
   "cell_type": "code",
   "execution_count": 276,
   "metadata": {},
   "outputs": [
    {
     "name": "stdout",
     "output_type": "stream",
     "text": [
      "C:\\Users\\KorneevSN\\Downloads\\КНИГИ\\REPO\\Nextcloud_connector\\Nextcloud_connector\\unzip\\Контроль МО\\КЖЗ.zip\n"
     ]
    }
   ],
   "source": [
    "# поиск архивов в папке unzip\n",
    "\n",
    "for k,v in unpacked_dict.items():\n",
    "    res = [string for string in v if '.zip' in string]\n",
    "    for _ in res:\n",
    "        match = os.path.join(k, _)\n",
    "print(match)"
   ]
  },
  {
   "cell_type": "code",
   "execution_count": 262,
   "metadata": {},
   "outputs": [
    {
     "name": "stdout",
     "output_type": "stream",
     "text": [
      "C:\\Users\\KorneevSN\\Downloads\\КНИГИ\\REPO\\Nextcloud_connector\\Nextcloud_connector\\unzip\\Контроль МО\\20.05.2022\\КЖЗ 19.05.2022\\19.05.2022\\\n",
      "\n",
      "['19.05.2022_ГП_контроль_МО_____КЖЗ.xlsx', 'игнатова.pdf', 'москаленко.pdf', 'некрасова.pdf', 'новикова.pdf', 'терехина.pdf', 'юсупова.pdf']\n",
      "C:\\Users\\KorneevSN\\Downloads\\КНИГИ\\REPO\\Nextcloud_connector\\Nextcloud_connector\\unzip\\Контроль МО\\23.05.2022\\КЖЗ\\20.05.2022\\\n",
      "\n",
      "['20.05.2022_ГП_Контроль_МО_____КЖЗ.xlsx', 'ильина.pdf', 'ким.pdf', 'коротаева.pdf', 'некрасова.pdf', 'семанина.pdf', 'шмагина.pdf']\n"
     ]
    }
   ],
   "source": [
    "# поиск папок КЖЗ (и содержимого этих папок) в папке unzip\n",
    "\n",
    "for k,v in unpacked_dict.items():\n",
    "    if 'КЖЗ' in k:\n",
    "        print(k,v,sep='\\n\\n')"
   ]
  },
  {
   "cell_type": "markdown",
   "metadata": {},
   "source": [
    "to do\n",
    "\n",
    "1. распаковать архивы найденные в папках\n",
    "2. маркировать файлы КЖЗ\n",
    "2. сортировка файлов по папкам по расширению и содержимому таблиц\n"
   ]
  },
  {
   "cell_type": "code",
   "execution_count": null,
   "metadata": {},
   "outputs": [],
   "source": []
  },
  {
   "cell_type": "code",
   "execution_count": 186,
   "metadata": {},
   "outputs": [
    {
     "ename": "Error",
     "evalue": "Destination path 'C:\\Users\\KorneevSN\\Downloads\\КНИГИ\\REPO\\Nextcloud_connector\\Nextcloud_connector\\unpacked\\Контроль МО' already exists",
     "output_type": "error",
     "traceback": [
      "\u001b[1;31m---------------------------------------------------------------------------\u001b[0m",
      "\u001b[1;31mError\u001b[0m                                     Traceback (most recent call last)",
      "\u001b[1;32m<ipython-input-186-56b2d4820f97>\u001b[0m in \u001b[0;36m<module>\u001b[1;34m\u001b[0m\n\u001b[0;32m      1\u001b[0m \u001b[0msource\u001b[0m \u001b[1;33m=\u001b[0m \u001b[0mcurrent_dir\u001b[0m\u001b[1;33m+\u001b[0m\u001b[1;34m'unpacked'\u001b[0m\u001b[1;33m+\u001b[0m\u001b[1;34m'\\\\'\u001b[0m\u001b[1;33m\u001b[0m\u001b[1;33m\u001b[0m\u001b[0m\n\u001b[0;32m      2\u001b[0m \u001b[1;32mfor\u001b[0m \u001b[0m_\u001b[0m \u001b[1;32min\u001b[0m \u001b[0mos\u001b[0m\u001b[1;33m.\u001b[0m\u001b[0mlistdir\u001b[0m\u001b[1;33m(\u001b[0m\u001b[0msource\u001b[0m\u001b[1;33m)\u001b[0m\u001b[1;33m:\u001b[0m\u001b[1;33m\u001b[0m\u001b[1;33m\u001b[0m\u001b[0m\n\u001b[1;32m----> 3\u001b[1;33m     \u001b[0mshutil\u001b[0m\u001b[1;33m.\u001b[0m\u001b[0mmove\u001b[0m\u001b[1;33m(\u001b[0m\u001b[0msource\u001b[0m\u001b[1;33m+\u001b[0m\u001b[1;34m'\\\\'\u001b[0m\u001b[1;33m+\u001b[0m\u001b[0m_\u001b[0m\u001b[1;33m,\u001b[0m \u001b[0msource\u001b[0m\u001b[1;33m)\u001b[0m\u001b[1;33m\u001b[0m\u001b[1;33m\u001b[0m\u001b[0m\n\u001b[0m",
      "\u001b[1;32mC:\\ProgramData\\Anaconda3\\lib\\shutil.py\u001b[0m in \u001b[0;36mmove\u001b[1;34m(src, dst, copy_function)\u001b[0m\n\u001b[0;32m    784\u001b[0m         \u001b[0mreal_dst\u001b[0m \u001b[1;33m=\u001b[0m \u001b[0mos\u001b[0m\u001b[1;33m.\u001b[0m\u001b[0mpath\u001b[0m\u001b[1;33m.\u001b[0m\u001b[0mjoin\u001b[0m\u001b[1;33m(\u001b[0m\u001b[0mdst\u001b[0m\u001b[1;33m,\u001b[0m \u001b[0m_basename\u001b[0m\u001b[1;33m(\u001b[0m\u001b[0msrc\u001b[0m\u001b[1;33m)\u001b[0m\u001b[1;33m)\u001b[0m\u001b[1;33m\u001b[0m\u001b[1;33m\u001b[0m\u001b[0m\n\u001b[0;32m    785\u001b[0m         \u001b[1;32mif\u001b[0m \u001b[0mos\u001b[0m\u001b[1;33m.\u001b[0m\u001b[0mpath\u001b[0m\u001b[1;33m.\u001b[0m\u001b[0mexists\u001b[0m\u001b[1;33m(\u001b[0m\u001b[0mreal_dst\u001b[0m\u001b[1;33m)\u001b[0m\u001b[1;33m:\u001b[0m\u001b[1;33m\u001b[0m\u001b[1;33m\u001b[0m\u001b[0m\n\u001b[1;32m--> 786\u001b[1;33m             \u001b[1;32mraise\u001b[0m \u001b[0mError\u001b[0m\u001b[1;33m(\u001b[0m\u001b[1;34m\"Destination path '%s' already exists\"\u001b[0m \u001b[1;33m%\u001b[0m \u001b[0mreal_dst\u001b[0m\u001b[1;33m)\u001b[0m\u001b[1;33m\u001b[0m\u001b[1;33m\u001b[0m\u001b[0m\n\u001b[0m\u001b[0;32m    787\u001b[0m     \u001b[1;32mtry\u001b[0m\u001b[1;33m:\u001b[0m\u001b[1;33m\u001b[0m\u001b[1;33m\u001b[0m\u001b[0m\n\u001b[0;32m    788\u001b[0m         \u001b[0mos\u001b[0m\u001b[1;33m.\u001b[0m\u001b[0mrename\u001b[0m\u001b[1;33m(\u001b[0m\u001b[0msrc\u001b[0m\u001b[1;33m,\u001b[0m \u001b[0mreal_dst\u001b[0m\u001b[1;33m)\u001b[0m\u001b[1;33m\u001b[0m\u001b[1;33m\u001b[0m\u001b[0m\n",
      "\u001b[1;31mError\u001b[0m: Destination path 'C:\\Users\\KorneevSN\\Downloads\\КНИГИ\\REPO\\Nextcloud_connector\\Nextcloud_connector\\unpacked\\Контроль МО' already exists"
     ]
    }
   ],
   "source": [
    "source = current_dir+'unzip'+'\\\\'\n",
    "for _ in os.listdir(source):\n",
    "    shutil.move(source+'\\\\'+_, 'unpack') "
   ]
  },
  {
   "cell_type": "code",
   "execution_count": 180,
   "metadata": {},
   "outputs": [
    {
     "name": "stdout",
     "output_type": "stream",
     "text": [
      "entry=\n",
      "<ZipInfo filename='è«¡Γα«½∞ îÄ/èåç.zip' external_attr=0x20 file_size=738950>\n",
      "name=\n",
      "Контроль МО/КЖЗ.zip\n"
     ]
    },
    {
     "ename": "FileNotFoundError",
     "evalue": "[Errno 2] No such file or directory: 'C:\\\\Users\\\\KorneevSN\\\\Downloads\\\\КНИГИ\\\\REPO\\\\Nextcloud_connector\\\\Nextcloud_connector\\\\è«¡Γα«½∞ îÄ\\\\èåç.zip'",
     "output_type": "error",
     "traceback": [
      "\u001b[1;31m---------------------------------------------------------------------------\u001b[0m",
      "\u001b[1;31mFileNotFoundError\u001b[0m                         Traceback (most recent call last)",
      "\u001b[1;32m<ipython-input-180-15b69f93ab2f>\u001b[0m in \u001b[0;36m<module>\u001b[1;34m\u001b[0m\n\u001b[0;32m     41\u001b[0m \u001b[1;33m\u001b[0m\u001b[0m\n\u001b[0;32m     42\u001b[0m \u001b[1;31m########### RUN unpack_zipfile #################################\u001b[0m\u001b[1;33m\u001b[0m\u001b[1;33m\u001b[0m\u001b[1;33m\u001b[0m\u001b[0m\n\u001b[1;32m---> 43\u001b[1;33m \u001b[0munpack_zipfile\u001b[0m\u001b[1;33m(\u001b[0m\u001b[0mmain_dir\u001b[0m\u001b[1;33m+\u001b[0m\u001b[1;34m'23.05.2022-15.01-Контроль МО.zip'\u001b[0m\u001b[1;33m,\u001b[0m \u001b[1;34m'unpacked'\u001b[0m\u001b[1;33m,\u001b[0m \u001b[0mencoding\u001b[0m\u001b[1;33m=\u001b[0m\u001b[1;34m'cp866'\u001b[0m\u001b[1;33m)\u001b[0m\u001b[1;33m\u001b[0m\u001b[1;33m\u001b[0m\u001b[0m\n\u001b[0m",
      "\u001b[1;32m<ipython-input-180-15b69f93ab2f>\u001b[0m in \u001b[0;36munpack_zipfile\u001b[1;34m(filename, extract_dir, encoding)\u001b[0m\n\u001b[0;32m     16\u001b[0m                 \u001b[0mnested_archive\u001b[0m \u001b[1;33m=\u001b[0m \u001b[0marchive\u001b[0m\u001b[1;33m.\u001b[0m\u001b[0mgetinfo\u001b[0m\u001b[1;33m(\u001b[0m\u001b[0mentry\u001b[0m\u001b[1;33m.\u001b[0m\u001b[0mfilename\u001b[0m\u001b[1;33m)\u001b[0m\u001b[1;33m\u001b[0m\u001b[1;33m\u001b[0m\u001b[0m\n\u001b[0;32m     17\u001b[0m                 \u001b[0mpath_nested_archive\u001b[0m \u001b[1;33m=\u001b[0m \u001b[0mos\u001b[0m\u001b[1;33m.\u001b[0m\u001b[0mpath\u001b[0m\u001b[1;33m.\u001b[0m\u001b[0mabspath\u001b[0m\u001b[1;33m(\u001b[0m\u001b[0mnested_archive\u001b[0m\u001b[1;33m.\u001b[0m\u001b[0mfilename\u001b[0m\u001b[1;33m)\u001b[0m\u001b[1;33m\u001b[0m\u001b[1;33m\u001b[0m\u001b[0m\n\u001b[1;32m---> 18\u001b[1;33m                 \u001b[0mzipfile\u001b[0m\u001b[1;33m.\u001b[0m\u001b[0mZipFile\u001b[0m\u001b[1;33m(\u001b[0m\u001b[0mpath_nested_archive\u001b[0m\u001b[1;33m)\u001b[0m\u001b[1;33m.\u001b[0m\u001b[0mextract\u001b[0m\u001b[1;33m(\u001b[0m\u001b[0mpath_nested_archive\u001b[0m\u001b[1;33m,\u001b[0m \u001b[1;34m'unpacked'\u001b[0m\u001b[1;33m)\u001b[0m\u001b[1;33m\u001b[0m\u001b[1;33m\u001b[0m\u001b[0m\n\u001b[0m\u001b[0;32m     19\u001b[0m                 \u001b[0mprint\u001b[0m\u001b[1;33m(\u001b[0m\u001b[1;34m'nested_archive='\u001b[0m\u001b[1;33m,\u001b[0m\u001b[0mnested_archive\u001b[0m\u001b[1;33m,\u001b[0m \u001b[1;34m'path_nested_archive='\u001b[0m\u001b[1;33m,\u001b[0m \u001b[0mpath_nested_archive\u001b[0m\u001b[1;33m,\u001b[0m \u001b[0msep\u001b[0m\u001b[1;33m=\u001b[0m\u001b[1;34m'\\n'\u001b[0m\u001b[1;33m)\u001b[0m\u001b[1;33m\u001b[0m\u001b[1;33m\u001b[0m\u001b[0m\n\u001b[0;32m     20\u001b[0m \u001b[1;31m#                 with zipfile.ZipFile(filename) as archive:\u001b[0m\u001b[1;33m\u001b[0m\u001b[1;33m\u001b[0m\u001b[1;33m\u001b[0m\u001b[0m\n",
      "\u001b[1;32mC:\\ProgramData\\Anaconda3\\lib\\zipfile.py\u001b[0m in \u001b[0;36m__init__\u001b[1;34m(self, file, mode, compression, allowZip64, compresslevel, strict_timestamps)\u001b[0m\n\u001b[0;32m   1248\u001b[0m             \u001b[1;32mwhile\u001b[0m \u001b[1;32mTrue\u001b[0m\u001b[1;33m:\u001b[0m\u001b[1;33m\u001b[0m\u001b[1;33m\u001b[0m\u001b[0m\n\u001b[0;32m   1249\u001b[0m                 \u001b[1;32mtry\u001b[0m\u001b[1;33m:\u001b[0m\u001b[1;33m\u001b[0m\u001b[1;33m\u001b[0m\u001b[0m\n\u001b[1;32m-> 1250\u001b[1;33m                     \u001b[0mself\u001b[0m\u001b[1;33m.\u001b[0m\u001b[0mfp\u001b[0m \u001b[1;33m=\u001b[0m \u001b[0mio\u001b[0m\u001b[1;33m.\u001b[0m\u001b[0mopen\u001b[0m\u001b[1;33m(\u001b[0m\u001b[0mfile\u001b[0m\u001b[1;33m,\u001b[0m \u001b[0mfilemode\u001b[0m\u001b[1;33m)\u001b[0m\u001b[1;33m\u001b[0m\u001b[1;33m\u001b[0m\u001b[0m\n\u001b[0m\u001b[0;32m   1251\u001b[0m                 \u001b[1;32mexcept\u001b[0m \u001b[0mOSError\u001b[0m\u001b[1;33m:\u001b[0m\u001b[1;33m\u001b[0m\u001b[1;33m\u001b[0m\u001b[0m\n\u001b[0;32m   1252\u001b[0m                     \u001b[1;32mif\u001b[0m \u001b[0mfilemode\u001b[0m \u001b[1;32min\u001b[0m \u001b[0mmodeDict\u001b[0m\u001b[1;33m:\u001b[0m\u001b[1;33m\u001b[0m\u001b[1;33m\u001b[0m\u001b[0m\n",
      "\u001b[1;31mFileNotFoundError\u001b[0m: [Errno 2] No such file or directory: 'C:\\\\Users\\\\KorneevSN\\\\Downloads\\\\КНИГИ\\\\REPO\\\\Nextcloud_connector\\\\Nextcloud_connector\\\\è«¡Γα«½∞ îÄ\\\\èåç.zip'"
     ]
    }
   ],
   "source": [
    "########### done modules #################################\n",
    "import os\n",
    "import shutil\n",
    "import zipfile\n",
    "\n",
    "########### DEF unpack_zipfile #################################\n",
    "def unpack_zipfile(filename, extract_dir, encoding='cp866'):\n",
    "    with zipfile.ZipFile(filename) as archive:\n",
    "        for entry in archive.infolist():\n",
    "            try:\n",
    "                name = entry.filename.encode('cp437').decode(encoding)\n",
    "            except:\n",
    "                name = entry.filename.encode('cp866').decode('cp866')\n",
    "            if '.zip' in name:\n",
    "                print('entry=',entry, 'name=', name, sep='\\n')\n",
    "                nested_archive = archive.getinfo(entry.filename)\n",
    "                path_nested_archive = os.path.abspath(nested_archive.filename)              \n",
    "                zipfile.ZipFile(path_nested_archive).extract(path_nested_archive, 'unpacked')\n",
    "                print('nested_archive=',nested_archive, 'path_nested_archive=', path_nested_archive, sep='\\n')\n",
    "#                 with zipfile.ZipFile(filename) as archive:\n",
    "#             else:          \n",
    "#                 pass\n",
    "\n",
    "\n",
    "\n",
    "#   docx_zip = zipfile.ZipFile(zip_path)\n",
    "# docx_info = docx_zip.getinfo(name_of_image_in_zip)\n",
    "# path_to_image = os.path.abspath(docx_info.filename)          \n",
    "            \n",
    "            \n",
    "\n",
    "#                 # don't extract absolute paths or ones with .. in them\n",
    "#                 if name.startswith('/'):\n",
    "#                     print('dont extract',name)\n",
    "\n",
    "#                 target = os.path.join(extract_dir, *name.split('/'))    \n",
    "#                 os.makedirs(os.path.dirname(target), exist_ok=True)\n",
    "#                 if not entry.is_dir():  # file\n",
    "#                     with archive.open(entry) as source, open(target, 'wb') as dest:\n",
    "#                         shutil.copyfileobj(source, dest)\n",
    "\n",
    "########### RUN unpack_zipfile #################################\n",
    "unpack_zipfile(main_dir+'23.05.2022-15.01-Контроль МО.zip', 'unpacked', encoding='cp866')"
   ]
  },
  {
   "cell_type": "code",
   "execution_count": null,
   "metadata": {},
   "outputs": [],
   "source": []
  },
  {
   "cell_type": "code",
   "execution_count": null,
   "metadata": {},
   "outputs": [],
   "source": []
  },
  {
   "cell_type": "code",
   "execution_count": null,
   "metadata": {},
   "outputs": [],
   "source": []
  },
  {
   "cell_type": "code",
   "execution_count": null,
   "metadata": {},
   "outputs": [],
   "source": []
  },
  {
   "cell_type": "code",
   "execution_count": 149,
   "metadata": {},
   "outputs": [],
   "source": [
    "def old_unzip(file, unpack_dir, exceptions_unpack_dir):\n",
    "    with zipfile.ZipFile(file) as zip:\n",
    "    \n",
    "        for zip_info in zip.infolist():\n",
    "            if zip_info.filename[-1] == '/':\n",
    "                continue\n",
    "                try:\n",
    "    #                 print(abs_path_str.encode('cp437').decode('cp866'))\n",
    "                    name = zip_info.filename.encode('cp437').decode('cp866')\n",
    "                except: \n",
    "    #                 print('ex== ',abs_path_str.encode('cp866').decode('cp866'))\n",
    "                    name = zip_info.filename.encode('cp866').decode('cp866')\n",
    "    \n",
    "            if '.zip' in abs_path_str:\n",
    "                with zipfile.ZipFile(abs_path_str) as nested_zip:\n",
    "                    for nested_zip_info in nested_zip.infolist():\n",
    "                        try:\n",
    "            #                 print(abs_path_str.encode('cp437').decode('cp866'))\n",
    "                            nested_abs_path_str = nested_zip_info.filename.encode('cp437').decode('cp866')\n",
    "                        except: \n",
    "            #                 print('ex== ',abs_path_str.encode('cp866').decode('cp866'))\n",
    "                            nested_abs_path_str = nested_zip_info.filename.encode('cp866').decode('cp866')\n",
    "                    if '/КЖЗ' in abs_path_str and abs_path_str not in table_file_types:\n",
    "                        abs_path_str = os.path.basename(abs_path_str)\n",
    "                        zip.extract(zip_info, exceptions_unpack_dir)\n",
    "                    elif abs_path_str[-1] == '/':\n",
    "                        continue\n",
    "                    name = os.path.basename(abs_path_str)\n",
    "                    zip.extract(zip_info, unpack_dir)\n",
    "                \n",
    "            else:\n",
    "                if '/КЖЗ' in abs_path_str and abs_path_str not in table_file_types:\n",
    "                    abs_path_str = os.path.basename(abs_path_str)\n",
    "                    zip.extract(zip_info, exceptions_unpack_dir)\n",
    "                elif abs_path_str[-1] == '/':\n",
    "                    continue\n",
    "                \n",
    "            name = os.path.basename(abs_path_str)\n",
    "            zip.extract(zip_info, unpack_dir)"
   ]
  },
  {
   "cell_type": "code",
   "execution_count": 150,
   "metadata": {},
   "outputs": [
    {
     "ename": "FileNotFoundError",
     "evalue": "[Errno 2] No such file or directory: 'Контроль МО/КЖЗ.zip'",
     "output_type": "error",
     "traceback": [
      "\u001b[1;31m---------------------------------------------------------------------------\u001b[0m",
      "\u001b[1;31mFileNotFoundError\u001b[0m                         Traceback (most recent call last)",
      "\u001b[1;32m<ipython-input-150-01b0558dc87a>\u001b[0m in \u001b[0;36m<module>\u001b[1;34m\u001b[0m\n\u001b[0;32m      1\u001b[0m \u001b[1;32mfor\u001b[0m \u001b[0m_\u001b[0m \u001b[1;32min\u001b[0m \u001b[0mos\u001b[0m\u001b[1;33m.\u001b[0m\u001b[0mlistdir\u001b[0m\u001b[1;33m(\u001b[0m\u001b[0mmain_dir\u001b[0m\u001b[1;33m)\u001b[0m\u001b[1;33m:\u001b[0m\u001b[1;33m\u001b[0m\u001b[1;33m\u001b[0m\u001b[0m\n\u001b[0;32m      2\u001b[0m     \u001b[1;32mif\u001b[0m \u001b[1;34m'.zip'\u001b[0m \u001b[1;32min\u001b[0m \u001b[0m_\u001b[0m\u001b[1;33m:\u001b[0m\u001b[1;33m\u001b[0m\u001b[1;33m\u001b[0m\u001b[0m\n\u001b[1;32m----> 3\u001b[1;33m         \u001b[0mold_unzip\u001b[0m\u001b[1;33m(\u001b[0m\u001b[0mmain_dir\u001b[0m\u001b[1;33m+\u001b[0m\u001b[0m_\u001b[0m\u001b[1;33m,\u001b[0m \u001b[1;34m'old_unzip_script'\u001b[0m\u001b[1;33m,\u001b[0m \u001b[1;34m'exceptions_unpack_dir'\u001b[0m\u001b[1;33m)\u001b[0m\u001b[1;33m\u001b[0m\u001b[1;33m\u001b[0m\u001b[0m\n\u001b[0m",
      "\u001b[1;32m<ipython-input-149-4c7929403365>\u001b[0m in \u001b[0;36mold_unzip\u001b[1;34m(file, unpack_dir, exceptions_unpack_dir)\u001b[0m\n\u001b[0;32m     11\u001b[0m \u001b[1;33m\u001b[0m\u001b[0m\n\u001b[0;32m     12\u001b[0m             \u001b[1;32mif\u001b[0m \u001b[1;34m'.zip'\u001b[0m \u001b[1;32min\u001b[0m \u001b[0mabs_path_str\u001b[0m\u001b[1;33m:\u001b[0m\u001b[1;33m\u001b[0m\u001b[1;33m\u001b[0m\u001b[0m\n\u001b[1;32m---> 13\u001b[1;33m                 \u001b[1;32mwith\u001b[0m \u001b[0mzipfile\u001b[0m\u001b[1;33m.\u001b[0m\u001b[0mZipFile\u001b[0m\u001b[1;33m(\u001b[0m\u001b[0mabs_path_str\u001b[0m\u001b[1;33m)\u001b[0m \u001b[1;32mas\u001b[0m \u001b[0mnested_zip\u001b[0m\u001b[1;33m:\u001b[0m\u001b[1;33m\u001b[0m\u001b[1;33m\u001b[0m\u001b[0m\n\u001b[0m\u001b[0;32m     14\u001b[0m                     \u001b[1;32mfor\u001b[0m \u001b[0mnested_zip_info\u001b[0m \u001b[1;32min\u001b[0m \u001b[0mnested_zip\u001b[0m\u001b[1;33m.\u001b[0m\u001b[0minfolist\u001b[0m\u001b[1;33m(\u001b[0m\u001b[1;33m)\u001b[0m\u001b[1;33m:\u001b[0m\u001b[1;33m\u001b[0m\u001b[1;33m\u001b[0m\u001b[0m\n\u001b[0;32m     15\u001b[0m                         \u001b[1;32mtry\u001b[0m\u001b[1;33m:\u001b[0m\u001b[1;33m\u001b[0m\u001b[1;33m\u001b[0m\u001b[0m\n",
      "\u001b[1;32mC:\\ProgramData\\Anaconda3\\lib\\zipfile.py\u001b[0m in \u001b[0;36m__init__\u001b[1;34m(self, file, mode, compression, allowZip64, compresslevel, strict_timestamps)\u001b[0m\n\u001b[0;32m   1248\u001b[0m             \u001b[1;32mwhile\u001b[0m \u001b[1;32mTrue\u001b[0m\u001b[1;33m:\u001b[0m\u001b[1;33m\u001b[0m\u001b[1;33m\u001b[0m\u001b[0m\n\u001b[0;32m   1249\u001b[0m                 \u001b[1;32mtry\u001b[0m\u001b[1;33m:\u001b[0m\u001b[1;33m\u001b[0m\u001b[1;33m\u001b[0m\u001b[0m\n\u001b[1;32m-> 1250\u001b[1;33m                     \u001b[0mself\u001b[0m\u001b[1;33m.\u001b[0m\u001b[0mfp\u001b[0m \u001b[1;33m=\u001b[0m \u001b[0mio\u001b[0m\u001b[1;33m.\u001b[0m\u001b[0mopen\u001b[0m\u001b[1;33m(\u001b[0m\u001b[0mfile\u001b[0m\u001b[1;33m,\u001b[0m \u001b[0mfilemode\u001b[0m\u001b[1;33m)\u001b[0m\u001b[1;33m\u001b[0m\u001b[1;33m\u001b[0m\u001b[0m\n\u001b[0m\u001b[0;32m   1251\u001b[0m                 \u001b[1;32mexcept\u001b[0m \u001b[0mOSError\u001b[0m\u001b[1;33m:\u001b[0m\u001b[1;33m\u001b[0m\u001b[1;33m\u001b[0m\u001b[0m\n\u001b[0;32m   1252\u001b[0m                     \u001b[1;32mif\u001b[0m \u001b[0mfilemode\u001b[0m \u001b[1;32min\u001b[0m \u001b[0mmodeDict\u001b[0m\u001b[1;33m:\u001b[0m\u001b[1;33m\u001b[0m\u001b[1;33m\u001b[0m\u001b[0m\n",
      "\u001b[1;31mFileNotFoundError\u001b[0m: [Errno 2] No such file or directory: 'Контроль МО/КЖЗ.zip'"
     ]
    }
   ],
   "source": [
    "for _ in os.listdir(main_dir):\n",
    "    if '.zip' in _:\n",
    "        old_unzip(main_dir+_, 'old_unzip_script', 'exceptions_unpack_dir')"
   ]
  },
  {
   "cell_type": "code",
   "execution_count": 64,
   "metadata": {},
   "outputs": [],
   "source": [
    "########### subDEF unpack_zipfile #################################\n",
    "def unpack_zipfile(filename,\n",
    "                   extract_dir='unzip',\n",
    "                   exceptions_dir='unzip_exceptions'\n",
    "                   encoding='cp866'):\n",
    "    with zipfile.ZipFile(filename) as archive:\n",
    "        for entry in archive.infolist():\n",
    "            try:\n",
    "                name = entry.filename.encode('cp437').decode(encoding)  # reencode!!!\n",
    "            except:\n",
    "                name = entry.filename.encode('cp866').decode(encoding)  # reencode!!!\n",
    "            print(name)\n",
    "\n",
    "            # don't extract absolute paths or ones with .. in them\n",
    "            if 'КЖЗ' in name:\n",
    "                pass\n",
    "#             if name.startswith('/') or '..' in name:\n",
    "#                 continue\n",
    "\n",
    "            target = os.path.join(extract_dir, *name.split('/'))    \n",
    "            os.makedirs(os.path.dirname(target), exist_ok=True)\n",
    "            if not entry.is_dir():  # file\n",
    "                with archive.open(entry) as source, open(target, 'wb') as dest:\n",
    "                    shutil.copyfileobj(source, dest)"
   ]
  },
  {
   "cell_type": "code",
   "execution_count": 280,
   "metadata": {},
   "outputs": [],
   "source": [
    "# for _ in os.listdir(main_dir):\n",
    "#     if '.zip' in _:\n",
    "#         unpack_zipfile(main_dir + _)"
   ]
  },
  {
   "cell_type": "code",
   "execution_count": 61,
   "metadata": {},
   "outputs": [],
   "source": [
    "########### DEF find_dir_by_name_and_extract_files #################################\n",
    "def find_dir_by_name_and_extract_files(processing_dir_path,\n",
    "                                       target_dir_name = '\\КЖЗ\\\\',\n",
    "                                       dir_for_replace = '',\n",
    "                                       replacing_dir_name = '\\КЖЗ\\\\'):\n",
    "    \"\"\"\n",
    "    0) *dir_for_replace* - print path to parent folder for *replacing_dir_name* !!!\n",
    "       default 'None' - *replacing_dir_name* will be replaced to *processing_dir_path*   \n",
    "       \n",
    "    1) Find subdir in *processing_dir_path* by *target_dir_name*,\n",
    "    2) if need create *replacing_dir_name* as subdir in *processing_dir_path*\n",
    "    2) replace files in *target_dir_name* to *replacing_dir_name* \n",
    "    \"\"\"\n",
    "    \n",
    "#     os.chdir(processing_dir_path)\n",
    "    for root, dirs, files in os.walk(os.getcwd(), topdown = False):\n",
    "        for fld in dirs:\n",
    "            abs_path_to_folder = os.path.join(root, fld)\n",
    "            \n",
    "            print(abs_path_to_folder)\n",
    "\n",
    "            if target_dir_name in abs_path_to_folder:# and not_table_file_types in abs_path_to_folder:\n",
    "                if dir_for_replace != '':\n",
    "#                     print(dir_for_replace)\n",
    "                    shutil.move(abs_path_to_folder, dir_for_replace)\n",
    "                else: shutil.move(abs_path_to_folder, processing_dir_path +'\\\\'+ replacing_dir_name)"
   ]
  },
  {
   "cell_type": "code",
   "execution_count": 281,
   "metadata": {},
   "outputs": [],
   "source": [
    "# for _ in os.listdir(current_dir + 'unzip\\\\'):\n",
    "#     find_dir_by_name_and_extract_files(processing_dir_path = current_dir + 'unzip\\\\',\n",
    "#                                        target_dir_name = 'КЖЗ',\n",
    "#                                        dir_for_replace = current_dir + 'replace_kjz\\\\',\n",
    "#                                        replacing_dir_name = 'КЖЗ')"
   ]
  },
  {
   "cell_type": "code",
   "execution_count": 71,
   "metadata": {},
   "outputs": [],
   "source": [
    "def unzip(file, unpack_dir):\n",
    "    with zipfile.ZipFile(file) as zip:\n",
    "        for zip_info in zip.infolist():\n",
    "            if 'КЖЗ' in zip_info.filename:\n",
    "                pass\n",
    "            if zip_info.filename[-1] == '/':\n",
    "                continue\n",
    "            zip_info.filename = os.path.basename(zip_info.filename)\n",
    "            zip.extract(zip_info, unpack_dir)"
   ]
  },
  {
   "cell_type": "code",
   "execution_count": 282,
   "metadata": {},
   "outputs": [],
   "source": [
    "# with zipfile.ZipFile(main_dir+'23.05.2022-15.01-Контроль МО.zip') as zip:\n",
    "#     for zip_info in zip.infolist():\n",
    "#         print(zip_info)"
   ]
  },
  {
   "cell_type": "code",
   "execution_count": 72,
   "metadata": {},
   "outputs": [],
   "source": [
    "unzip(main_dir+'23.05.2022-15.01-Контроль МО.zip', 'old_arc')"
   ]
  },
  {
   "cell_type": "code",
   "execution_count": 64,
   "metadata": {},
   "outputs": [],
   "source": [
    "########### DEF find zip file in parent dir and unpack_zipfile #################################\n",
    "def get_archive_from_main_dir(main_dir):\n",
    "    for _ in os.listdir(main_dir):\n",
    "        if '.zip' in _:\n",
    "            unpack_zipfile(main_dir+_)"
   ]
  },
  {
   "cell_type": "code",
   "execution_count": 65,
   "metadata": {},
   "outputs": [],
   "source": [
    "get_archive_from_main_dir(main_dir)"
   ]
  },
  {
   "cell_type": "code",
   "execution_count": 66,
   "metadata": {},
   "outputs": [
    {
     "data": {
      "text/plain": [
       "'C:\\\\Users\\\\KorneevSN\\\\Downloads\\\\КНИГИ\\\\REPO\\\\Nextcloud_connector\\\\Nextcloud_connector\\\\unzip\\\\'"
      ]
     },
     "execution_count": 66,
     "metadata": {},
     "output_type": "execute_result"
    }
   ],
   "source": [
    "unzip_folder = current_dir+'unzip\\\\'\n",
    "unzip_folder"
   ]
  },
  {
   "cell_type": "code",
   "execution_count": 67,
   "metadata": {},
   "outputs": [],
   "source": [
    "########### DEF find_dir_by_name_and_extract_files #################################\n",
    "def find_dir_by_name_and_extract_files(processing_dir_path,\n",
    "                                       target_dir_name = 'КЖЗ',\n",
    "                                       dir_for_replace = '',\n",
    "                                       replacing_dir_name = 'КЖЗ'):\n",
    "    \"\"\"\n",
    "    0) *dir_for_replace* - print path to parent folder for *replacing_dir_name* !!!\n",
    "       default 'None' - *replacing_dir_name* will be replaced to *processing_dir_path*   \n",
    "       \n",
    "    1) Find subdir in *processing_dir_path* by *target_dir_name*,\n",
    "    2) if need create *replacing_dir_name* as subdir in *processing_dir_path*\n",
    "    2) replace files in *target_dir_name* to *replacing_dir_name* \n",
    "    \"\"\"\n",
    "    \n",
    "#     os.chdir(processing_dir_path)\n",
    "    for root, dirs, files in os.walk(os.getcwd(), topdown = False):\n",
    "        for fld in dirs:\n",
    "            abs_path_to_folder = os.path.join(root, fld)\n",
    "            \n",
    "            print(abs_path_to_folder)\n",
    "\n",
    "            if target_dir_name in abs_path_to_folder.split('\\\\')[-1] == target_dir_name:\n",
    "                if dir_for_replace != '':\n",
    "#                     print(dir_for_replace)\n",
    "                    shutil.move(abs_path_to_folder, dir_for_replace)\n",
    "                else: shutil.move(abs_path_to_folder, processing_dir_path +'\\\\'+ replacing_dir_name)"
   ]
  },
  {
   "cell_type": "code",
   "execution_count": 283,
   "metadata": {},
   "outputs": [],
   "source": [
    "# ########### RUN find_dir_by_name_and_extract_files #################################\n",
    "# find_dir_by_name_and_extract_files(unzip_folder)"
   ]
  },
  {
   "cell_type": "code",
   "execution_count": null,
   "metadata": {},
   "outputs": [],
   "source": []
  }
 ],
 "metadata": {
  "kernelspec": {
   "display_name": "Python 3",
   "language": "python",
   "name": "python3"
  },
  "language_info": {
   "codemirror_mode": {
    "name": "ipython",
    "version": 3
   },
   "file_extension": ".py",
   "mimetype": "text/x-python",
   "name": "python",
   "nbconvert_exporter": "python",
   "pygments_lexer": "ipython3",
   "version": "3.8.3"
  }
 },
 "nbformat": 4,
 "nbformat_minor": 4
}
