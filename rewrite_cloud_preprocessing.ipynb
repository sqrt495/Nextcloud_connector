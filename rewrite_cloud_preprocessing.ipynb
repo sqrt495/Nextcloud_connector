{
 "cells": [
  {
   "cell_type": "code",
   "execution_count": 1,
   "metadata": {},
   "outputs": [],
   "source": [
    "import zipfile\n",
    "import os\n",
    "import xlwings as xw\n",
    "import psutil\n",
    "import os\n",
    "import shutil\n",
    "import zipfile\n",
    "from pathlib import Path\n",
    "\n",
    "\n",
    "not_table_file_types = ['pdf', 'jpeg', 'jpg', 'png', 'zip', 'PDF', 'JPEG', 'JPG', 'PNG', 'ZIP']\n",
    "arch_file_types = ['zip', 'ZIP']\n",
    "table_file_types = ['xlsx', 'xlsm', 'xls', 'ods', 'XLSX', 'XLSM', 'XLS', 'ODS']\n",
    "\n",
    "\n",
    "main_dir = str(Path(os.getcwd()).parent)+'\\\\'\n",
    "current_dir = os.getcwd()+'\\\\'\n",
    "\n",
    "main_dir, current_dir\n",
    "\n",
    "extract_dir = main_dir + 'unzip\\\\'\n",
    "sort_dir = main_dir + 'sorted\\\\'\n",
    "not_table_kjz_dir = sort_dir + 'КЖЗ\\\\'\n",
    "tables_dir = sort_dir + 'Контроль МО\\\\'\n",
    "others_files_dir = sort_dir + 'Контроль МО - не таблицы\\\\'\n",
    "\n",
    "try:\n",
    "    os.makedirs(sort_dir)\n",
    "    os.makedirs(extract_dir)\n",
    "except: pass"
   ]
  },
  {
   "cell_type": "code",
   "execution_count": 2,
   "metadata": {},
   "outputs": [],
   "source": [
    "# создать папки для сортировки\n",
    "try:\n",
    "    os.makedirs(not_table_kjz_dir)\n",
    "    os.makedirs(tables_dir)\n",
    "    os.makedirs(others_files_dir)\n",
    "except: pass"
   ]
  },
  {
   "cell_type": "code",
   "execution_count": 3,
   "metadata": {},
   "outputs": [],
   "source": [
    "# перед формированием словаря, где ключ = путь_к_паке, а значения = список имен файлов в папке\n",
    "# формирование словаря, где ключ = путь_к_паке, а значения = список имен файлов в папке\n",
    "def unpacked_tree(extract_dir=extract_dir):\n",
    "    unpacked_dict = {}\n",
    "    unpacked_list = []\n",
    "    unpacked_dir_tree = os.walk(extract_dir)\n",
    "    for i in unpacked_dir_tree:\n",
    "        dir_structure = list(i)\n",
    "        if dir_structure[-1]:\n",
    "            unpacked_dict[dir_structure[0]+'\\\\'] = dir_structure[-1]\n",
    "            for f in dir_structure[-1]:\n",
    "                unpacked_list.append(dir_structure[0]+ '\\\\' + f)\n",
    "    return unpacked_dict, unpacked_list"
   ]
  },
  {
   "cell_type": "code",
   "execution_count": 4,
   "metadata": {},
   "outputs": [],
   "source": [
    "########### DEF unpack_zipfile #################################\n",
    "def unpack_zipfile(dir_with_archive=main_dir, extract_dir=extract_dir, encoding='cp866'):\n",
    "    for file in os.listdir(dir_with_archive):\n",
    "        if '.zip' in file:\n",
    "            with zipfile.ZipFile(dir_with_archive+file) as archive:\n",
    "                for entry in archive.infolist():\n",
    "                    try:\n",
    "                        name = entry.filename.encode('cp437').decode(encoding)\n",
    "                    except:\n",
    "                        name = entry.filename.encode('cp866').decode('cp866')\n",
    "                    target = os.path.join(extract_dir, *name.split('/'))    \n",
    "                    os.makedirs(os.path.dirname(target), exist_ok=True)\n",
    "                    if not entry.is_dir():  # file\n",
    "                        with archive.open(entry) as source, open(target, 'wb') as dest:\n",
    "                            shutil.copyfileobj(source, dest)\n",
    "            os.remove(dir_with_archive+file)"
   ]
  },
  {
   "cell_type": "code",
   "execution_count": 5,
   "metadata": {},
   "outputs": [],
   "source": [
    "unpack_zipfile(main_dir)"
   ]
  },
  {
   "cell_type": "code",
   "execution_count": 6,
   "metadata": {},
   "outputs": [],
   "source": [
    "unpacked_dict, unpacked_list = unpacked_tree(extract_dir)"
   ]
  },
  {
   "cell_type": "code",
   "execution_count": 7,
   "metadata": {},
   "outputs": [],
   "source": [
    "# поиск архивов в папке unzip\n",
    "# и разархивирование их в папку 'unzip' \n",
    "def find_nested_zip(unpacked_dict=unpacked_dict, extract_dir=extract_dir):\n",
    "    try:\n",
    "        for k,v in unpacked_dict.items():\n",
    "            res = [string for string in v if '.zip' in string]\n",
    "            for _ in res:\n",
    "                match = os.path.join(k, _)\n",
    "                match = os.path.abspath(match)\n",
    "                if match:\n",
    "                    unpack_zipfile(k, extract_dir=extract_dir, encoding='cp866')\n",
    "                    os.remove(os.path.abspath(match))\n",
    "    except:\n",
    "        print('no zip in dir')"
   ]
  },
  {
   "cell_type": "code",
   "execution_count": 8,
   "metadata": {},
   "outputs": [],
   "source": [
    "find_nested_zip(unpacked_dict, extract_dir)"
   ]
  },
  {
   "cell_type": "code",
   "execution_count": 9,
   "metadata": {},
   "outputs": [],
   "source": [
    "unpacked_dict, unpacked_list = unpacked_tree(extract_dir)"
   ]
  },
  {
   "cell_type": "code",
   "execution_count": 10,
   "metadata": {},
   "outputs": [],
   "source": [
    "def rename_files_by_folder(unpacked_list=unpacked_list, extract_dir=extract_dir):\n",
    "    for path_to_file in unpacked_list:\n",
    "        name_listing = path_to_file.split('\\\\')\n",
    "        res = any('кжз' in string.lower() for string in name_listing)\n",
    "        kjz_str = 'КЖЗ-'\n",
    "        if res:\n",
    "            name_listing[-1] = kjz_str+name_listing[-2]+'-'+name_listing[-1]\n",
    "        else:\n",
    "            name_listing[-1] = name_listing[-2]+'-'+name_listing[-1]\n",
    "\n",
    "        new_path_to_file = '\\\\'.join([str(n) for n in name_listing]).replace(kjz_str*2,\n",
    "                                                                             kjz_str)\n",
    "        new_path_to_file = new_path_to_file.replace(name_listing[-2]+'-'+name_listing[-2],\n",
    "                                                    name_listing[-2])\n",
    "        os.rename(path_to_file,\n",
    "                  new_path_to_file)"
   ]
  },
  {
   "cell_type": "code",
   "execution_count": 11,
   "metadata": {},
   "outputs": [],
   "source": [
    "rename_files_by_folder(unpacked_list)"
   ]
  },
  {
   "cell_type": "code",
   "execution_count": 12,
   "metadata": {},
   "outputs": [],
   "source": [
    "unpacked_dict, unpacked_list = unpacked_tree(extract_dir)"
   ]
  },
  {
   "cell_type": "code",
   "execution_count": 13,
   "metadata": {},
   "outputs": [],
   "source": [
    "def sort_files(extract_dir=extract_dir,\n",
    "               unpacked_list=unpacked_list,\n",
    "               not_table_file_types=not_table_file_types,\n",
    "               table_file_types=table_file_types,\n",
    "               not_table_kjz_dir=not_table_kjz_dir,\n",
    "               tables_dir=tables_dir,\n",
    "               others_files_dir=others_files_dir):\n",
    "    \n",
    "    for path_to_file in unpacked_list:\n",
    "        name_listing = path_to_file.split('\\\\')\n",
    "        res = any('кжз' in string.lower() for string in name_listing)\n",
    "        try:\n",
    "            if res:\n",
    "                if path_to_file.endswith(tuple(not_table_file_types)):\n",
    "                    os.rename(path_to_file, not_table_kjz_dir+name_listing[-1])\n",
    "                else: os.rename(path_to_file, tables_dir+name_listing[-1])\n",
    "            elif path_to_file.endswith(tuple(table_file_types)):\n",
    "                os.rename(path_to_file, tables_dir+name_listing[-1])\n",
    "            else:\n",
    "                path_to_file.endswith(tuple(not_table_file_types))\n",
    "                os.rename(path_to_file, others_files_dir+name_listing[-1])\n",
    "        except:\n",
    "            print(path_to_file)\n",
    "    shutil.rmtree(extract_dir)"
   ]
  },
  {
   "cell_type": "code",
   "execution_count": 14,
   "metadata": {
    "scrolled": true
   },
   "outputs": [],
   "source": [
    "sort_files()"
   ]
  },
  {
   "cell_type": "code",
   "execution_count": null,
   "metadata": {},
   "outputs": [],
   "source": []
  },
  {
   "cell_type": "code",
   "execution_count": null,
   "metadata": {},
   "outputs": [],
   "source": []
  },
  {
   "cell_type": "code",
   "execution_count": null,
   "metadata": {},
   "outputs": [],
   "source": []
  },
  {
   "cell_type": "code",
   "execution_count": null,
   "metadata": {},
   "outputs": [],
   "source": []
  },
  {
   "cell_type": "code",
   "execution_count": 337,
   "metadata": {
    "scrolled": true
   },
   "outputs": [
    {
     "name": "stdout",
     "output_type": "stream",
     "text": [
      "C:\\Users\\KorneevSN\\Downloads\\КНИГИ\\REPO\\Nextcloud_connector\\unzip\\02.06.2022 КЖЗ\\КЖЗ-02.06.2022 КЖЗ-01.06.22_ГП_Контроль_МО.xlsx\n",
      "C:\\Users\\KorneevSN\\Downloads\\КНИГИ\\REPO\\Nextcloud_connector\\unzip\\02.06.2022 КЖЗ\\КЖЗ-02.06.2022 КЖЗ-смирнова.pdf\n",
      "C:\\Users\\KorneevSN\\Downloads\\КНИГИ\\REPO\\Nextcloud_connector\\unzip\\Контроль МО (1)\\Контроль МО\\01.06.2022 КЖЗ\\КЖЗ-01.06.2022 КЖЗ-31.05.2022_Контроль_МО.xlsx\n",
      "C:\\Users\\KorneevSN\\Downloads\\КНИГИ\\REPO\\Nextcloud_connector\\unzip\\Контроль МО (1)\\Контроль МО\\01.06.2022 КЖЗ\\КЖЗ-01.06.2022 КЖЗ-глушко.pdf\n",
      "C:\\Users\\KorneevSN\\Downloads\\КНИГИ\\REPO\\Nextcloud_connector\\unzip\\Контроль МО (1)\\Контроль МО\\01.06.2022 КЖЗ\\КЖЗ-01.06.2022 КЖЗ-зеленова.pdf\n",
      "C:\\Users\\KorneevSN\\Downloads\\КНИГИ\\REPO\\Nextcloud_connector\\unzip\\Контроль МО (1)\\Контроль МО\\01.06.2022 КЖЗ\\КЖЗ-01.06.2022 КЖЗ-зеленова1.pdf\n",
      "C:\\Users\\KorneevSN\\Downloads\\КНИГИ\\REPO\\Nextcloud_connector\\unzip\\Контроль МО (1)\\Контроль МО\\01.06.2022 КЖЗ\\КЖЗ-01.06.2022 КЖЗ-ким.pdf\n",
      "C:\\Users\\KorneevSN\\Downloads\\КНИГИ\\REPO\\Nextcloud_connector\\unzip\\Контроль МО (1)\\Контроль МО\\01.06.2022 КЖЗ\\КЖЗ-01.06.2022 КЖЗ-ким1.pdf\n",
      "C:\\Users\\KorneevSN\\Downloads\\КНИГИ\\REPO\\Nextcloud_connector\\unzip\\Контроль МО (1)\\Контроль МО\\01.06.2022 КЖЗ\\КЖЗ-01.06.2022 КЖЗ-ким2.pdf\n",
      "C:\\Users\\KorneevSN\\Downloads\\КНИГИ\\REPO\\Nextcloud_connector\\unzip\\Контроль МО (1)\\Контроль МО\\01.06.2022 КЖЗ\\КЖЗ-01.06.2022 КЖЗ-марфина.pdf\n",
      "C:\\Users\\KorneevSN\\Downloads\\КНИГИ\\REPO\\Nextcloud_connector\\unzip\\Контроль МО (1)\\Контроль МО\\01.06.2022 КЖЗ\\КЖЗ-01.06.2022 КЖЗ-романова.pdf\n",
      "C:\\Users\\KorneevSN\\Downloads\\КНИГИ\\REPO\\Nextcloud_connector\\unzip\\Контроль МО (1)\\Контроль МО\\01.06.2022 КЖЗ\\КЖЗ-01.06.2022 КЖЗ-семанина.pdf\n",
      "C:\\Users\\KorneevSN\\Downloads\\КНИГИ\\REPO\\Nextcloud_connector\\unzip\\Контроль МО (1)\\Контроль МО\\01.06.2022 КЖЗ\\КЖЗ-01.06.2022 КЖЗ-смирнова.pdf\n",
      "C:\\Users\\KorneevSN\\Downloads\\КНИГИ\\REPO\\Nextcloud_connector\\unzip\\Контроль МО (1)\\Контроль МО\\01.06.2022 КЖЗ\\КЖЗ-01.06.2022 КЖЗ-смирнова1.pdf\n",
      "C:\\Users\\KorneevSN\\Downloads\\КНИГИ\\REPO\\Nextcloud_connector\\unzip\\Контроль МО (1)\\Контроль МО\\03.06.2022 КЖЗ\\КЖЗ-03.06.2022 КЖЗ-02.06.2022_Контроль_МО.xlsx\n",
      "C:\\Users\\KorneevSN\\Downloads\\КНИГИ\\REPO\\Nextcloud_connector\\unzip\\Контроль МО (1)\\Контроль МО\\03.06.2022 КЖЗ\\КЖЗ-03.06.2022 КЖЗ-родина.pdf\n",
      "C:\\Users\\KorneevSN\\Downloads\\КНИГИ\\REPO\\Nextcloud_connector\\unzip\\Контроль МО (1)\\Контроль МО\\03.06.2022 КЖЗ\\КЖЗ-03.06.2022 КЖЗ-смирнова.pdf\n",
      "C:\\Users\\KorneevSN\\Downloads\\КНИГИ\\REPO\\Nextcloud_connector\\unzip\\Контроль МО (1)\\Контроль МО\\06.06.2022\\КЖЗ\\КЖЗ-03.06.2022_ГП_Контроль_МО.xlsx\n",
      "C:\\Users\\KorneevSN\\Downloads\\КНИГИ\\REPO\\Nextcloud_connector\\unzip\\Контроль МО (1)\\Контроль МО\\06.06.2022\\КЖЗ\\КЖЗ-брейтер.pdf\n",
      "C:\\Users\\KorneevSN\\Downloads\\КНИГИ\\REPO\\Nextcloud_connector\\unzip\\Контроль МО (1)\\Контроль МО\\06.06.2022\\КЖЗ\\КЖЗ-брейтер1.pdf\n",
      "C:\\Users\\KorneevSN\\Downloads\\КНИГИ\\REPO\\Nextcloud_connector\\unzip\\Контроль МО (1)\\Контроль МО\\06.06.2022\\КЖЗ\\КЖЗ-брейтер2.pdf\n",
      "C:\\Users\\KorneevSN\\Downloads\\КНИГИ\\REPO\\Nextcloud_connector\\unzip\\Контроль МО (1)\\Контроль МО\\06.06.2022\\КЖЗ\\КЖЗ-караева.pdf\n",
      "C:\\Users\\KorneevSN\\Downloads\\КНИГИ\\REPO\\Nextcloud_connector\\unzip\\Контроль МО (1)\\Контроль МО\\07.06.2022\\КЖЗ\\КЖЗ-06.06.2022_ГП_Контроль_МО.xlsx\n",
      "C:\\Users\\KorneevSN\\Downloads\\КНИГИ\\REPO\\Nextcloud_connector\\unzip\\Контроль МО (1)\\Контроль МО\\07.06.2022\\КЖЗ\\КЖЗ-сомова.pdf\n",
      "C:\\Users\\KorneevSN\\Downloads\\КНИГИ\\REPO\\Nextcloud_connector\\unzip\\Контроль МО (1)\\Контроль МО\\27.05.2022 КЖЗ\\КЖЗ-27.05.2022 КЖЗ-26.05.2022_ГП_Контроль_МО.xlsx\n",
      "C:\\Users\\KorneevSN\\Downloads\\КНИГИ\\REPO\\Nextcloud_connector\\unzip\\Контроль МО (1)\\Контроль МО\\27.05.2022 КЖЗ\\КЖЗ-27.05.2022 КЖЗ-глушко.pdf\n",
      "C:\\Users\\KorneevSN\\Downloads\\КНИГИ\\REPO\\Nextcloud_connector\\unzip\\Контроль МО (1)\\Контроль МО\\27.05.2022 КЖЗ\\КЖЗ-27.05.2022 КЖЗ-зеленова.pdf\n",
      "C:\\Users\\KorneevSN\\Downloads\\КНИГИ\\REPO\\Nextcloud_connector\\unzip\\Контроль МО (1)\\Контроль МО\\27.05.2022 КЖЗ\\КЖЗ-27.05.2022 КЖЗ-ким.pdf\n",
      "C:\\Users\\KorneevSN\\Downloads\\КНИГИ\\REPO\\Nextcloud_connector\\unzip\\Контроль МО (1)\\Контроль МО\\27.05.2022 КЖЗ\\КЖЗ-27.05.2022 КЖЗ-коротаева.pdf\n",
      "C:\\Users\\KorneevSN\\Downloads\\КНИГИ\\REPO\\Nextcloud_connector\\unzip\\Контроль МО (1)\\Контроль МО\\27.05.2022 КЖЗ\\КЖЗ-27.05.2022 КЖЗ-некрасова.pdf\n",
      "C:\\Users\\KorneevSN\\Downloads\\КНИГИ\\REPO\\Nextcloud_connector\\unzip\\Контроль МО (1)\\Контроль МО\\30.05.2022 КЖЗ\\КЖЗ-30.05.2022 КЖЗ-27.05.2022_ГП_Контроль_МО.xlsx\n",
      "C:\\Users\\KorneevSN\\Downloads\\КНИГИ\\REPO\\Nextcloud_connector\\unzip\\Контроль МО (1)\\Контроль МО\\30.05.2022 КЖЗ\\КЖЗ-30.05.2022 КЖЗ-коротаева.pdf\n",
      "C:\\Users\\KorneevSN\\Downloads\\КНИГИ\\REPO\\Nextcloud_connector\\unzip\\Контроль МО (1)\\Контроль МО\\30.05.2022 КЖЗ\\КЖЗ-30.05.2022 КЖЗ-некрасова.pdf\n",
      "C:\\Users\\KorneevSN\\Downloads\\КНИГИ\\REPO\\Nextcloud_connector\\unzip\\Контроль МО (1)\\Контроль МО\\30.05.2022 КЖЗ\\КЖЗ-30.05.2022 КЖЗ-сомова.pdf\n",
      "C:\\Users\\KorneevSN\\Downloads\\КНИГИ\\REPO\\Nextcloud_connector\\unzip\\Контроль МО (1)\\Контроль МО\\31.05.2022 КЖЗ\\КЖЗ-31.05.2022 КЖЗ-30.05.2022_Контроль_МО.xlsx\n",
      "C:\\Users\\KorneevSN\\Downloads\\КНИГИ\\REPO\\Nextcloud_connector\\unzip\\Контроль МО (1)\\Контроль МО\\31.05.2022 КЖЗ\\КЖЗ-31.05.2022 КЖЗ-платонова.pdf\n",
      "C:\\Users\\KorneevSN\\Downloads\\КНИГИ\\REPO\\Nextcloud_connector\\unzip\\Контроль МО (1)\\Контроль МО\\31.05.2022 КЖЗ\\КЖЗ-31.05.2022 КЖЗ-платонова1.pdf\n",
      "C:\\Users\\KorneevSN\\Downloads\\КНИГИ\\REPO\\Nextcloud_connector\\unzip\\Контроль МО (1)\\Контроль МО\\31.05.2022 КЖЗ\\КЖЗ-31.05.2022 КЖЗ-платонова2.pdf\n",
      "C:\\Users\\KorneevSN\\Downloads\\КНИГИ\\REPO\\Nextcloud_connector\\unzip\\Контроль МО (1)\\Контроль МО\\31.05.2022 КЖЗ\\КЖЗ-31.05.2022 КЖЗ-родина.pdf\n",
      "C:\\Users\\KorneevSN\\Downloads\\КНИГИ\\REPO\\Nextcloud_connector\\unzip\\Контроль МО (1)\\Контроль МО\\31.05.2022 КЖЗ\\КЖЗ-31.05.2022 КЖЗ-шевченко.pdf\n"
     ]
    }
   ],
   "source": [
    "for path_to_file in unpacked_list:\n",
    "    name_listing = path_to_file.split('\\\\')\n",
    "    res = any('кжз' in string.lower() for string in name_listing)\n",
    "#     try:\n",
    "    if res:\n",
    "        print(path_to_file)\n",
    "#             if path_to_file.endswith(tuple(not_table_file_types)):\n",
    "#                 os.rename(path_to_file, not_table_kjz_dir+name_listing[-1])\n",
    "#             else: os.rename(path_to_file, tables_dir+name_listing[-1])\n",
    "#         elif path_to_file.endswith(tuple(table_file_types)):\n",
    "#             os.rename(path_to_file, tables_dir+name_listing[-1])\n",
    "#         else:\n",
    "#             path_to_file.endswith(tuple(not_table_file_types))\n",
    "#             os.rename(path_to_file, others_files_dir+name_listing[-1])\n",
    "#     except:\n",
    "#         print(path_to_file)"
   ]
  },
  {
   "cell_type": "code",
   "execution_count": null,
   "metadata": {},
   "outputs": [],
   "source": []
  },
  {
   "cell_type": "code",
   "execution_count": null,
   "metadata": {},
   "outputs": [],
   "source": []
  },
  {
   "cell_type": "code",
   "execution_count": null,
   "metadata": {},
   "outputs": [],
   "source": []
  },
  {
   "cell_type": "code",
   "execution_count": null,
   "metadata": {},
   "outputs": [],
   "source": []
  },
  {
   "cell_type": "code",
   "execution_count": null,
   "metadata": {},
   "outputs": [],
   "source": []
  },
  {
   "cell_type": "code",
   "execution_count": null,
   "metadata": {},
   "outputs": [],
   "source": []
  },
  {
   "cell_type": "code",
   "execution_count": null,
   "metadata": {},
   "outputs": [],
   "source": []
  },
  {
   "cell_type": "code",
   "execution_count": null,
   "metadata": {},
   "outputs": [],
   "source": []
  },
  {
   "cell_type": "code",
   "execution_count": null,
   "metadata": {},
   "outputs": [],
   "source": []
  },
  {
   "cell_type": "code",
   "execution_count": null,
   "metadata": {},
   "outputs": [],
   "source": []
  },
  {
   "cell_type": "code",
   "execution_count": null,
   "metadata": {},
   "outputs": [],
   "source": [
    "def sort_folder(unpacked_list, sort_dir):\n",
    "    for path_to_file in unpacked_list:\n",
    "        res = any('кжз' in string.lower() for string in name_listing)\n",
    "        if table_file_types not in res:\n",
    "            print(res)\n",
    "#             current_path = os.path.abspath(path_to_file)\n",
    "#             new_path = \n",
    "#             os.replace(os.path.join(path, name), os.path.join(path, method, name))\n",
    "#     if file.split('.')[-1] in ['pdf', 'jpeg', 'jpg', 'png', 'zip', 'PDF', 'JPEG', 'JPG', 'PNG', 'ZIP']:\n",
    "#         replacer(path, file, 'Контроль_МО-Прочие_отсортированные_файлы')"
   ]
  },
  {
   "cell_type": "code",
   "execution_count": null,
   "metadata": {},
   "outputs": [],
   "source": []
  },
  {
   "cell_type": "code",
   "execution_count": null,
   "metadata": {},
   "outputs": [],
   "source": []
  },
  {
   "cell_type": "code",
   "execution_count": null,
   "metadata": {},
   "outputs": [],
   "source": []
  },
  {
   "cell_type": "code",
   "execution_count": null,
   "metadata": {},
   "outputs": [],
   "source": [
    "#     kjz_paths = []\n",
    "#     kjz_path = [\"\\\\\".join(name_listing) for s in name_listing if 'КЖЗ' in s]\n",
    "#     if kjz_path:\n",
    "#         kjz_paths.append()\n",
    "# #         print(path_to_file)\n",
    "#         name_listing[-1] = 'КЖЗ-'+name_listing[-2]+'-'+name_listing[-1]\n",
    "#         name_listing[-1] = name_listing[-1].replace('КЖЗ-КЖЗ-', 'КЖЗ-')\n",
    "#         os.rename(path_to_file,\n",
    "#           '\\\\'.join([str(n) for n in name_listing]))\n",
    "#     else:\n",
    "#         name_listing[-1] = name_listing[-2]+'-'+name_listing[-1]\n",
    "#         os.rename(path_to_file,\n",
    "#                   '\\\\'.join([str(n) for n in name_listing]))"
   ]
  },
  {
   "cell_type": "code",
   "execution_count": null,
   "metadata": {},
   "outputs": [],
   "source": [
    "path_to_file = 'C:\\\\Users\\\\KorneevSN\\\\Downloads\\\\КНИГИ\\\\REPO\\\\Nextcloud_connector\\\\Nextcloud_connector\\\\unzip\\\\Контроль МО\\\\20.05.2022\\\\КЖЗ 19.05.2022\\\\19.05.2022\\\\некрасова.pdf'\n",
    "name_listing = path_to_file.split('\\\\')\n",
    "res = any('кжз' in string.lower() for string in name_listing)\n",
    "print(name_listing)\n",
    "if res:\n",
    "    name_listing[-1] = 'КЖЗ-'+name_listing[-2]+'-'+name_listing[-1]\n",
    "    print(name_listing)\n",
    "else: print('no')"
   ]
  },
  {
   "cell_type": "code",
   "execution_count": 54,
   "metadata": {},
   "outputs": [
    {
     "name": "stdout",
     "output_type": "stream",
     "text": [
      "C:\\Users\\KorneevSN\\Downloads\\КНИГИ\\REPO\\Nextcloud_connector\\Nextcloud_connector\\unzip\\КЖЗ\\test1-ЦАОП-ГКОБ№1-ЦАО-цитологическое-исследование-06.05.2022.pdf\n",
      "C:\\Users\\KorneevSN\\Downloads\\КНИГИ\\REPO\\Nextcloud_connector\\Nextcloud_connector\\unzip\\КЖЗ\\test2-ЦАОП-ГКОБ№1-ЦАО-цитологическое-исследование-06.05.2022.pdf\n",
      "C:\\Users\\KorneevSN\\Downloads\\КНИГИ\\REPO\\Nextcloud_connector\\Nextcloud_connector\\unzip\\КЖЗ\\test3-ЦАОП-ГКОБ№1-ЦАО-цитологическое-исследование-06.05.2022.pdf\n",
      "C:\\Users\\KorneevSN\\Downloads\\КНИГИ\\REPO\\Nextcloud_connector\\Nextcloud_connector\\unzip\\Контроль МО\\20.05.2022\\КЖЗ 19.05.2022\\19.05.2022\\19.05.2022_ГП_контроль_МО_____КЖЗ.xlsx\n",
      "C:\\Users\\KorneevSN\\Downloads\\КНИГИ\\REPO\\Nextcloud_connector\\Nextcloud_connector\\unzip\\Контроль МО\\20.05.2022\\КЖЗ 19.05.2022\\19.05.2022\\игнатова.pdf\n",
      "C:\\Users\\KorneevSN\\Downloads\\КНИГИ\\REPO\\Nextcloud_connector\\Nextcloud_connector\\unzip\\Контроль МО\\20.05.2022\\КЖЗ 19.05.2022\\19.05.2022\\москаленко.pdf\n",
      "C:\\Users\\KorneevSN\\Downloads\\КНИГИ\\REPO\\Nextcloud_connector\\Nextcloud_connector\\unzip\\Контроль МО\\20.05.2022\\КЖЗ 19.05.2022\\19.05.2022\\некрасова.pdf\n",
      "C:\\Users\\KorneevSN\\Downloads\\КНИГИ\\REPO\\Nextcloud_connector\\Nextcloud_connector\\unzip\\Контроль МО\\20.05.2022\\КЖЗ 19.05.2022\\19.05.2022\\новикова.pdf\n",
      "C:\\Users\\KorneevSN\\Downloads\\КНИГИ\\REPO\\Nextcloud_connector\\Nextcloud_connector\\unzip\\Контроль МО\\20.05.2022\\КЖЗ 19.05.2022\\19.05.2022\\терехина.pdf\n",
      "C:\\Users\\KorneevSN\\Downloads\\КНИГИ\\REPO\\Nextcloud_connector\\Nextcloud_connector\\unzip\\Контроль МО\\20.05.2022\\КЖЗ 19.05.2022\\19.05.2022\\юсупова.pdf\n",
      "C:\\Users\\KorneevSN\\Downloads\\КНИГИ\\REPO\\Nextcloud_connector\\Nextcloud_connector\\unzip\\Контроль МО\\23.05.2022\\КЖЗ\\20.05.2022\\20.05.2022_ГП_Контроль_МО_____КЖЗ.xlsx\n",
      "C:\\Users\\KorneevSN\\Downloads\\КНИГИ\\REPO\\Nextcloud_connector\\Nextcloud_connector\\unzip\\Контроль МО\\23.05.2022\\КЖЗ\\20.05.2022\\ильина.pdf\n",
      "C:\\Users\\KorneevSN\\Downloads\\КНИГИ\\REPO\\Nextcloud_connector\\Nextcloud_connector\\unzip\\Контроль МО\\23.05.2022\\КЖЗ\\20.05.2022\\ким.pdf\n",
      "C:\\Users\\KorneevSN\\Downloads\\КНИГИ\\REPO\\Nextcloud_connector\\Nextcloud_connector\\unzip\\Контроль МО\\23.05.2022\\КЖЗ\\20.05.2022\\коротаева.pdf\n",
      "C:\\Users\\KorneevSN\\Downloads\\КНИГИ\\REPO\\Nextcloud_connector\\Nextcloud_connector\\unzip\\Контроль МО\\23.05.2022\\КЖЗ\\20.05.2022\\некрасова.pdf\n",
      "C:\\Users\\KorneevSN\\Downloads\\КНИГИ\\REPO\\Nextcloud_connector\\Nextcloud_connector\\unzip\\Контроль МО\\23.05.2022\\КЖЗ\\20.05.2022\\семанина.pdf\n",
      "C:\\Users\\KorneevSN\\Downloads\\КНИГИ\\REPO\\Nextcloud_connector\\Nextcloud_connector\\unzip\\Контроль МО\\23.05.2022\\КЖЗ\\20.05.2022\\шмагина.pdf\n"
     ]
    }
   ],
   "source": [
    "for path_to_file in unpacked_list:\n",
    "    if 'кжз' in path_to_file.lower():\n",
    "        print(path_to_file)\n",
    "        abs_path_to_file = os.path.abspath(path_to_file)\n",
    "        new_abs_path_to_file = abs_path_to_file.replace(r'\\.*$', )\n",
    "#         os.rename(abs_path_to_file, '\\\\'.join([str(n) for n in name_listing]))"
   ]
  },
  {
   "cell_type": "code",
   "execution_count": 52,
   "metadata": {},
   "outputs": [
    {
     "name": "stdout",
     "output_type": "stream",
     "text": [
      "['C:', 'Users', 'KorneevSN', 'Downloads', 'КНИГИ', 'REPO', 'Nextcloud_connector', 'Nextcloud_connector', 'unzip', 'КЖЗ', 'test1-ЦАОП-ГКОБ№1-ЦАО-цитологическое-исследование-06.05.2022.pdf']\n",
      "['C:', 'Users', 'KorneevSN', 'Downloads', 'КНИГИ', 'REPO', 'Nextcloud_connector', 'Nextcloud_connector', 'unzip', 'КЖЗ', 'test2-ЦАОП-ГКОБ№1-ЦАО-цитологическое-исследование-06.05.2022.pdf']\n",
      "['C:', 'Users', 'KorneevSN', 'Downloads', 'КНИГИ', 'REPO', 'Nextcloud_connector', 'Nextcloud_connector', 'unzip', 'КЖЗ', 'test3-ЦАОП-ГКОБ№1-ЦАО-цитологическое-исследование-06.05.2022.pdf']\n",
      "['C:', 'Users', 'KorneevSN', 'Downloads', 'КНИГИ', 'REPO', 'Nextcloud_connector', 'Nextcloud_connector', 'unzip', 'Контроль МО', '20.05.2022', '19.05.2022_ГП_52 контроль_МО.xlsx']\n",
      "['C:', 'Users', 'KorneevSN', 'Downloads', 'КНИГИ', 'REPO', 'Nextcloud_connector', 'Nextcloud_connector', 'unzip', 'Контроль МО', '20.05.2022', '19.05.2022_ЦАОП им. А.С. Логинова_контроль_МО.xlsx']\n",
      "['C:', 'Users', 'KorneevSN', 'Downloads', 'КНИГИ', 'REPO', 'Nextcloud_connector', 'Nextcloud_connector', 'unzip', 'Контроль МО', '20.05.2022', '20.05.2022 ГП 214 пациенты с подозрением на ЗНО.xlsx']\n",
      "['C:', 'Users', 'KorneevSN', 'Downloads', 'КНИГИ', 'REPO', 'Nextcloud_connector', 'Nextcloud_connector', 'unzip', 'Контроль МО', '20.05.2022', '20.05.2022_Вороновская больница_Контроль_МО .xlsx']\n",
      "['C:', 'Users', 'KorneevSN', 'Downloads', 'КНИГИ', 'REPO', 'Nextcloud_connector', 'Nextcloud_connector', 'unzip', 'Контроль МО', '20.05.2022', '20.05.2022_ГП 107_контроль_МО.xlsx']\n",
      "['C:', 'Users', 'KorneevSN', 'Downloads', 'КНИГИ', 'REPO', 'Nextcloud_connector', 'Nextcloud_connector', 'unzip', 'Контроль МО', '20.05.2022', '20.05.2022_ГП 109_Контроль_МО.xlsx']\n",
      "['C:', 'Users', 'KorneevSN', 'Downloads', 'КНИГИ', 'REPO', 'Nextcloud_connector', 'Nextcloud_connector', 'unzip', 'Контроль МО', '20.05.2022', '20.05.2022_ГП 9_Контроль_МО.xlsx']\n",
      "['C:', 'Users', 'KorneevSN', 'Downloads', 'КНИГИ', 'REPO', 'Nextcloud_connector', 'Nextcloud_connector', 'unzip', 'Контроль МО', '20.05.2022', '20.05.2022_ГП № 68_контроль_МО.xlsx']\n",
      "['C:', 'Users', 'KorneevSN', 'Downloads', 'КНИГИ', 'REPO', 'Nextcloud_connector', 'Nextcloud_connector', 'unzip', 'Контроль МО', '20.05.2022', '20.05.2022_ЩГБ_Контроль_МО.xlsx']\n",
      "['C:', 'Users', 'KorneevSN', 'Downloads', 'КНИГИ', 'REPO', 'Nextcloud_connector', 'Nextcloud_connector', 'unzip', 'Контроль МО', '20.05.2022', '20_05_2022_ГП175_Контроль_МО.xlsx']\n",
      "['C:', 'Users', 'KorneevSN', 'Downloads', 'КНИГИ', 'REPO', 'Nextcloud_connector', 'Nextcloud_connector', 'unzip', 'Контроль МО', '20.05.2022', 'Отказ от сопровождения Лазарев С.Д  ГП 109 20.05.2022.pdf']\n",
      "['C:', 'Users', 'KorneevSN', 'Downloads', 'КНИГИ', 'REPO', 'Nextcloud_connector', 'Nextcloud_connector', 'unzip', 'Контроль МО', '20.05.2022', 'КЖЗ 19.05.2022', '19.05.2022', '19.05.2022_ГП_контроль_МО_____КЖЗ.xlsx']\n",
      "['C:', 'Users', 'KorneevSN', 'Downloads', 'КНИГИ', 'REPO', 'Nextcloud_connector', 'Nextcloud_connector', 'unzip', 'Контроль МО', '20.05.2022', 'КЖЗ 19.05.2022', '19.05.2022', 'игнатова.pdf']\n",
      "['C:', 'Users', 'KorneevSN', 'Downloads', 'КНИГИ', 'REPO', 'Nextcloud_connector', 'Nextcloud_connector', 'unzip', 'Контроль МО', '20.05.2022', 'КЖЗ 19.05.2022', '19.05.2022', 'москаленко.pdf']\n",
      "['C:', 'Users', 'KorneevSN', 'Downloads', 'КНИГИ', 'REPO', 'Nextcloud_connector', 'Nextcloud_connector', 'unzip', 'Контроль МО', '20.05.2022', 'КЖЗ 19.05.2022', '19.05.2022', 'некрасова.pdf']\n",
      "['C:', 'Users', 'KorneevSN', 'Downloads', 'КНИГИ', 'REPO', 'Nextcloud_connector', 'Nextcloud_connector', 'unzip', 'Контроль МО', '20.05.2022', 'КЖЗ 19.05.2022', '19.05.2022', 'новикова.pdf']\n",
      "['C:', 'Users', 'KorneevSN', 'Downloads', 'КНИГИ', 'REPO', 'Nextcloud_connector', 'Nextcloud_connector', 'unzip', 'Контроль МО', '20.05.2022', 'КЖЗ 19.05.2022', '19.05.2022', 'терехина.pdf']\n",
      "['C:', 'Users', 'KorneevSN', 'Downloads', 'КНИГИ', 'REPO', 'Nextcloud_connector', 'Nextcloud_connector', 'unzip', 'Контроль МО', '20.05.2022', 'КЖЗ 19.05.2022', '19.05.2022', 'юсупова.pdf']\n",
      "['C:', 'Users', 'KorneevSN', 'Downloads', 'КНИГИ', 'REPO', 'Nextcloud_connector', 'Nextcloud_connector', 'unzip', 'Контроль МО', '23.05.2022', '20.05.2022_ГБУЗ_ГКБ_им. С. П. Боткина_Контроль_МО.xlsx']\n",
      "['C:', 'Users', 'KorneevSN', 'Downloads', 'КНИГИ', 'REPO', 'Nextcloud_connector', 'Nextcloud_connector', 'unzip', 'Контроль МО', '23.05.2022', '20.05.2022_ГКБ Жадкевича_Контроль_МО.xlsx']\n",
      "['C:', 'Users', 'KorneevSN', 'Downloads', 'КНИГИ', 'REPO', 'Nextcloud_connector', 'Nextcloud_connector', 'unzip', 'Контроль МО', '23.05.2022', '20.05.2022_ГКБ_Мухина_Контроль_МО.xlsx']\n",
      "['C:', 'Users', 'KorneevSN', 'Downloads', 'КНИГИ', 'REPO', 'Nextcloud_connector', 'Nextcloud_connector', 'unzip', 'Контроль МО', '23.05.2022', '20.05.2022_ГП 3_Контроль_МО.xlsx']\n",
      "['C:', 'Users', 'KorneevSN', 'Downloads', 'КНИГИ', 'REPO', 'Nextcloud_connector', 'Nextcloud_connector', 'unzip', 'Контроль МО', '23.05.2022', '20.05.2022_ГП 46 Контроль_МО.xlsx']\n",
      "['C:', 'Users', 'KorneevSN', 'Downloads', 'КНИГИ', 'REPO', 'Nextcloud_connector', 'Nextcloud_connector', 'unzip', 'Контроль МО', '23.05.2022', '20.05.2022_ГП 8_Контроль_МО.xlsx']\n",
      "['C:', 'Users', 'KorneevSN', 'Downloads', 'КНИГИ', 'REPO', 'Nextcloud_connector', 'Nextcloud_connector', 'unzip', 'Контроль МО', '23.05.2022', '20.05.2022_ГП115_Контроль_МО.xlsx']\n",
      "['C:', 'Users', 'KorneevSN', 'Downloads', 'КНИГИ', 'REPO', 'Nextcloud_connector', 'Nextcloud_connector', 'unzip', 'Контроль МО', '23.05.2022', '20.05.2022_ГП11_Контроль_МО.xlsx']\n",
      "['C:', 'Users', 'KorneevSN', 'Downloads', 'КНИГИ', 'REPO', 'Nextcloud_connector', 'Nextcloud_connector', 'unzip', 'Контроль МО', '23.05.2022', '20.05.2022_ГП12_Контроль_МО.xlsx']\n",
      "['C:', 'Users', 'KorneevSN', 'Downloads', 'КНИГИ', 'REPO', 'Nextcloud_connector', 'Nextcloud_connector', 'unzip', 'Контроль МО', '23.05.2022', '20.05.2022_ГП166_Контроль_МО.xlsx']\n",
      "['C:', 'Users', 'KorneevSN', 'Downloads', 'КНИГИ', 'REPO', 'Nextcloud_connector', 'Nextcloud_connector', 'unzip', 'Контроль МО', '23.05.2022', '20.05.2022_ГП195_Контроль_МО.xlsx']\n",
      "['C:', 'Users', 'KorneevSN', 'Downloads', 'КНИГИ', 'REPO', 'Nextcloud_connector', 'Nextcloud_connector', 'unzip', 'Контроль МО', '23.05.2022', '20.05.2022_ГП19_Контроль_МО.xlsx']\n",
      "['C:', 'Users', 'KorneevSN', 'Downloads', 'КНИГИ', 'REPO', 'Nextcloud_connector', 'Nextcloud_connector', 'unzip', 'Контроль МО', '23.05.2022', '20.05.2022_ГП220_Контроль_МО.xlsx']\n",
      "['C:', 'Users', 'KorneevSN', 'Downloads', 'КНИГИ', 'REPO', 'Nextcloud_connector', 'Nextcloud_connector', 'unzip', 'Контроль МО', '23.05.2022', '20.05.2022_ГП23_Контроль_МО (1).xlsx']\n",
      "['C:', 'Users', 'KorneevSN', 'Downloads', 'КНИГИ', 'REPO', 'Nextcloud_connector', 'Nextcloud_connector', 'unzip', 'Контроль МО', '23.05.2022', '20.05.2022_ГП6_Контроль_МО.xlsx']\n",
      "['C:', 'Users', 'KorneevSN', 'Downloads', 'КНИГИ', 'REPO', 'Nextcloud_connector', 'Nextcloud_connector', 'unzip', 'Контроль МО', '23.05.2022', '20.05.2022_ГП_191_Контроль_МО.xlsx']\n",
      "['C:', 'Users', 'KorneevSN', 'Downloads', 'КНИГИ', 'REPO', 'Nextcloud_connector', 'Nextcloud_connector', 'unzip', 'Контроль МО', '23.05.2022', '20.05.2022_ГП_52 Контроль_МО.xlsx']\n",
      "['C:', 'Users', 'KorneevSN', 'Downloads', 'КНИГИ', 'REPO', 'Nextcloud_connector', 'Nextcloud_connector', 'unzip', 'Контроль МО', '23.05.2022', '20.05.2022_ГП_Контроль_ГБ Кузнечики.xlsx']\n",
      "['C:', 'Users', 'KorneevSN', 'Downloads', 'КНИГИ', 'REPO', 'Nextcloud_connector', 'Nextcloud_connector', 'unzip', 'Контроль МО', '23.05.2022', '20.05.2022_ГП_Контроль_ГКБ 13 ЮПФ.xlsx']\n",
      "['C:', 'Users', 'KorneevSN', 'Downloads', 'КНИГИ', 'REPO', 'Nextcloud_connector', 'Nextcloud_connector', 'unzip', 'Контроль МО', '23.05.2022', '20.05.2022_ГП_Контроль_ДЦ №5.xlsx']\n",
      "['C:', 'Users', 'KorneevSN', 'Downloads', 'КНИГИ', 'REPO', 'Nextcloud_connector', 'Nextcloud_connector', 'unzip', 'Контроль МО', '23.05.2022', '20.05.2022_ГП_Контроль_МО ГБУЗ ГП№2.xlsx']\n",
      "['C:', 'Users', 'KorneevSN', 'Downloads', 'КНИГИ', 'REPO', 'Nextcloud_connector', 'Nextcloud_connector', 'unzip', 'Контроль МО', '23.05.2022', '20.05.2022_ГП_Контроль_МО_ЗелАО_ЦАОП2.xlsx']\n",
      "['C:', 'Users', 'KorneevSN', 'Downloads', 'КНИГИ', 'REPO', 'Nextcloud_connector', 'Nextcloud_connector', 'unzip', 'Контроль МО', '23.05.2022', '20.05.2022_ГП№ 214_Контроль_МО.xlsx']\n",
      "['C:', 'Users', 'KorneevSN', 'Downloads', 'КНИГИ', 'REPO', 'Nextcloud_connector', 'Nextcloud_connector', 'unzip', 'Контроль МО', '23.05.2022', '20.05.2022_ММКЦ_Коммунарка_Контроль_МО.xlsx']\n",
      "['C:', 'Users', 'KorneevSN', 'Downloads', 'КНИГИ', 'REPO', 'Nextcloud_connector', 'Nextcloud_connector', 'unzip', 'Контроль МО', '23.05.2022', '20.05.2022_ОП_ЦАОП_ГКБ_им_Д_Д_Плетнева_ДЗМ_Контроль_МО.xlsx']\n",
      "['C:', 'Users', 'KorneevSN', 'Downloads', 'КНИГИ', 'REPO', 'Nextcloud_connector', 'Nextcloud_connector', 'unzip', 'Контроль МО', '23.05.2022', '20.05.2022_поГКБ13_Контроль_МО (1).xlsx']\n",
      "['C:', 'Users', 'KorneevSN', 'Downloads', 'КНИГИ', 'REPO', 'Nextcloud_connector', 'Nextcloud_connector', 'unzip', 'Контроль МО', '23.05.2022', '20.05.2022_ЦАОП им.А.С. Логинова_Контроль_МО.xlsx']\n",
      "['C:', 'Users', 'KorneevSN', 'Downloads', 'КНИГИ', 'REPO', 'Nextcloud_connector', 'Nextcloud_connector', 'unzip', 'Контроль МО', '23.05.2022', '23.05.2022_ГБ Московский_Контроль_МО.xlsx']\n",
      "['C:', 'Users', 'KorneevSN', 'Downloads', 'КНИГИ', 'REPO', 'Nextcloud_connector', 'Nextcloud_connector', 'unzip', 'Контроль МО', '23.05.2022', '23.05.2022_ГКБ Кончаловского ПО_Контроль_МО.xlsx']\n",
      "['C:', 'Users', 'KorneevSN', 'Downloads', 'КНИГИ', 'REPO', 'Nextcloud_connector', 'Nextcloud_connector', 'unzip', 'Контроль МО', '23.05.2022', '23.05.2022_ГКОБ№1_Контроль_МО.xlsx']\n",
      "['C:', 'Users', 'KorneevSN', 'Downloads', 'КНИГИ', 'REPO', 'Nextcloud_connector', 'Nextcloud_connector', 'unzip', 'Контроль МО', '23.05.2022', '23.05.2022_ГП 107 _Контроль_МО.xlsx']\n",
      "['C:', 'Users', 'KorneevSN', 'Downloads', 'КНИГИ', 'REPO', 'Nextcloud_connector', 'Nextcloud_connector', 'unzip', 'Контроль МО', '23.05.2022', '23.05.2022_ГП 45_Контроль_МО.xlsx']\n",
      "['C:', 'Users', 'KorneevSN', 'Downloads', 'КНИГИ', 'REPO', 'Nextcloud_connector', 'Nextcloud_connector', 'unzip', 'Контроль МО', '23.05.2022', '23.05.2022_ГП 68_Контроль_МО.xlsx']\n",
      "['C:', 'Users', 'KorneevSN', 'Downloads', 'КНИГИ', 'REPO', 'Nextcloud_connector', 'Nextcloud_connector', 'unzip', 'Контроль МО', '23.05.2022', '23.05.2022_ГП № 219_Контроль_МО.xlsx']\n",
      "['C:', 'Users', 'KorneevSN', 'Downloads', 'КНИГИ', 'REPO', 'Nextcloud_connector', 'Nextcloud_connector', 'unzip', 'Контроль МО', '23.05.2022', '23.05.2022_ГП134_Контроль_МО.xlsx']\n",
      "['C:', 'Users', 'KorneevSN', 'Downloads', 'КНИГИ', 'REPO', 'Nextcloud_connector', 'Nextcloud_connector', 'unzip', 'Контроль МО', '23.05.2022', '23.05.2022_ГП209_Контроль_МО.xlsx']\n",
      "['C:', 'Users', 'KorneevSN', 'Downloads', 'КНИГИ', 'REPO', 'Nextcloud_connector', 'Nextcloud_connector', 'unzip', 'Контроль МО', '23.05.2022', '23.05.2022_ГП210_Контроль_МО.xlsx']\n",
      "['C:', 'Users', 'KorneevSN', 'Downloads', 'КНИГИ', 'REPO', 'Nextcloud_connector', 'Nextcloud_connector', 'unzip', 'Контроль МО', '23.05.2022', '23.05.2022_ГП62_Контроль_МО.xlsx']\n",
      "['C:', 'Users', 'KorneevSN', 'Downloads', 'КНИГИ', 'REPO', 'Nextcloud_connector', 'Nextcloud_connector', 'unzip', 'Контроль МО', '23.05.2022', '23.05.2022_ГП64_Контроль_МО.xlsx']\n",
      "['C:', 'Users', 'KorneevSN', 'Downloads', 'КНИГИ', 'REPO', 'Nextcloud_connector', 'Nextcloud_connector', 'unzip', 'Контроль МО', '23.05.2022', '23.05.2022_ГП66_Контроль_МО.xlsx']\n",
      "['C:', 'Users', 'KorneevSN', 'Downloads', 'КНИГИ', 'REPO', 'Nextcloud_connector', 'Nextcloud_connector', 'unzip', 'Контроль МО', '23.05.2022', '23.05.2022_ГП_Контроль_МО.xlsx']\n",
      "['C:', 'Users', 'KorneevSN', 'Downloads', 'КНИГИ', 'REPO', 'Nextcloud_connector', 'Nextcloud_connector', 'unzip', 'Контроль МО', '23.05.2022', '23.05.2022_ДКЦ №1_Контроль_МО.xlsx']\n",
      "['C:', 'Users', 'KorneevSN', 'Downloads', 'КНИГИ', 'REPO', 'Nextcloud_connector', 'Nextcloud_connector', 'unzip', 'Контроль МО', '23.05.2022', '23.05.2022_КДП 121_Контроль_МО.xlsx']\n",
      "['C:', 'Users', 'KorneevSN', 'Downloads', 'КНИГИ', 'REPO', 'Nextcloud_connector', 'Nextcloud_connector', 'unzip', 'Контроль МО', '23.05.2022', '23.05.2022_КДЦ № 6_Контроль_МО.xlsx']\n",
      "['C:', 'Users', 'KorneevSN', 'Downloads', 'КНИГИ', 'REPO', 'Nextcloud_connector', 'Nextcloud_connector', 'unzip', 'Контроль МО', '23.05.2022', '23.05.2022_ПО ГКБ им. В.В. Вересаева_Контроль_МО.xlsx']\n",
      "['C:', 'Users', 'KorneevSN', 'Downloads', 'КНИГИ', 'REPO', 'Nextcloud_connector', 'Nextcloud_connector', 'unzip', 'Контроль МО', '23.05.2022', '23.05.2022_ПО ТГБ_Контроль_МО.xlsx']\n",
      "['C:', 'Users', 'KorneevSN', 'Downloads', 'КНИГИ', 'REPO', 'Nextcloud_connector', 'Nextcloud_connector', 'unzip', 'Контроль МО', '23.05.2022', 'Абраменко цитология от 13.05.2022.pdf']\n",
      "['C:', 'Users', 'KorneevSN', 'Downloads', 'КНИГИ', 'REPO', 'Nextcloud_connector', 'Nextcloud_connector', 'unzip', 'Контроль МО', '23.05.2022', 'БЕССОЛЬЦЕВ МИХАИЛ ВАЛЕРЬЕВИЧ.pdf']\n",
      "['C:', 'Users', 'KorneevSN', 'Downloads', 'КНИГИ', 'REPO', 'Nextcloud_connector', 'Nextcloud_connector', 'unzip', 'Контроль МО', '23.05.2022', 'БОРОДКИНА ТАТЬЯНА НИКОЛАЕВНА.pdf']\n",
      "['C:', 'Users', 'KorneevSN', 'Downloads', 'КНИГИ', 'REPO', 'Nextcloud_connector', 'Nextcloud_connector', 'unzip', 'Контроль МО', '23.05.2022', 'ВАГНЕР ЕКАТЕРИНА БЕРТИЛЕВНА.pdf']\n",
      "['C:', 'Users', 'KorneevSN', 'Downloads', 'КНИГИ', 'REPO', 'Nextcloud_connector', 'Nextcloud_connector', 'unzip', 'Контроль МО', '23.05.2022', 'Власова С.А. 2.jpg']\n",
      "['C:', 'Users', 'KorneevSN', 'Downloads', 'КНИГИ', 'REPO', 'Nextcloud_connector', 'Nextcloud_connector', 'unzip', 'Контроль МО', '23.05.2022', 'Власова С.А..jpg']\n",
      "['C:', 'Users', 'KorneevSN', 'Downloads', 'КНИГИ', 'REPO', 'Nextcloud_connector', 'Nextcloud_connector', 'unzip', 'Контроль МО', '23.05.2022', 'ВОРОБЬЕВА ОЛЬГА ВЛАДИМИРОВНА.pdf']\n",
      "['C:', 'Users', 'KorneevSN', 'Downloads', 'КНИГИ', 'REPO', 'Nextcloud_connector', 'Nextcloud_connector', 'unzip', 'Контроль МО', '23.05.2022', 'ГНЕВАШЕВ АНДРЕЙ ВЯЧЕСЛАВОВИЧ.pdf']\n",
      "['C:', 'Users', 'KorneevSN', 'Downloads', 'КНИГИ', 'REPO', 'Nextcloud_connector', 'Nextcloud_connector', 'unzip', 'Контроль МО', '23.05.2022', 'ГП 52 филиал 2 20.05.2022_ГП_Контроль_.xlsx']\n",
      "['C:', 'Users', 'KorneevSN', 'Downloads', 'КНИГИ', 'REPO', 'Nextcloud_connector', 'Nextcloud_connector', 'unzip', 'Контроль МО', '23.05.2022', 'ГП212_Контроль_МО_23.05.2022.xlsx']\n",
      "['C:', 'Users', 'KorneevSN', 'Downloads', 'КНИГИ', 'REPO', 'Nextcloud_connector', 'Nextcloud_connector', 'unzip', 'Контроль МО', '23.05.2022', 'ГП5 20.05.2022_ГП_Контроль_МО.xlsx']\n",
      "['C:', 'Users', 'KorneevSN', 'Downloads', 'КНИГИ', 'REPO', 'Nextcloud_connector', 'Nextcloud_connector', 'unzip', 'Контроль МО', '23.05.2022', 'ГП_218_20.05.2022_ГП_Контроль_МО.xlsx']\n",
      "['C:', 'Users', 'KorneevSN', 'Downloads', 'КНИГИ', 'REPO', 'Nextcloud_connector', 'Nextcloud_connector', 'unzip', 'Контроль МО', '23.05.2022', 'Гриднева ОК 20.05.22.pdf']\n",
      "['C:', 'Users', 'KorneevSN', 'Downloads', 'КНИГИ', 'REPO', 'Nextcloud_connector', 'Nextcloud_connector', 'unzip', 'Контроль МО', '23.05.2022', 'ДЦ3 отказ Грачева И.В.. 23.05.2022.pdf']\n",
      "['C:', 'Users', 'KorneevSN', 'Downloads', 'КНИГИ', 'REPO', 'Nextcloud_connector', 'Nextcloud_connector', 'unzip', 'Контроль МО', '23.05.2022', 'Зотова О.А..jpg']\n",
      "['C:', 'Users', 'KorneevSN', 'Downloads', 'КНИГИ', 'REPO', 'Nextcloud_connector', 'Nextcloud_connector', 'unzip', 'Контроль МО', '23.05.2022', 'Калугин конс.Торакального хирурга от 17.05.2022.pdf']\n",
      "['C:', 'Users', 'KorneevSN', 'Downloads', 'КНИГИ', 'REPO', 'Nextcloud_connector', 'Nextcloud_connector', 'unzip', 'Контроль МО', '23.05.2022', 'Калугин конс.Хирурга от 11.05.2022.pdf']\n",
      "['C:', 'Users', 'KorneevSN', 'Downloads', 'КНИГИ', 'REPO', 'Nextcloud_connector', 'Nextcloud_connector', 'unzip', 'Контроль МО', '23.05.2022', 'Калугин конс.Хирурга от 13.05.2022.pdf']\n",
      "['C:', 'Users', 'KorneevSN', 'Downloads', 'КНИГИ', 'REPO', 'Nextcloud_connector', 'Nextcloud_connector', 'unzip', 'Контроль МО', '23.05.2022', 'Калугин конс.Хирурга от 20.05.2022.pdf']\n",
      "['C:', 'Users', 'KorneevSN', 'Downloads', 'КНИГИ', 'REPO', 'Nextcloud_connector', 'Nextcloud_connector', 'unzip', 'Контроль МО', '23.05.2022', 'Калугин предоперационный осмотр анестезиолога от 16.05.2022.pdf']\n",
      "['C:', 'Users', 'KorneevSN', 'Downloads', 'КНИГИ', 'REPO', 'Nextcloud_connector', 'Nextcloud_connector', 'unzip', 'Контроль МО', '23.05.2022', 'КДЦ-2_20.05.2022_Контроль_МО.xlsx']\n",
      "['C:', 'Users', 'KorneevSN', 'Downloads', 'КНИГИ', 'REPO', 'Nextcloud_connector', 'Nextcloud_connector', 'unzip', 'Контроль МО', '23.05.2022', 'КОГУТ ВЕРА СЕРГЕЕВНА.pdf']\n",
      "['C:', 'Users', 'KorneevSN', 'Downloads', 'КНИГИ', 'REPO', 'Nextcloud_connector', 'Nextcloud_connector', 'unzip', 'Контроль МО', '23.05.2022', 'Колесникова конс.Онколога от 11.05.2022.pdf']\n",
      "['C:', 'Users', 'KorneevSN', 'Downloads', 'КНИГИ', 'REPO', 'Nextcloud_connector', 'Nextcloud_connector', 'unzip', 'Контроль МО', '23.05.2022', 'Колесникова ОК от 11.05.2022.pdf']\n",
      "['C:', 'Users', 'KorneevSN', 'Downloads', 'КНИГИ', 'REPO', 'Nextcloud_connector', 'Nextcloud_connector', 'unzip', 'Контроль МО', '23.05.2022', 'Колесникова ОК от 19.05.2022.pdf']\n",
      "['C:', 'Users', 'KorneevSN', 'Downloads', 'КНИГИ', 'REPO', 'Nextcloud_connector', 'Nextcloud_connector', 'unzip', 'Контроль МО', '23.05.2022', 'КОНЕВА АЛЛА СЕРГЕЕВНА.pdf']\n",
      "['C:', 'Users', 'KorneevSN', 'Downloads', 'КНИГИ', 'REPO', 'Nextcloud_connector', 'Nextcloud_connector', 'unzip', 'Контроль МО', '23.05.2022', 'Копия 20.05.2022_ГП_Контроль_МО.xlsx']\n",
      "['C:', 'Users', 'KorneevSN', 'Downloads', 'КНИГИ', 'REPO', 'Nextcloud_connector', 'Nextcloud_connector', 'unzip', 'Контроль МО', '23.05.2022', 'Курдельчук конс.Уролога от 19.05.2022.pdf']\n",
      "['C:', 'Users', 'KorneevSN', 'Downloads', 'КНИГИ', 'REPO', 'Nextcloud_connector', 'Nextcloud_connector', 'unzip', 'Контроль МО', '23.05.2022', 'Курдельчук ОК от 19.05.2022.pdf']\n",
      "['C:', 'Users', 'KorneevSN', 'Downloads', 'КНИГИ', 'REPO', 'Nextcloud_connector', 'Nextcloud_connector', 'unzip', 'Контроль МО', '23.05.2022', 'Кутузов цитология от 26.04.2022.pdf']\n",
      "['C:', 'Users', 'KorneevSN', 'Downloads', 'КНИГИ', 'REPO', 'Nextcloud_connector', 'Nextcloud_connector', 'unzip', 'Контроль МО', '23.05.2022', 'Мезенцев конс.Онколога от 19.05.2022.pdf']\n",
      "['C:', 'Users', 'KorneevSN', 'Downloads', 'КНИГИ', 'REPO', 'Nextcloud_connector', 'Nextcloud_connector', 'unzip', 'Контроль МО', '23.05.2022', 'МЕЩЕРЯКОВА КАРИНА РУСЛАНОВНА.pdf']\n",
      "['C:', 'Users', 'KorneevSN', 'Downloads', 'КНИГИ', 'REPO', 'Nextcloud_connector', 'Nextcloud_connector', 'unzip', 'Контроль МО', '23.05.2022', 'МИТРОФАНОВ ВЛАДИМИР ЕГОРОВИЧ.pdf']\n",
      "['C:', 'Users', 'KorneevSN', 'Downloads', 'КНИГИ', 'REPO', 'Nextcloud_connector', 'Nextcloud_connector', 'unzip', 'Контроль МО', '23.05.2022', 'Отказ Моревой_ГКБ13ЮПФ.pdf']\n",
      "['C:', 'Users', 'KorneevSN', 'Downloads', 'КНИГИ', 'REPO', 'Nextcloud_connector', 'Nextcloud_connector', 'unzip', 'Контроль МО', '23.05.2022', 'Поляков конс.Онколога от 05.05.2022.pdf']\n",
      "['C:', 'Users', 'KorneevSN', 'Downloads', 'КНИГИ', 'REPO', 'Nextcloud_connector', 'Nextcloud_connector', 'unzip', 'Контроль МО', '23.05.2022', 'Поляков конс.Онколога от 19.05.2022.pdf']\n",
      "['C:', 'Users', 'KorneevSN', 'Downloads', 'КНИГИ', 'REPO', 'Nextcloud_connector', 'Nextcloud_connector', 'unzip', 'Контроль МО', '23.05.2022', 'Поляков ОК от 19.05.2022.pdf']\n",
      "['C:', 'Users', 'KorneevSN', 'Downloads', 'КНИГИ', 'REPO', 'Nextcloud_connector', 'Nextcloud_connector', 'unzip', 'Контроль МО', '23.05.2022', 'Потапова амбулаторный прием 18.04.22.pdf']\n",
      "['C:', 'Users', 'KorneevSN', 'Downloads', 'КНИГИ', 'REPO', 'Nextcloud_connector', 'Nextcloud_connector', 'unzip', 'Контроль МО', '23.05.2022', 'Привалихин А. И. осмотр офтальмолога 12.05.22.docx']\n",
      "['C:', 'Users', 'KorneevSN', 'Downloads', 'КНИГИ', 'REPO', 'Nextcloud_connector', 'Nextcloud_connector', 'unzip', 'Контроль МО', '23.05.2022', 'ПРОКОФЬЕВА СЕРАФИМА МИХАЙЛОВНА.pdf']\n",
      "['C:', 'Users', 'KorneevSN', 'Downloads', 'КНИГИ', 'REPO', 'Nextcloud_connector', 'Nextcloud_connector', 'unzip', 'Контроль МО', '23.05.2022', 'Путилова амбулаторный прием 17.03.22.pdf']\n",
      "['C:', 'Users', 'KorneevSN', 'Downloads', 'КНИГИ', 'REPO', 'Nextcloud_connector', 'Nextcloud_connector', 'unzip', 'Контроль МО', '23.05.2022', 'Путилова консультация колопроктолога 05.03.22.pdf']\n",
      "['C:', 'Users', 'KorneevSN', 'Downloads', 'КНИГИ', 'REPO', 'Nextcloud_connector', 'Nextcloud_connector', 'unzip', 'Контроль МО', '23.05.2022', 'Путилова консультация невролога 10.03.22.pdf']\n",
      "['C:', 'Users', 'KorneevSN', 'Downloads', 'КНИГИ', 'REPO', 'Nextcloud_connector', 'Nextcloud_connector', 'unzip', 'Контроль МО', '23.05.2022', 'Путилова консультация офтальмолога 17.03.22.pdf']\n",
      "['C:', 'Users', 'KorneevSN', 'Downloads', 'КНИГИ', 'REPO', 'Nextcloud_connector', 'Nextcloud_connector', 'unzip', 'Контроль МО', '23.05.2022', 'Путилова предоперац.осомтр анест.09.03.22.pdf']\n",
      "['C:', 'Users', 'KorneevSN', 'Downloads', 'КНИГИ', 'REPO', 'Nextcloud_connector', 'Nextcloud_connector', 'unzip', 'Контроль МО', '23.05.2022', 'РУСИН СЕРГЕЙ ЕВГЕНЬЕВИЧ.pdf']\n",
      "['C:', 'Users', 'KorneevSN', 'Downloads', 'КНИГИ', 'REPO', 'Nextcloud_connector', 'Nextcloud_connector', 'unzip', 'Контроль МО', '23.05.2022', 'РЫЖКОВ СЕРГЕЙ НИКОЛАЕВИЧ.pdf']\n",
      "['C:', 'Users', 'KorneevSN', 'Downloads', 'КНИГИ', 'REPO', 'Nextcloud_connector', 'Nextcloud_connector', 'unzip', 'Контроль МО', '23.05.2022', 'СВИРИДОВА ЛЮДМИЛА ГЕОРГИЕВНА.pdf']\n",
      "['C:', 'Users', 'KorneevSN', 'Downloads', 'КНИГИ', 'REPO', 'Nextcloud_connector', 'Nextcloud_connector', 'unzip', 'Контроль МО', '23.05.2022', 'Синегаева конс.Онколога от 19.05.2022.pdf']\n",
      "['C:', 'Users', 'KorneevSN', 'Downloads', 'КНИГИ', 'REPO', 'Nextcloud_connector', 'Nextcloud_connector', 'unzip', 'Контроль МО', '23.05.2022', 'Соломонов М.А. 2.jpg']\n",
      "['C:', 'Users', 'KorneevSN', 'Downloads', 'КНИГИ', 'REPO', 'Nextcloud_connector', 'Nextcloud_connector', 'unzip', 'Контроль МО', '23.05.2022', 'Соломонов М.А..jpg']\n",
      "['C:', 'Users', 'KorneevSN', 'Downloads', 'КНИГИ', 'REPO', 'Nextcloud_connector', 'Nextcloud_connector', 'unzip', 'Контроль МО', '23.05.2022', 'Сычева ОК от 18.05.2022.pdf']\n",
      "['C:', 'Users', 'KorneevSN', 'Downloads', 'КНИГИ', 'REPO', 'Nextcloud_connector', 'Nextcloud_connector', 'unzip', 'Контроль МО', '23.05.2022', 'Сычева предоперационный осмотр анестезиолога от 17.05.2022.pdf']\n",
      "['C:', 'Users', 'KorneevSN', 'Downloads', 'КНИГИ', 'REPO', 'Nextcloud_connector', 'Nextcloud_connector', 'unzip', 'Контроль МО', '23.05.2022', 'Сычева совместная консультация от 17.05.2022.pdf']\n",
      "['C:', 'Users', 'KorneevSN', 'Downloads', 'КНИГИ', 'REPO', 'Nextcloud_connector', 'Nextcloud_connector', 'unzip', 'Контроль МО', '23.05.2022', 'Сычева совместная консультация от 18.05.2022.pdf']\n",
      "['C:', 'Users', 'KorneevSN', 'Downloads', 'КНИГИ', 'REPO', 'Nextcloud_connector', 'Nextcloud_connector', 'unzip', 'Контроль МО', '23.05.2022', 'Тайков консультация уролога 19.05.22.pdf']\n",
      "['C:', 'Users', 'KorneevSN', 'Downloads', 'КНИГИ', 'REPO', 'Nextcloud_connector', 'Nextcloud_connector', 'unzip', 'Контроль МО', '23.05.2022', 'ТИХИХ СТАНИСЛАВ ГРИГОРЬЕВИЧ.pdf']\n",
      "['C:', 'Users', 'KorneevSN', 'Downloads', 'КНИГИ', 'REPO', 'Nextcloud_connector', 'Nextcloud_connector', 'unzip', 'Контроль МО', '23.05.2022', 'УСКОВА ВАЛЕНТИНА НИКОЛАЕВНА.pdf']\n",
      "['C:', 'Users', 'KorneevSN', 'Downloads', 'КНИГИ', 'REPO', 'Nextcloud_connector', 'Nextcloud_connector', 'unzip', 'Контроль МО', '23.05.2022', 'ХАЕВСКАЯ ЕВДОКИЯ ИВАНОВНА.pdf']\n",
      "['C:', 'Users', 'KorneevSN', 'Downloads', 'КНИГИ', 'REPO', 'Nextcloud_connector', 'Nextcloud_connector', 'unzip', 'Контроль МО', '23.05.2022', 'Хурзокова консультация-эндоск.14.04.22.pdf']\n",
      "['C:', 'Users', 'KorneevSN', 'Downloads', 'КНИГИ', 'REPO', 'Nextcloud_connector', 'Nextcloud_connector', 'unzip', 'Контроль МО', '23.05.2022', 'Шаров конс.Онколога от 26.04.2022.pdf']\n",
      "['C:', 'Users', 'KorneevSN', 'Downloads', 'КНИГИ', 'REPO', 'Nextcloud_connector', 'Nextcloud_connector', 'unzip', 'Контроль МО', '23.05.2022', 'Шаров цитология от 25.04.2022.pdf']\n",
      "['C:', 'Users', 'KorneevSN', 'Downloads', 'КНИГИ', 'REPO', 'Nextcloud_connector', 'Nextcloud_connector', 'unzip', 'Контроль МО', '23.05.2022', 'ЮДИН ВИКТОР ВАСИЛЬЕВИЧ.pdf']\n",
      "['C:', 'Users', 'KorneevSN', 'Downloads', 'КНИГИ', 'REPO', 'Nextcloud_connector', 'Nextcloud_connector', 'unzip', 'Контроль МО', '23.05.2022', 'КЖЗ', '20.05.2022', '20.05.2022_ГП_Контроль_МО_____КЖЗ.xlsx']\n",
      "['C:', 'Users', 'KorneevSN', 'Downloads', 'КНИГИ', 'REPO', 'Nextcloud_connector', 'Nextcloud_connector', 'unzip', 'Контроль МО', '23.05.2022', 'КЖЗ', '20.05.2022', 'ильина.pdf']\n",
      "['C:', 'Users', 'KorneevSN', 'Downloads', 'КНИГИ', 'REPO', 'Nextcloud_connector', 'Nextcloud_connector', 'unzip', 'Контроль МО', '23.05.2022', 'КЖЗ', '20.05.2022', 'ким.pdf']\n",
      "['C:', 'Users', 'KorneevSN', 'Downloads', 'КНИГИ', 'REPO', 'Nextcloud_connector', 'Nextcloud_connector', 'unzip', 'Контроль МО', '23.05.2022', 'КЖЗ', '20.05.2022', 'коротаева.pdf']\n",
      "['C:', 'Users', 'KorneevSN', 'Downloads', 'КНИГИ', 'REPO', 'Nextcloud_connector', 'Nextcloud_connector', 'unzip', 'Контроль МО', '23.05.2022', 'КЖЗ', '20.05.2022', 'некрасова.pdf']\n",
      "['C:', 'Users', 'KorneevSN', 'Downloads', 'КНИГИ', 'REPO', 'Nextcloud_connector', 'Nextcloud_connector', 'unzip', 'Контроль МО', '23.05.2022', 'КЖЗ', '20.05.2022', 'семанина.pdf']\n",
      "['C:', 'Users', 'KorneevSN', 'Downloads', 'КНИГИ', 'REPO', 'Nextcloud_connector', 'Nextcloud_connector', 'unzip', 'Контроль МО', '23.05.2022', 'КЖЗ', '20.05.2022', 'шмагина.pdf']\n"
     ]
    }
   ],
   "source": [
    "for path_to_file in unpacked_list:\n",
    "    name_listing = path_to_file.split('\\\\')\n",
    "    print(name_listing)\n",
    "#     kjz_paths = []\n",
    "#     kjz_path = [\"\\\\\".join(name_listing) for s in name_listing if 'КЖЗ' in s]\n",
    "#     if kjz_path:\n",
    "#         kjz_paths.append()\n",
    "# #         print(path_to_file)\n",
    "#         name_listing[-1] = 'КЖЗ-'+name_listing[-2]+'-'+name_listing[-1]\n",
    "#         name_listing[-1] = name_listing[-1].replace('КЖЗ-КЖЗ-', 'КЖЗ-')\n",
    "#         os.rename(path_to_file,\n",
    "#           '\\\\'.join([str(n) for n in name_listing]))\n",
    "#     else:\n",
    "#         name_listing[-1] = name_listing[-2]+'-'+name_listing[-1]\n",
    "#         os.rename(path_to_file,\n",
    "#                   '\\\\'.join([str(n) for n in name_listing]))"
   ]
  },
  {
   "cell_type": "code",
   "execution_count": null,
   "metadata": {},
   "outputs": [],
   "source": []
  },
  {
   "cell_type": "code",
   "execution_count": null,
   "metadata": {},
   "outputs": [],
   "source": []
  },
  {
   "cell_type": "code",
   "execution_count": null,
   "metadata": {},
   "outputs": [],
   "source": []
  },
  {
   "cell_type": "code",
   "execution_count": 19,
   "metadata": {},
   "outputs": [
    {
     "data": {
      "text/plain": [
       "['C:\\\\Users\\\\KorneevSN\\\\Downloads\\\\КНИГИ\\\\REPO\\\\Nextcloud_connector\\\\Nextcloud_connector\\\\unzip\\\\КЖЗ\\\\test1-ЦАОП-ГКОБ№1-ЦАО-цитологическое-исследование-06.05.2022.pdf',\n",
       " 'C:\\\\Users\\\\KorneevSN\\\\Downloads\\\\КНИГИ\\\\REPO\\\\Nextcloud_connector\\\\Nextcloud_connector\\\\unzip\\\\КЖЗ\\\\test2-ЦАОП-ГКОБ№1-ЦАО-цитологическое-исследование-06.05.2022.pdf',\n",
       " 'C:\\\\Users\\\\KorneevSN\\\\Downloads\\\\КНИГИ\\\\REPO\\\\Nextcloud_connector\\\\Nextcloud_connector\\\\unzip\\\\КЖЗ\\\\test3-ЦАОП-ГКОБ№1-ЦАО-цитологическое-исследование-06.05.2022.pdf',\n",
       " 'C:\\\\Users\\\\KorneevSN\\\\Downloads\\\\КНИГИ\\\\REPO\\\\Nextcloud_connector\\\\Nextcloud_connector\\\\unzip\\\\Контроль МО\\\\20.05.2022\\\\19.05.2022_ГП_52 контроль_МО.xlsx',\n",
       " 'C:\\\\Users\\\\KorneevSN\\\\Downloads\\\\КНИГИ\\\\REPO\\\\Nextcloud_connector\\\\Nextcloud_connector\\\\unzip\\\\Контроль МО\\\\20.05.2022\\\\19.05.2022_ЦАОП им. А.С. Логинова_контроль_МО.xlsx',\n",
       " 'C:\\\\Users\\\\KorneevSN\\\\Downloads\\\\КНИГИ\\\\REPO\\\\Nextcloud_connector\\\\Nextcloud_connector\\\\unzip\\\\Контроль МО\\\\20.05.2022\\\\20.05.2022 ГП 214 пациенты с подозрением на ЗНО.xlsx',\n",
       " 'C:\\\\Users\\\\KorneevSN\\\\Downloads\\\\КНИГИ\\\\REPO\\\\Nextcloud_connector\\\\Nextcloud_connector\\\\unzip\\\\Контроль МО\\\\20.05.2022\\\\20.05.2022_Вороновская больница_Контроль_МО .xlsx',\n",
       " 'C:\\\\Users\\\\KorneevSN\\\\Downloads\\\\КНИГИ\\\\REPO\\\\Nextcloud_connector\\\\Nextcloud_connector\\\\unzip\\\\Контроль МО\\\\20.05.2022\\\\20.05.2022_ГП 107_контроль_МО.xlsx',\n",
       " 'C:\\\\Users\\\\KorneevSN\\\\Downloads\\\\КНИГИ\\\\REPO\\\\Nextcloud_connector\\\\Nextcloud_connector\\\\unzip\\\\Контроль МО\\\\20.05.2022\\\\20.05.2022_ГП 109_Контроль_МО.xlsx',\n",
       " 'C:\\\\Users\\\\KorneevSN\\\\Downloads\\\\КНИГИ\\\\REPO\\\\Nextcloud_connector\\\\Nextcloud_connector\\\\unzip\\\\Контроль МО\\\\20.05.2022\\\\20.05.2022_ГП 9_Контроль_МО.xlsx',\n",
       " 'C:\\\\Users\\\\KorneevSN\\\\Downloads\\\\КНИГИ\\\\REPO\\\\Nextcloud_connector\\\\Nextcloud_connector\\\\unzip\\\\Контроль МО\\\\20.05.2022\\\\20.05.2022_ГП № 68_контроль_МО.xlsx',\n",
       " 'C:\\\\Users\\\\KorneevSN\\\\Downloads\\\\КНИГИ\\\\REPO\\\\Nextcloud_connector\\\\Nextcloud_connector\\\\unzip\\\\Контроль МО\\\\20.05.2022\\\\20.05.2022_ЩГБ_Контроль_МО.xlsx',\n",
       " 'C:\\\\Users\\\\KorneevSN\\\\Downloads\\\\КНИГИ\\\\REPO\\\\Nextcloud_connector\\\\Nextcloud_connector\\\\unzip\\\\Контроль МО\\\\20.05.2022\\\\20_05_2022_ГП175_Контроль_МО.xlsx',\n",
       " 'C:\\\\Users\\\\KorneevSN\\\\Downloads\\\\КНИГИ\\\\REPO\\\\Nextcloud_connector\\\\Nextcloud_connector\\\\unzip\\\\Контроль МО\\\\20.05.2022\\\\Отказ от сопровождения Лазарев С.Д  ГП 109 20.05.2022.pdf',\n",
       " 'C:\\\\Users\\\\KorneevSN\\\\Downloads\\\\КНИГИ\\\\REPO\\\\Nextcloud_connector\\\\Nextcloud_connector\\\\unzip\\\\Контроль МО\\\\20.05.2022\\\\КЖЗ 19.05.2022\\\\19.05.2022\\\\19.05.2022_ГП_контроль_МО_____КЖЗ.xlsx',\n",
       " 'C:\\\\Users\\\\KorneevSN\\\\Downloads\\\\КНИГИ\\\\REPO\\\\Nextcloud_connector\\\\Nextcloud_connector\\\\unzip\\\\Контроль МО\\\\20.05.2022\\\\КЖЗ 19.05.2022\\\\19.05.2022\\\\игнатова.pdf',\n",
       " 'C:\\\\Users\\\\KorneevSN\\\\Downloads\\\\КНИГИ\\\\REPO\\\\Nextcloud_connector\\\\Nextcloud_connector\\\\unzip\\\\Контроль МО\\\\20.05.2022\\\\КЖЗ 19.05.2022\\\\19.05.2022\\\\москаленко.pdf',\n",
       " 'C:\\\\Users\\\\KorneevSN\\\\Downloads\\\\КНИГИ\\\\REPO\\\\Nextcloud_connector\\\\Nextcloud_connector\\\\unzip\\\\Контроль МО\\\\20.05.2022\\\\КЖЗ 19.05.2022\\\\19.05.2022\\\\некрасова.pdf',\n",
       " 'C:\\\\Users\\\\KorneevSN\\\\Downloads\\\\КНИГИ\\\\REPO\\\\Nextcloud_connector\\\\Nextcloud_connector\\\\unzip\\\\Контроль МО\\\\20.05.2022\\\\КЖЗ 19.05.2022\\\\19.05.2022\\\\новикова.pdf',\n",
       " 'C:\\\\Users\\\\KorneevSN\\\\Downloads\\\\КНИГИ\\\\REPO\\\\Nextcloud_connector\\\\Nextcloud_connector\\\\unzip\\\\Контроль МО\\\\20.05.2022\\\\КЖЗ 19.05.2022\\\\19.05.2022\\\\терехина.pdf',\n",
       " 'C:\\\\Users\\\\KorneevSN\\\\Downloads\\\\КНИГИ\\\\REPO\\\\Nextcloud_connector\\\\Nextcloud_connector\\\\unzip\\\\Контроль МО\\\\20.05.2022\\\\КЖЗ 19.05.2022\\\\19.05.2022\\\\юсупова.pdf',\n",
       " 'C:\\\\Users\\\\KorneevSN\\\\Downloads\\\\КНИГИ\\\\REPO\\\\Nextcloud_connector\\\\Nextcloud_connector\\\\unzip\\\\Контроль МО\\\\23.05.2022\\\\20.05.2022_ГБУЗ_ГКБ_им. С. П. Боткина_Контроль_МО.xlsx',\n",
       " 'C:\\\\Users\\\\KorneevSN\\\\Downloads\\\\КНИГИ\\\\REPO\\\\Nextcloud_connector\\\\Nextcloud_connector\\\\unzip\\\\Контроль МО\\\\23.05.2022\\\\20.05.2022_ГКБ Жадкевича_Контроль_МО.xlsx',\n",
       " 'C:\\\\Users\\\\KorneevSN\\\\Downloads\\\\КНИГИ\\\\REPO\\\\Nextcloud_connector\\\\Nextcloud_connector\\\\unzip\\\\Контроль МО\\\\23.05.2022\\\\20.05.2022_ГКБ_Мухина_Контроль_МО.xlsx',\n",
       " 'C:\\\\Users\\\\KorneevSN\\\\Downloads\\\\КНИГИ\\\\REPO\\\\Nextcloud_connector\\\\Nextcloud_connector\\\\unzip\\\\Контроль МО\\\\23.05.2022\\\\20.05.2022_ГП 3_Контроль_МО.xlsx',\n",
       " 'C:\\\\Users\\\\KorneevSN\\\\Downloads\\\\КНИГИ\\\\REPO\\\\Nextcloud_connector\\\\Nextcloud_connector\\\\unzip\\\\Контроль МО\\\\23.05.2022\\\\20.05.2022_ГП 46 Контроль_МО.xlsx',\n",
       " 'C:\\\\Users\\\\KorneevSN\\\\Downloads\\\\КНИГИ\\\\REPO\\\\Nextcloud_connector\\\\Nextcloud_connector\\\\unzip\\\\Контроль МО\\\\23.05.2022\\\\20.05.2022_ГП 8_Контроль_МО.xlsx',\n",
       " 'C:\\\\Users\\\\KorneevSN\\\\Downloads\\\\КНИГИ\\\\REPO\\\\Nextcloud_connector\\\\Nextcloud_connector\\\\unzip\\\\Контроль МО\\\\23.05.2022\\\\20.05.2022_ГП115_Контроль_МО.xlsx',\n",
       " 'C:\\\\Users\\\\KorneevSN\\\\Downloads\\\\КНИГИ\\\\REPO\\\\Nextcloud_connector\\\\Nextcloud_connector\\\\unzip\\\\Контроль МО\\\\23.05.2022\\\\20.05.2022_ГП11_Контроль_МО.xlsx',\n",
       " 'C:\\\\Users\\\\KorneevSN\\\\Downloads\\\\КНИГИ\\\\REPO\\\\Nextcloud_connector\\\\Nextcloud_connector\\\\unzip\\\\Контроль МО\\\\23.05.2022\\\\20.05.2022_ГП12_Контроль_МО.xlsx',\n",
       " 'C:\\\\Users\\\\KorneevSN\\\\Downloads\\\\КНИГИ\\\\REPO\\\\Nextcloud_connector\\\\Nextcloud_connector\\\\unzip\\\\Контроль МО\\\\23.05.2022\\\\20.05.2022_ГП166_Контроль_МО.xlsx',\n",
       " 'C:\\\\Users\\\\KorneevSN\\\\Downloads\\\\КНИГИ\\\\REPO\\\\Nextcloud_connector\\\\Nextcloud_connector\\\\unzip\\\\Контроль МО\\\\23.05.2022\\\\20.05.2022_ГП195_Контроль_МО.xlsx',\n",
       " 'C:\\\\Users\\\\KorneevSN\\\\Downloads\\\\КНИГИ\\\\REPO\\\\Nextcloud_connector\\\\Nextcloud_connector\\\\unzip\\\\Контроль МО\\\\23.05.2022\\\\20.05.2022_ГП19_Контроль_МО.xlsx',\n",
       " 'C:\\\\Users\\\\KorneevSN\\\\Downloads\\\\КНИГИ\\\\REPO\\\\Nextcloud_connector\\\\Nextcloud_connector\\\\unzip\\\\Контроль МО\\\\23.05.2022\\\\20.05.2022_ГП220_Контроль_МО.xlsx',\n",
       " 'C:\\\\Users\\\\KorneevSN\\\\Downloads\\\\КНИГИ\\\\REPO\\\\Nextcloud_connector\\\\Nextcloud_connector\\\\unzip\\\\Контроль МО\\\\23.05.2022\\\\20.05.2022_ГП23_Контроль_МО (1).xlsx',\n",
       " 'C:\\\\Users\\\\KorneevSN\\\\Downloads\\\\КНИГИ\\\\REPO\\\\Nextcloud_connector\\\\Nextcloud_connector\\\\unzip\\\\Контроль МО\\\\23.05.2022\\\\20.05.2022_ГП6_Контроль_МО.xlsx',\n",
       " 'C:\\\\Users\\\\KorneevSN\\\\Downloads\\\\КНИГИ\\\\REPO\\\\Nextcloud_connector\\\\Nextcloud_connector\\\\unzip\\\\Контроль МО\\\\23.05.2022\\\\20.05.2022_ГП_191_Контроль_МО.xlsx',\n",
       " 'C:\\\\Users\\\\KorneevSN\\\\Downloads\\\\КНИГИ\\\\REPO\\\\Nextcloud_connector\\\\Nextcloud_connector\\\\unzip\\\\Контроль МО\\\\23.05.2022\\\\20.05.2022_ГП_52 Контроль_МО.xlsx',\n",
       " 'C:\\\\Users\\\\KorneevSN\\\\Downloads\\\\КНИГИ\\\\REPO\\\\Nextcloud_connector\\\\Nextcloud_connector\\\\unzip\\\\Контроль МО\\\\23.05.2022\\\\20.05.2022_ГП_Контроль_ГБ Кузнечики.xlsx',\n",
       " 'C:\\\\Users\\\\KorneevSN\\\\Downloads\\\\КНИГИ\\\\REPO\\\\Nextcloud_connector\\\\Nextcloud_connector\\\\unzip\\\\Контроль МО\\\\23.05.2022\\\\20.05.2022_ГП_Контроль_ГКБ 13 ЮПФ.xlsx',\n",
       " 'C:\\\\Users\\\\KorneevSN\\\\Downloads\\\\КНИГИ\\\\REPO\\\\Nextcloud_connector\\\\Nextcloud_connector\\\\unzip\\\\Контроль МО\\\\23.05.2022\\\\20.05.2022_ГП_Контроль_ДЦ №5.xlsx',\n",
       " 'C:\\\\Users\\\\KorneevSN\\\\Downloads\\\\КНИГИ\\\\REPO\\\\Nextcloud_connector\\\\Nextcloud_connector\\\\unzip\\\\Контроль МО\\\\23.05.2022\\\\20.05.2022_ГП_Контроль_МО ГБУЗ ГП№2.xlsx',\n",
       " 'C:\\\\Users\\\\KorneevSN\\\\Downloads\\\\КНИГИ\\\\REPO\\\\Nextcloud_connector\\\\Nextcloud_connector\\\\unzip\\\\Контроль МО\\\\23.05.2022\\\\20.05.2022_ГП_Контроль_МО_ЗелАО_ЦАОП2.xlsx',\n",
       " 'C:\\\\Users\\\\KorneevSN\\\\Downloads\\\\КНИГИ\\\\REPO\\\\Nextcloud_connector\\\\Nextcloud_connector\\\\unzip\\\\Контроль МО\\\\23.05.2022\\\\20.05.2022_ГП№ 214_Контроль_МО.xlsx',\n",
       " 'C:\\\\Users\\\\KorneevSN\\\\Downloads\\\\КНИГИ\\\\REPO\\\\Nextcloud_connector\\\\Nextcloud_connector\\\\unzip\\\\Контроль МО\\\\23.05.2022\\\\20.05.2022_ММКЦ_Коммунарка_Контроль_МО.xlsx',\n",
       " 'C:\\\\Users\\\\KorneevSN\\\\Downloads\\\\КНИГИ\\\\REPO\\\\Nextcloud_connector\\\\Nextcloud_connector\\\\unzip\\\\Контроль МО\\\\23.05.2022\\\\20.05.2022_ОП_ЦАОП_ГКБ_им_Д_Д_Плетнева_ДЗМ_Контроль_МО.xlsx',\n",
       " 'C:\\\\Users\\\\KorneevSN\\\\Downloads\\\\КНИГИ\\\\REPO\\\\Nextcloud_connector\\\\Nextcloud_connector\\\\unzip\\\\Контроль МО\\\\23.05.2022\\\\20.05.2022_поГКБ13_Контроль_МО (1).xlsx',\n",
       " 'C:\\\\Users\\\\KorneevSN\\\\Downloads\\\\КНИГИ\\\\REPO\\\\Nextcloud_connector\\\\Nextcloud_connector\\\\unzip\\\\Контроль МО\\\\23.05.2022\\\\20.05.2022_ЦАОП им.А.С. Логинова_Контроль_МО.xlsx',\n",
       " 'C:\\\\Users\\\\KorneevSN\\\\Downloads\\\\КНИГИ\\\\REPO\\\\Nextcloud_connector\\\\Nextcloud_connector\\\\unzip\\\\Контроль МО\\\\23.05.2022\\\\23.05.2022_ГБ Московский_Контроль_МО.xlsx',\n",
       " 'C:\\\\Users\\\\KorneevSN\\\\Downloads\\\\КНИГИ\\\\REPO\\\\Nextcloud_connector\\\\Nextcloud_connector\\\\unzip\\\\Контроль МО\\\\23.05.2022\\\\23.05.2022_ГКБ Кончаловского ПО_Контроль_МО.xlsx',\n",
       " 'C:\\\\Users\\\\KorneevSN\\\\Downloads\\\\КНИГИ\\\\REPO\\\\Nextcloud_connector\\\\Nextcloud_connector\\\\unzip\\\\Контроль МО\\\\23.05.2022\\\\23.05.2022_ГКОБ№1_Контроль_МО.xlsx',\n",
       " 'C:\\\\Users\\\\KorneevSN\\\\Downloads\\\\КНИГИ\\\\REPO\\\\Nextcloud_connector\\\\Nextcloud_connector\\\\unzip\\\\Контроль МО\\\\23.05.2022\\\\23.05.2022_ГП 107 _Контроль_МО.xlsx',\n",
       " 'C:\\\\Users\\\\KorneevSN\\\\Downloads\\\\КНИГИ\\\\REPO\\\\Nextcloud_connector\\\\Nextcloud_connector\\\\unzip\\\\Контроль МО\\\\23.05.2022\\\\23.05.2022_ГП 45_Контроль_МО.xlsx',\n",
       " 'C:\\\\Users\\\\KorneevSN\\\\Downloads\\\\КНИГИ\\\\REPO\\\\Nextcloud_connector\\\\Nextcloud_connector\\\\unzip\\\\Контроль МО\\\\23.05.2022\\\\23.05.2022_ГП 68_Контроль_МО.xlsx',\n",
       " 'C:\\\\Users\\\\KorneevSN\\\\Downloads\\\\КНИГИ\\\\REPO\\\\Nextcloud_connector\\\\Nextcloud_connector\\\\unzip\\\\Контроль МО\\\\23.05.2022\\\\23.05.2022_ГП № 219_Контроль_МО.xlsx',\n",
       " 'C:\\\\Users\\\\KorneevSN\\\\Downloads\\\\КНИГИ\\\\REPO\\\\Nextcloud_connector\\\\Nextcloud_connector\\\\unzip\\\\Контроль МО\\\\23.05.2022\\\\23.05.2022_ГП134_Контроль_МО.xlsx',\n",
       " 'C:\\\\Users\\\\KorneevSN\\\\Downloads\\\\КНИГИ\\\\REPO\\\\Nextcloud_connector\\\\Nextcloud_connector\\\\unzip\\\\Контроль МО\\\\23.05.2022\\\\23.05.2022_ГП209_Контроль_МО.xlsx',\n",
       " 'C:\\\\Users\\\\KorneevSN\\\\Downloads\\\\КНИГИ\\\\REPO\\\\Nextcloud_connector\\\\Nextcloud_connector\\\\unzip\\\\Контроль МО\\\\23.05.2022\\\\23.05.2022_ГП210_Контроль_МО.xlsx',\n",
       " 'C:\\\\Users\\\\KorneevSN\\\\Downloads\\\\КНИГИ\\\\REPO\\\\Nextcloud_connector\\\\Nextcloud_connector\\\\unzip\\\\Контроль МО\\\\23.05.2022\\\\23.05.2022_ГП62_Контроль_МО.xlsx',\n",
       " 'C:\\\\Users\\\\KorneevSN\\\\Downloads\\\\КНИГИ\\\\REPO\\\\Nextcloud_connector\\\\Nextcloud_connector\\\\unzip\\\\Контроль МО\\\\23.05.2022\\\\23.05.2022_ГП64_Контроль_МО.xlsx',\n",
       " 'C:\\\\Users\\\\KorneevSN\\\\Downloads\\\\КНИГИ\\\\REPO\\\\Nextcloud_connector\\\\Nextcloud_connector\\\\unzip\\\\Контроль МО\\\\23.05.2022\\\\23.05.2022_ГП66_Контроль_МО.xlsx',\n",
       " 'C:\\\\Users\\\\KorneevSN\\\\Downloads\\\\КНИГИ\\\\REPO\\\\Nextcloud_connector\\\\Nextcloud_connector\\\\unzip\\\\Контроль МО\\\\23.05.2022\\\\23.05.2022_ГП_Контроль_МО.xlsx',\n",
       " 'C:\\\\Users\\\\KorneevSN\\\\Downloads\\\\КНИГИ\\\\REPO\\\\Nextcloud_connector\\\\Nextcloud_connector\\\\unzip\\\\Контроль МО\\\\23.05.2022\\\\23.05.2022_ДКЦ №1_Контроль_МО.xlsx',\n",
       " 'C:\\\\Users\\\\KorneevSN\\\\Downloads\\\\КНИГИ\\\\REPO\\\\Nextcloud_connector\\\\Nextcloud_connector\\\\unzip\\\\Контроль МО\\\\23.05.2022\\\\23.05.2022_КДП 121_Контроль_МО.xlsx',\n",
       " 'C:\\\\Users\\\\KorneevSN\\\\Downloads\\\\КНИГИ\\\\REPO\\\\Nextcloud_connector\\\\Nextcloud_connector\\\\unzip\\\\Контроль МО\\\\23.05.2022\\\\23.05.2022_КДЦ № 6_Контроль_МО.xlsx',\n",
       " 'C:\\\\Users\\\\KorneevSN\\\\Downloads\\\\КНИГИ\\\\REPO\\\\Nextcloud_connector\\\\Nextcloud_connector\\\\unzip\\\\Контроль МО\\\\23.05.2022\\\\23.05.2022_ПО ГКБ им. В.В. Вересаева_Контроль_МО.xlsx',\n",
       " 'C:\\\\Users\\\\KorneevSN\\\\Downloads\\\\КНИГИ\\\\REPO\\\\Nextcloud_connector\\\\Nextcloud_connector\\\\unzip\\\\Контроль МО\\\\23.05.2022\\\\23.05.2022_ПО ТГБ_Контроль_МО.xlsx',\n",
       " 'C:\\\\Users\\\\KorneevSN\\\\Downloads\\\\КНИГИ\\\\REPO\\\\Nextcloud_connector\\\\Nextcloud_connector\\\\unzip\\\\Контроль МО\\\\23.05.2022\\\\Абраменко цитология от 13.05.2022.pdf',\n",
       " 'C:\\\\Users\\\\KorneevSN\\\\Downloads\\\\КНИГИ\\\\REPO\\\\Nextcloud_connector\\\\Nextcloud_connector\\\\unzip\\\\Контроль МО\\\\23.05.2022\\\\БЕССОЛЬЦЕВ МИХАИЛ ВАЛЕРЬЕВИЧ.pdf',\n",
       " 'C:\\\\Users\\\\KorneevSN\\\\Downloads\\\\КНИГИ\\\\REPO\\\\Nextcloud_connector\\\\Nextcloud_connector\\\\unzip\\\\Контроль МО\\\\23.05.2022\\\\БОРОДКИНА ТАТЬЯНА НИКОЛАЕВНА.pdf',\n",
       " 'C:\\\\Users\\\\KorneevSN\\\\Downloads\\\\КНИГИ\\\\REPO\\\\Nextcloud_connector\\\\Nextcloud_connector\\\\unzip\\\\Контроль МО\\\\23.05.2022\\\\ВАГНЕР ЕКАТЕРИНА БЕРТИЛЕВНА.pdf',\n",
       " 'C:\\\\Users\\\\KorneevSN\\\\Downloads\\\\КНИГИ\\\\REPO\\\\Nextcloud_connector\\\\Nextcloud_connector\\\\unzip\\\\Контроль МО\\\\23.05.2022\\\\Власова С.А. 2.jpg',\n",
       " 'C:\\\\Users\\\\KorneevSN\\\\Downloads\\\\КНИГИ\\\\REPO\\\\Nextcloud_connector\\\\Nextcloud_connector\\\\unzip\\\\Контроль МО\\\\23.05.2022\\\\Власова С.А..jpg',\n",
       " 'C:\\\\Users\\\\KorneevSN\\\\Downloads\\\\КНИГИ\\\\REPO\\\\Nextcloud_connector\\\\Nextcloud_connector\\\\unzip\\\\Контроль МО\\\\23.05.2022\\\\ВОРОБЬЕВА ОЛЬГА ВЛАДИМИРОВНА.pdf',\n",
       " 'C:\\\\Users\\\\KorneevSN\\\\Downloads\\\\КНИГИ\\\\REPO\\\\Nextcloud_connector\\\\Nextcloud_connector\\\\unzip\\\\Контроль МО\\\\23.05.2022\\\\ГНЕВАШЕВ АНДРЕЙ ВЯЧЕСЛАВОВИЧ.pdf',\n",
       " 'C:\\\\Users\\\\KorneevSN\\\\Downloads\\\\КНИГИ\\\\REPO\\\\Nextcloud_connector\\\\Nextcloud_connector\\\\unzip\\\\Контроль МО\\\\23.05.2022\\\\ГП 52 филиал 2 20.05.2022_ГП_Контроль_.xlsx',\n",
       " 'C:\\\\Users\\\\KorneevSN\\\\Downloads\\\\КНИГИ\\\\REPO\\\\Nextcloud_connector\\\\Nextcloud_connector\\\\unzip\\\\Контроль МО\\\\23.05.2022\\\\ГП212_Контроль_МО_23.05.2022.xlsx',\n",
       " 'C:\\\\Users\\\\KorneevSN\\\\Downloads\\\\КНИГИ\\\\REPO\\\\Nextcloud_connector\\\\Nextcloud_connector\\\\unzip\\\\Контроль МО\\\\23.05.2022\\\\ГП5 20.05.2022_ГП_Контроль_МО.xlsx',\n",
       " 'C:\\\\Users\\\\KorneevSN\\\\Downloads\\\\КНИГИ\\\\REPO\\\\Nextcloud_connector\\\\Nextcloud_connector\\\\unzip\\\\Контроль МО\\\\23.05.2022\\\\ГП_218_20.05.2022_ГП_Контроль_МО.xlsx',\n",
       " 'C:\\\\Users\\\\KorneevSN\\\\Downloads\\\\КНИГИ\\\\REPO\\\\Nextcloud_connector\\\\Nextcloud_connector\\\\unzip\\\\Контроль МО\\\\23.05.2022\\\\Гриднева ОК 20.05.22.pdf',\n",
       " 'C:\\\\Users\\\\KorneevSN\\\\Downloads\\\\КНИГИ\\\\REPO\\\\Nextcloud_connector\\\\Nextcloud_connector\\\\unzip\\\\Контроль МО\\\\23.05.2022\\\\ДЦ3 отказ Грачева И.В.. 23.05.2022.pdf',\n",
       " 'C:\\\\Users\\\\KorneevSN\\\\Downloads\\\\КНИГИ\\\\REPO\\\\Nextcloud_connector\\\\Nextcloud_connector\\\\unzip\\\\Контроль МО\\\\23.05.2022\\\\Зотова О.А..jpg',\n",
       " 'C:\\\\Users\\\\KorneevSN\\\\Downloads\\\\КНИГИ\\\\REPO\\\\Nextcloud_connector\\\\Nextcloud_connector\\\\unzip\\\\Контроль МО\\\\23.05.2022\\\\Калугин конс.Торакального хирурга от 17.05.2022.pdf',\n",
       " 'C:\\\\Users\\\\KorneevSN\\\\Downloads\\\\КНИГИ\\\\REPO\\\\Nextcloud_connector\\\\Nextcloud_connector\\\\unzip\\\\Контроль МО\\\\23.05.2022\\\\Калугин конс.Хирурга от 11.05.2022.pdf',\n",
       " 'C:\\\\Users\\\\KorneevSN\\\\Downloads\\\\КНИГИ\\\\REPO\\\\Nextcloud_connector\\\\Nextcloud_connector\\\\unzip\\\\Контроль МО\\\\23.05.2022\\\\Калугин конс.Хирурга от 13.05.2022.pdf',\n",
       " 'C:\\\\Users\\\\KorneevSN\\\\Downloads\\\\КНИГИ\\\\REPO\\\\Nextcloud_connector\\\\Nextcloud_connector\\\\unzip\\\\Контроль МО\\\\23.05.2022\\\\Калугин конс.Хирурга от 20.05.2022.pdf',\n",
       " 'C:\\\\Users\\\\KorneevSN\\\\Downloads\\\\КНИГИ\\\\REPO\\\\Nextcloud_connector\\\\Nextcloud_connector\\\\unzip\\\\Контроль МО\\\\23.05.2022\\\\Калугин предоперационный осмотр анестезиолога от 16.05.2022.pdf',\n",
       " 'C:\\\\Users\\\\KorneevSN\\\\Downloads\\\\КНИГИ\\\\REPO\\\\Nextcloud_connector\\\\Nextcloud_connector\\\\unzip\\\\Контроль МО\\\\23.05.2022\\\\КДЦ-2_20.05.2022_Контроль_МО.xlsx',\n",
       " 'C:\\\\Users\\\\KorneevSN\\\\Downloads\\\\КНИГИ\\\\REPO\\\\Nextcloud_connector\\\\Nextcloud_connector\\\\unzip\\\\Контроль МО\\\\23.05.2022\\\\КОГУТ ВЕРА СЕРГЕЕВНА.pdf',\n",
       " 'C:\\\\Users\\\\KorneevSN\\\\Downloads\\\\КНИГИ\\\\REPO\\\\Nextcloud_connector\\\\Nextcloud_connector\\\\unzip\\\\Контроль МО\\\\23.05.2022\\\\Колесникова конс.Онколога от 11.05.2022.pdf',\n",
       " 'C:\\\\Users\\\\KorneevSN\\\\Downloads\\\\КНИГИ\\\\REPO\\\\Nextcloud_connector\\\\Nextcloud_connector\\\\unzip\\\\Контроль МО\\\\23.05.2022\\\\Колесникова ОК от 11.05.2022.pdf',\n",
       " 'C:\\\\Users\\\\KorneevSN\\\\Downloads\\\\КНИГИ\\\\REPO\\\\Nextcloud_connector\\\\Nextcloud_connector\\\\unzip\\\\Контроль МО\\\\23.05.2022\\\\Колесникова ОК от 19.05.2022.pdf',\n",
       " 'C:\\\\Users\\\\KorneevSN\\\\Downloads\\\\КНИГИ\\\\REPO\\\\Nextcloud_connector\\\\Nextcloud_connector\\\\unzip\\\\Контроль МО\\\\23.05.2022\\\\КОНЕВА АЛЛА СЕРГЕЕВНА.pdf',\n",
       " 'C:\\\\Users\\\\KorneevSN\\\\Downloads\\\\КНИГИ\\\\REPO\\\\Nextcloud_connector\\\\Nextcloud_connector\\\\unzip\\\\Контроль МО\\\\23.05.2022\\\\Копия 20.05.2022_ГП_Контроль_МО.xlsx',\n",
       " 'C:\\\\Users\\\\KorneevSN\\\\Downloads\\\\КНИГИ\\\\REPO\\\\Nextcloud_connector\\\\Nextcloud_connector\\\\unzip\\\\Контроль МО\\\\23.05.2022\\\\Курдельчук конс.Уролога от 19.05.2022.pdf',\n",
       " 'C:\\\\Users\\\\KorneevSN\\\\Downloads\\\\КНИГИ\\\\REPO\\\\Nextcloud_connector\\\\Nextcloud_connector\\\\unzip\\\\Контроль МО\\\\23.05.2022\\\\Курдельчук ОК от 19.05.2022.pdf',\n",
       " 'C:\\\\Users\\\\KorneevSN\\\\Downloads\\\\КНИГИ\\\\REPO\\\\Nextcloud_connector\\\\Nextcloud_connector\\\\unzip\\\\Контроль МО\\\\23.05.2022\\\\Кутузов цитология от 26.04.2022.pdf',\n",
       " 'C:\\\\Users\\\\KorneevSN\\\\Downloads\\\\КНИГИ\\\\REPO\\\\Nextcloud_connector\\\\Nextcloud_connector\\\\unzip\\\\Контроль МО\\\\23.05.2022\\\\Мезенцев конс.Онколога от 19.05.2022.pdf',\n",
       " 'C:\\\\Users\\\\KorneevSN\\\\Downloads\\\\КНИГИ\\\\REPO\\\\Nextcloud_connector\\\\Nextcloud_connector\\\\unzip\\\\Контроль МО\\\\23.05.2022\\\\МЕЩЕРЯКОВА КАРИНА РУСЛАНОВНА.pdf',\n",
       " 'C:\\\\Users\\\\KorneevSN\\\\Downloads\\\\КНИГИ\\\\REPO\\\\Nextcloud_connector\\\\Nextcloud_connector\\\\unzip\\\\Контроль МО\\\\23.05.2022\\\\МИТРОФАНОВ ВЛАДИМИР ЕГОРОВИЧ.pdf',\n",
       " 'C:\\\\Users\\\\KorneevSN\\\\Downloads\\\\КНИГИ\\\\REPO\\\\Nextcloud_connector\\\\Nextcloud_connector\\\\unzip\\\\Контроль МО\\\\23.05.2022\\\\Отказ Моревой_ГКБ13ЮПФ.pdf',\n",
       " 'C:\\\\Users\\\\KorneevSN\\\\Downloads\\\\КНИГИ\\\\REPO\\\\Nextcloud_connector\\\\Nextcloud_connector\\\\unzip\\\\Контроль МО\\\\23.05.2022\\\\Поляков конс.Онколога от 05.05.2022.pdf',\n",
       " 'C:\\\\Users\\\\KorneevSN\\\\Downloads\\\\КНИГИ\\\\REPO\\\\Nextcloud_connector\\\\Nextcloud_connector\\\\unzip\\\\Контроль МО\\\\23.05.2022\\\\Поляков конс.Онколога от 19.05.2022.pdf',\n",
       " 'C:\\\\Users\\\\KorneevSN\\\\Downloads\\\\КНИГИ\\\\REPO\\\\Nextcloud_connector\\\\Nextcloud_connector\\\\unzip\\\\Контроль МО\\\\23.05.2022\\\\Поляков ОК от 19.05.2022.pdf',\n",
       " 'C:\\\\Users\\\\KorneevSN\\\\Downloads\\\\КНИГИ\\\\REPO\\\\Nextcloud_connector\\\\Nextcloud_connector\\\\unzip\\\\Контроль МО\\\\23.05.2022\\\\Потапова амбулаторный прием 18.04.22.pdf',\n",
       " 'C:\\\\Users\\\\KorneevSN\\\\Downloads\\\\КНИГИ\\\\REPO\\\\Nextcloud_connector\\\\Nextcloud_connector\\\\unzip\\\\Контроль МО\\\\23.05.2022\\\\Привалихин А. И. осмотр офтальмолога 12.05.22.docx',\n",
       " 'C:\\\\Users\\\\KorneevSN\\\\Downloads\\\\КНИГИ\\\\REPO\\\\Nextcloud_connector\\\\Nextcloud_connector\\\\unzip\\\\Контроль МО\\\\23.05.2022\\\\ПРОКОФЬЕВА СЕРАФИМА МИХАЙЛОВНА.pdf',\n",
       " 'C:\\\\Users\\\\KorneevSN\\\\Downloads\\\\КНИГИ\\\\REPO\\\\Nextcloud_connector\\\\Nextcloud_connector\\\\unzip\\\\Контроль МО\\\\23.05.2022\\\\Путилова амбулаторный прием 17.03.22.pdf',\n",
       " 'C:\\\\Users\\\\KorneevSN\\\\Downloads\\\\КНИГИ\\\\REPO\\\\Nextcloud_connector\\\\Nextcloud_connector\\\\unzip\\\\Контроль МО\\\\23.05.2022\\\\Путилова консультация колопроктолога 05.03.22.pdf',\n",
       " 'C:\\\\Users\\\\KorneevSN\\\\Downloads\\\\КНИГИ\\\\REPO\\\\Nextcloud_connector\\\\Nextcloud_connector\\\\unzip\\\\Контроль МО\\\\23.05.2022\\\\Путилова консультация невролога 10.03.22.pdf',\n",
       " 'C:\\\\Users\\\\KorneevSN\\\\Downloads\\\\КНИГИ\\\\REPO\\\\Nextcloud_connector\\\\Nextcloud_connector\\\\unzip\\\\Контроль МО\\\\23.05.2022\\\\Путилова консультация офтальмолога 17.03.22.pdf',\n",
       " 'C:\\\\Users\\\\KorneevSN\\\\Downloads\\\\КНИГИ\\\\REPO\\\\Nextcloud_connector\\\\Nextcloud_connector\\\\unzip\\\\Контроль МО\\\\23.05.2022\\\\Путилова предоперац.осомтр анест.09.03.22.pdf',\n",
       " 'C:\\\\Users\\\\KorneevSN\\\\Downloads\\\\КНИГИ\\\\REPO\\\\Nextcloud_connector\\\\Nextcloud_connector\\\\unzip\\\\Контроль МО\\\\23.05.2022\\\\РУСИН СЕРГЕЙ ЕВГЕНЬЕВИЧ.pdf',\n",
       " 'C:\\\\Users\\\\KorneevSN\\\\Downloads\\\\КНИГИ\\\\REPO\\\\Nextcloud_connector\\\\Nextcloud_connector\\\\unzip\\\\Контроль МО\\\\23.05.2022\\\\РЫЖКОВ СЕРГЕЙ НИКОЛАЕВИЧ.pdf',\n",
       " 'C:\\\\Users\\\\KorneevSN\\\\Downloads\\\\КНИГИ\\\\REPO\\\\Nextcloud_connector\\\\Nextcloud_connector\\\\unzip\\\\Контроль МО\\\\23.05.2022\\\\СВИРИДОВА ЛЮДМИЛА ГЕОРГИЕВНА.pdf',\n",
       " 'C:\\\\Users\\\\KorneevSN\\\\Downloads\\\\КНИГИ\\\\REPO\\\\Nextcloud_connector\\\\Nextcloud_connector\\\\unzip\\\\Контроль МО\\\\23.05.2022\\\\Синегаева конс.Онколога от 19.05.2022.pdf',\n",
       " 'C:\\\\Users\\\\KorneevSN\\\\Downloads\\\\КНИГИ\\\\REPO\\\\Nextcloud_connector\\\\Nextcloud_connector\\\\unzip\\\\Контроль МО\\\\23.05.2022\\\\Соломонов М.А. 2.jpg',\n",
       " 'C:\\\\Users\\\\KorneevSN\\\\Downloads\\\\КНИГИ\\\\REPO\\\\Nextcloud_connector\\\\Nextcloud_connector\\\\unzip\\\\Контроль МО\\\\23.05.2022\\\\Соломонов М.А..jpg',\n",
       " 'C:\\\\Users\\\\KorneevSN\\\\Downloads\\\\КНИГИ\\\\REPO\\\\Nextcloud_connector\\\\Nextcloud_connector\\\\unzip\\\\Контроль МО\\\\23.05.2022\\\\Сычева ОК от 18.05.2022.pdf',\n",
       " 'C:\\\\Users\\\\KorneevSN\\\\Downloads\\\\КНИГИ\\\\REPO\\\\Nextcloud_connector\\\\Nextcloud_connector\\\\unzip\\\\Контроль МО\\\\23.05.2022\\\\Сычева предоперационный осмотр анестезиолога от 17.05.2022.pdf',\n",
       " 'C:\\\\Users\\\\KorneevSN\\\\Downloads\\\\КНИГИ\\\\REPO\\\\Nextcloud_connector\\\\Nextcloud_connector\\\\unzip\\\\Контроль МО\\\\23.05.2022\\\\Сычева совместная консультация от 17.05.2022.pdf',\n",
       " 'C:\\\\Users\\\\KorneevSN\\\\Downloads\\\\КНИГИ\\\\REPO\\\\Nextcloud_connector\\\\Nextcloud_connector\\\\unzip\\\\Контроль МО\\\\23.05.2022\\\\Сычева совместная консультация от 18.05.2022.pdf',\n",
       " 'C:\\\\Users\\\\KorneevSN\\\\Downloads\\\\КНИГИ\\\\REPO\\\\Nextcloud_connector\\\\Nextcloud_connector\\\\unzip\\\\Контроль МО\\\\23.05.2022\\\\Тайков консультация уролога 19.05.22.pdf',\n",
       " 'C:\\\\Users\\\\KorneevSN\\\\Downloads\\\\КНИГИ\\\\REPO\\\\Nextcloud_connector\\\\Nextcloud_connector\\\\unzip\\\\Контроль МО\\\\23.05.2022\\\\ТИХИХ СТАНИСЛАВ ГРИГОРЬЕВИЧ.pdf',\n",
       " 'C:\\\\Users\\\\KorneevSN\\\\Downloads\\\\КНИГИ\\\\REPO\\\\Nextcloud_connector\\\\Nextcloud_connector\\\\unzip\\\\Контроль МО\\\\23.05.2022\\\\УСКОВА ВАЛЕНТИНА НИКОЛАЕВНА.pdf',\n",
       " 'C:\\\\Users\\\\KorneevSN\\\\Downloads\\\\КНИГИ\\\\REPO\\\\Nextcloud_connector\\\\Nextcloud_connector\\\\unzip\\\\Контроль МО\\\\23.05.2022\\\\ХАЕВСКАЯ ЕВДОКИЯ ИВАНОВНА.pdf',\n",
       " 'C:\\\\Users\\\\KorneevSN\\\\Downloads\\\\КНИГИ\\\\REPO\\\\Nextcloud_connector\\\\Nextcloud_connector\\\\unzip\\\\Контроль МО\\\\23.05.2022\\\\Хурзокова консультация-эндоск.14.04.22.pdf',\n",
       " 'C:\\\\Users\\\\KorneevSN\\\\Downloads\\\\КНИГИ\\\\REPO\\\\Nextcloud_connector\\\\Nextcloud_connector\\\\unzip\\\\Контроль МО\\\\23.05.2022\\\\Шаров конс.Онколога от 26.04.2022.pdf',\n",
       " 'C:\\\\Users\\\\KorneevSN\\\\Downloads\\\\КНИГИ\\\\REPO\\\\Nextcloud_connector\\\\Nextcloud_connector\\\\unzip\\\\Контроль МО\\\\23.05.2022\\\\Шаров цитология от 25.04.2022.pdf',\n",
       " 'C:\\\\Users\\\\KorneevSN\\\\Downloads\\\\КНИГИ\\\\REPO\\\\Nextcloud_connector\\\\Nextcloud_connector\\\\unzip\\\\Контроль МО\\\\23.05.2022\\\\ЮДИН ВИКТОР ВАСИЛЬЕВИЧ.pdf',\n",
       " 'C:\\\\Users\\\\KorneevSN\\\\Downloads\\\\КНИГИ\\\\REPO\\\\Nextcloud_connector\\\\Nextcloud_connector\\\\unzip\\\\Контроль МО\\\\23.05.2022\\\\КЖЗ\\\\20.05.2022\\\\20.05.2022_ГП_Контроль_МО_____КЖЗ.xlsx',\n",
       " 'C:\\\\Users\\\\KorneevSN\\\\Downloads\\\\КНИГИ\\\\REPO\\\\Nextcloud_connector\\\\Nextcloud_connector\\\\unzip\\\\Контроль МО\\\\23.05.2022\\\\КЖЗ\\\\20.05.2022\\\\ильина.pdf',\n",
       " 'C:\\\\Users\\\\KorneevSN\\\\Downloads\\\\КНИГИ\\\\REPO\\\\Nextcloud_connector\\\\Nextcloud_connector\\\\unzip\\\\Контроль МО\\\\23.05.2022\\\\КЖЗ\\\\20.05.2022\\\\ким.pdf',\n",
       " 'C:\\\\Users\\\\KorneevSN\\\\Downloads\\\\КНИГИ\\\\REPO\\\\Nextcloud_connector\\\\Nextcloud_connector\\\\unzip\\\\Контроль МО\\\\23.05.2022\\\\КЖЗ\\\\20.05.2022\\\\коротаева.pdf',\n",
       " 'C:\\\\Users\\\\KorneevSN\\\\Downloads\\\\КНИГИ\\\\REPO\\\\Nextcloud_connector\\\\Nextcloud_connector\\\\unzip\\\\Контроль МО\\\\23.05.2022\\\\КЖЗ\\\\20.05.2022\\\\некрасова.pdf',\n",
       " 'C:\\\\Users\\\\KorneevSN\\\\Downloads\\\\КНИГИ\\\\REPO\\\\Nextcloud_connector\\\\Nextcloud_connector\\\\unzip\\\\Контроль МО\\\\23.05.2022\\\\КЖЗ\\\\20.05.2022\\\\семанина.pdf',\n",
       " 'C:\\\\Users\\\\KorneevSN\\\\Downloads\\\\КНИГИ\\\\REPO\\\\Nextcloud_connector\\\\Nextcloud_connector\\\\unzip\\\\Контроль МО\\\\23.05.2022\\\\КЖЗ\\\\20.05.2022\\\\шмагина.pdf']"
      ]
     },
     "execution_count": 19,
     "metadata": {},
     "output_type": "execute_result"
    }
   ],
   "source": [
    "unpacked_list"
   ]
  },
  {
   "cell_type": "code",
   "execution_count": 11,
   "metadata": {},
   "outputs": [
    {
     "name": "stdout",
     "output_type": "stream",
     "text": [
      "['C:', 'Users', 'KorneevSN', 'Downloads', 'КНИГИ', 'REPO', 'Nextcloud_connector', 'Nextcloud_connector', 'unzip', 'КЖЗ', '']\n",
      "['C:', 'Users', 'KorneevSN', 'Downloads', 'КНИГИ', 'REPO', 'Nextcloud_connector', 'Nextcloud_connector', 'unzip', 'Контроль МО', '20.05.2022', '']\n",
      "['C:', 'Users', 'KorneevSN', 'Downloads', 'КНИГИ', 'REPO', 'Nextcloud_connector', 'Nextcloud_connector', 'unzip', 'Контроль МО', '20.05.2022', 'КЖЗ 19.05.2022', '19.05.2022', '']\n",
      "['C:', 'Users', 'KorneevSN', 'Downloads', 'КНИГИ', 'REPO', 'Nextcloud_connector', 'Nextcloud_connector', 'unzip', 'Контроль МО', '23.05.2022', '']\n",
      "['C:', 'Users', 'KorneevSN', 'Downloads', 'КНИГИ', 'REPO', 'Nextcloud_connector', 'Nextcloud_connector', 'unzip', 'Контроль МО', '23.05.2022', 'КЖЗ', '20.05.2022', '']\n"
     ]
    }
   ],
   "source": [
    "for k,v in unpacked_dict.items(): \n",
    "#     name_listing = k.split('\\\\')\n",
    "    res = k.split('\\\\')\n",
    "    if 'КЖЗ' in res:\n",
    "        \n",
    "    print(res)\n",
    "#     res = [string for string in k if 'КЖЗ' in string]\n",
    "#     for _ in res:\n",
    "        \n",
    "#         match = os.path.join(k, _)\n",
    "#         match = os.path.abspath(match)\n",
    "#         if match:\n",
    "#             unpack_zipfile(k, extract_dir='unzip', encoding='cp866')\n",
    "#             os.remove(os.path.abspath(match))"
   ]
  },
  {
   "cell_type": "code",
   "execution_count": 63,
   "metadata": {},
   "outputs": [
    {
     "name": "stdout",
     "output_type": "stream",
     "text": [
      "['C:', 'Users', 'KorneevSN', 'Downloads', 'КНИГИ', 'REPO', 'Nextcloud_connector', 'Nextcloud_connector', 'unzip', 'Контроль МО', '20.05.2022', 'КЖЗ 19.05.2022', '19.05.2022', 'некрасова.pdf']\n",
      "['C:', 'Users', 'KorneevSN', 'Downloads', 'КНИГИ', 'REPO', 'Nextcloud_connector', 'Nextcloud_connector', 'unzip', 'Контроль МО', '20.05.2022', 'КЖЗ 19.05.2022', '19.05.2022', 'КЖЗ-19.05.2022-некрасова.pdf']\n"
     ]
    }
   ],
   "source": [
    "path_to_file = 'C:\\\\Users\\\\KorneevSN\\\\Downloads\\\\КНИГИ\\\\REPO\\\\Nextcloud_connector\\\\Nextcloud_connector\\\\unzip\\\\Контроль МО\\\\20.05.2022\\\\КЖЗ 19.05.2022\\\\19.05.2022\\\\некрасова.pdf'\n",
    "name_listing = path_to_file.split('\\\\')\n",
    "res = any('кжз' in string.lower() for string in name_listing)\n",
    "print(name_listing)\n",
    "if res:\n",
    "    name_listing[-1] = 'КЖЗ-'+name_listing[-2]+'-'+name_listing[-1]\n",
    "    print(name_listing)\n",
    "else: print('no')\n",
    "#     res = any('КЖЗ' in string for string in name_listing)\n",
    "#     name_listing[-1] = 'КЖЗ-'+name_listing[-2]+'-'+name_listing[-1]\n",
    "#     print('\\\\'.join([str(n) for n in name_listing]))\n",
    "# else:\n",
    "#     name_listing[-1] = name_listing[-2]+'-'+name_listing[-1]\n",
    "#     print('\\\\'.join([str(n) for n in name_listing]))\n",
    "    \n",
    "# os.rename(path_to_file,\n",
    "#           '\\\\'.join([str(n) for n in name_listing]))"
   ]
  },
  {
   "cell_type": "code",
   "execution_count": 113,
   "metadata": {},
   "outputs": [],
   "source": [
    "\n",
    "            \n",
    "\n",
    "for path_to_file in list_of_target_files_path:\n",
    "    name_listing = path_to_file.split('\\\\')\n",
    "    if 'КЖЗ' in name_listing:\n",
    "        res = any('кжз' in string.lower() for string in name_listing)\n",
    "        name_listing[-1] = 'КЖЗ-'+name_listing[-2]+'-'+name_listing[-1]\n",
    "    else:\n",
    "        name_listing[-1] = name_listing[-2]+'-'+name_listing[-1]\n",
    "    os.rename(path_to_file,\n",
    "              '\\\\'.join([str(n) for n in name_listing]))"
   ]
  },
  {
   "cell_type": "code",
   "execution_count": 76,
   "metadata": {},
   "outputs": [],
   "source": [
    "# for path_to_file in list_of_target_files_path:\n",
    "#     name_listing = path_to_file.split('\\\\')\n",
    "#     name_listing[-1] = 'кжз-'+name_listing[-1]\n",
    "#     os.rename(path_to_file,\n",
    "#               '\\\\'.join([str(n) for n in name_listing]))"
   ]
  },
  {
   "cell_type": "markdown",
   "metadata": {},
   "source": [
    "to do\n",
    "\n",
    "1. распаковать архивы найденные в папках\n",
    "2. маркировать файлы КЖЗ\n",
    "2. сортировка файлов по папкам по расширению и содержимому таблиц\n"
   ]
  },
  {
   "cell_type": "code",
   "execution_count": null,
   "metadata": {},
   "outputs": [],
   "source": []
  },
  {
   "cell_type": "code",
   "execution_count": 186,
   "metadata": {},
   "outputs": [
    {
     "ename": "Error",
     "evalue": "Destination path 'C:\\Users\\KorneevSN\\Downloads\\КНИГИ\\REPO\\Nextcloud_connector\\Nextcloud_connector\\unpacked\\Контроль МО' already exists",
     "output_type": "error",
     "traceback": [
      "\u001b[1;31m---------------------------------------------------------------------------\u001b[0m",
      "\u001b[1;31mError\u001b[0m                                     Traceback (most recent call last)",
      "\u001b[1;32m<ipython-input-186-56b2d4820f97>\u001b[0m in \u001b[0;36m<module>\u001b[1;34m\u001b[0m\n\u001b[0;32m      1\u001b[0m \u001b[0msource\u001b[0m \u001b[1;33m=\u001b[0m \u001b[0mcurrent_dir\u001b[0m\u001b[1;33m+\u001b[0m\u001b[1;34m'unpacked'\u001b[0m\u001b[1;33m+\u001b[0m\u001b[1;34m'\\\\'\u001b[0m\u001b[1;33m\u001b[0m\u001b[1;33m\u001b[0m\u001b[0m\n\u001b[0;32m      2\u001b[0m \u001b[1;32mfor\u001b[0m \u001b[0m_\u001b[0m \u001b[1;32min\u001b[0m \u001b[0mos\u001b[0m\u001b[1;33m.\u001b[0m\u001b[0mlistdir\u001b[0m\u001b[1;33m(\u001b[0m\u001b[0msource\u001b[0m\u001b[1;33m)\u001b[0m\u001b[1;33m:\u001b[0m\u001b[1;33m\u001b[0m\u001b[1;33m\u001b[0m\u001b[0m\n\u001b[1;32m----> 3\u001b[1;33m     \u001b[0mshutil\u001b[0m\u001b[1;33m.\u001b[0m\u001b[0mmove\u001b[0m\u001b[1;33m(\u001b[0m\u001b[0msource\u001b[0m\u001b[1;33m+\u001b[0m\u001b[1;34m'\\\\'\u001b[0m\u001b[1;33m+\u001b[0m\u001b[0m_\u001b[0m\u001b[1;33m,\u001b[0m \u001b[0msource\u001b[0m\u001b[1;33m)\u001b[0m\u001b[1;33m\u001b[0m\u001b[1;33m\u001b[0m\u001b[0m\n\u001b[0m",
      "\u001b[1;32mC:\\ProgramData\\Anaconda3\\lib\\shutil.py\u001b[0m in \u001b[0;36mmove\u001b[1;34m(src, dst, copy_function)\u001b[0m\n\u001b[0;32m    784\u001b[0m         \u001b[0mreal_dst\u001b[0m \u001b[1;33m=\u001b[0m \u001b[0mos\u001b[0m\u001b[1;33m.\u001b[0m\u001b[0mpath\u001b[0m\u001b[1;33m.\u001b[0m\u001b[0mjoin\u001b[0m\u001b[1;33m(\u001b[0m\u001b[0mdst\u001b[0m\u001b[1;33m,\u001b[0m \u001b[0m_basename\u001b[0m\u001b[1;33m(\u001b[0m\u001b[0msrc\u001b[0m\u001b[1;33m)\u001b[0m\u001b[1;33m)\u001b[0m\u001b[1;33m\u001b[0m\u001b[1;33m\u001b[0m\u001b[0m\n\u001b[0;32m    785\u001b[0m         \u001b[1;32mif\u001b[0m \u001b[0mos\u001b[0m\u001b[1;33m.\u001b[0m\u001b[0mpath\u001b[0m\u001b[1;33m.\u001b[0m\u001b[0mexists\u001b[0m\u001b[1;33m(\u001b[0m\u001b[0mreal_dst\u001b[0m\u001b[1;33m)\u001b[0m\u001b[1;33m:\u001b[0m\u001b[1;33m\u001b[0m\u001b[1;33m\u001b[0m\u001b[0m\n\u001b[1;32m--> 786\u001b[1;33m             \u001b[1;32mraise\u001b[0m \u001b[0mError\u001b[0m\u001b[1;33m(\u001b[0m\u001b[1;34m\"Destination path '%s' already exists\"\u001b[0m \u001b[1;33m%\u001b[0m \u001b[0mreal_dst\u001b[0m\u001b[1;33m)\u001b[0m\u001b[1;33m\u001b[0m\u001b[1;33m\u001b[0m\u001b[0m\n\u001b[0m\u001b[0;32m    787\u001b[0m     \u001b[1;32mtry\u001b[0m\u001b[1;33m:\u001b[0m\u001b[1;33m\u001b[0m\u001b[1;33m\u001b[0m\u001b[0m\n\u001b[0;32m    788\u001b[0m         \u001b[0mos\u001b[0m\u001b[1;33m.\u001b[0m\u001b[0mrename\u001b[0m\u001b[1;33m(\u001b[0m\u001b[0msrc\u001b[0m\u001b[1;33m,\u001b[0m \u001b[0mreal_dst\u001b[0m\u001b[1;33m)\u001b[0m\u001b[1;33m\u001b[0m\u001b[1;33m\u001b[0m\u001b[0m\n",
      "\u001b[1;31mError\u001b[0m: Destination path 'C:\\Users\\KorneevSN\\Downloads\\КНИГИ\\REPO\\Nextcloud_connector\\Nextcloud_connector\\unpacked\\Контроль МО' already exists"
     ]
    }
   ],
   "source": [
    "source = current_dir+'unzip'+'\\\\'\n",
    "for _ in os.listdir(source):\n",
    "    shutil.move(source+'\\\\'+_, 'unpack') "
   ]
  },
  {
   "cell_type": "code",
   "execution_count": 180,
   "metadata": {},
   "outputs": [
    {
     "name": "stdout",
     "output_type": "stream",
     "text": [
      "entry=\n",
      "<ZipInfo filename='è«¡Γα«½∞ îÄ/èåç.zip' external_attr=0x20 file_size=738950>\n",
      "name=\n",
      "Контроль МО/КЖЗ.zip\n"
     ]
    },
    {
     "ename": "FileNotFoundError",
     "evalue": "[Errno 2] No such file or directory: 'C:\\\\Users\\\\KorneevSN\\\\Downloads\\\\КНИГИ\\\\REPO\\\\Nextcloud_connector\\\\Nextcloud_connector\\\\è«¡Γα«½∞ îÄ\\\\èåç.zip'",
     "output_type": "error",
     "traceback": [
      "\u001b[1;31m---------------------------------------------------------------------------\u001b[0m",
      "\u001b[1;31mFileNotFoundError\u001b[0m                         Traceback (most recent call last)",
      "\u001b[1;32m<ipython-input-180-15b69f93ab2f>\u001b[0m in \u001b[0;36m<module>\u001b[1;34m\u001b[0m\n\u001b[0;32m     41\u001b[0m \u001b[1;33m\u001b[0m\u001b[0m\n\u001b[0;32m     42\u001b[0m \u001b[1;31m########### RUN unpack_zipfile #################################\u001b[0m\u001b[1;33m\u001b[0m\u001b[1;33m\u001b[0m\u001b[1;33m\u001b[0m\u001b[0m\n\u001b[1;32m---> 43\u001b[1;33m \u001b[0munpack_zipfile\u001b[0m\u001b[1;33m(\u001b[0m\u001b[0mmain_dir\u001b[0m\u001b[1;33m+\u001b[0m\u001b[1;34m'23.05.2022-15.01-Контроль МО.zip'\u001b[0m\u001b[1;33m,\u001b[0m \u001b[1;34m'unpacked'\u001b[0m\u001b[1;33m,\u001b[0m \u001b[0mencoding\u001b[0m\u001b[1;33m=\u001b[0m\u001b[1;34m'cp866'\u001b[0m\u001b[1;33m)\u001b[0m\u001b[1;33m\u001b[0m\u001b[1;33m\u001b[0m\u001b[0m\n\u001b[0m",
      "\u001b[1;32m<ipython-input-180-15b69f93ab2f>\u001b[0m in \u001b[0;36munpack_zipfile\u001b[1;34m(filename, extract_dir, encoding)\u001b[0m\n\u001b[0;32m     16\u001b[0m                 \u001b[0mnested_archive\u001b[0m \u001b[1;33m=\u001b[0m \u001b[0marchive\u001b[0m\u001b[1;33m.\u001b[0m\u001b[0mgetinfo\u001b[0m\u001b[1;33m(\u001b[0m\u001b[0mentry\u001b[0m\u001b[1;33m.\u001b[0m\u001b[0mfilename\u001b[0m\u001b[1;33m)\u001b[0m\u001b[1;33m\u001b[0m\u001b[1;33m\u001b[0m\u001b[0m\n\u001b[0;32m     17\u001b[0m                 \u001b[0mpath_nested_archive\u001b[0m \u001b[1;33m=\u001b[0m \u001b[0mos\u001b[0m\u001b[1;33m.\u001b[0m\u001b[0mpath\u001b[0m\u001b[1;33m.\u001b[0m\u001b[0mabspath\u001b[0m\u001b[1;33m(\u001b[0m\u001b[0mnested_archive\u001b[0m\u001b[1;33m.\u001b[0m\u001b[0mfilename\u001b[0m\u001b[1;33m)\u001b[0m\u001b[1;33m\u001b[0m\u001b[1;33m\u001b[0m\u001b[0m\n\u001b[1;32m---> 18\u001b[1;33m                 \u001b[0mzipfile\u001b[0m\u001b[1;33m.\u001b[0m\u001b[0mZipFile\u001b[0m\u001b[1;33m(\u001b[0m\u001b[0mpath_nested_archive\u001b[0m\u001b[1;33m)\u001b[0m\u001b[1;33m.\u001b[0m\u001b[0mextract\u001b[0m\u001b[1;33m(\u001b[0m\u001b[0mpath_nested_archive\u001b[0m\u001b[1;33m,\u001b[0m \u001b[1;34m'unpacked'\u001b[0m\u001b[1;33m)\u001b[0m\u001b[1;33m\u001b[0m\u001b[1;33m\u001b[0m\u001b[0m\n\u001b[0m\u001b[0;32m     19\u001b[0m                 \u001b[0mprint\u001b[0m\u001b[1;33m(\u001b[0m\u001b[1;34m'nested_archive='\u001b[0m\u001b[1;33m,\u001b[0m\u001b[0mnested_archive\u001b[0m\u001b[1;33m,\u001b[0m \u001b[1;34m'path_nested_archive='\u001b[0m\u001b[1;33m,\u001b[0m \u001b[0mpath_nested_archive\u001b[0m\u001b[1;33m,\u001b[0m \u001b[0msep\u001b[0m\u001b[1;33m=\u001b[0m\u001b[1;34m'\\n'\u001b[0m\u001b[1;33m)\u001b[0m\u001b[1;33m\u001b[0m\u001b[1;33m\u001b[0m\u001b[0m\n\u001b[0;32m     20\u001b[0m \u001b[1;31m#                 with zipfile.ZipFile(filename) as archive:\u001b[0m\u001b[1;33m\u001b[0m\u001b[1;33m\u001b[0m\u001b[1;33m\u001b[0m\u001b[0m\n",
      "\u001b[1;32mC:\\ProgramData\\Anaconda3\\lib\\zipfile.py\u001b[0m in \u001b[0;36m__init__\u001b[1;34m(self, file, mode, compression, allowZip64, compresslevel, strict_timestamps)\u001b[0m\n\u001b[0;32m   1248\u001b[0m             \u001b[1;32mwhile\u001b[0m \u001b[1;32mTrue\u001b[0m\u001b[1;33m:\u001b[0m\u001b[1;33m\u001b[0m\u001b[1;33m\u001b[0m\u001b[0m\n\u001b[0;32m   1249\u001b[0m                 \u001b[1;32mtry\u001b[0m\u001b[1;33m:\u001b[0m\u001b[1;33m\u001b[0m\u001b[1;33m\u001b[0m\u001b[0m\n\u001b[1;32m-> 1250\u001b[1;33m                     \u001b[0mself\u001b[0m\u001b[1;33m.\u001b[0m\u001b[0mfp\u001b[0m \u001b[1;33m=\u001b[0m \u001b[0mio\u001b[0m\u001b[1;33m.\u001b[0m\u001b[0mopen\u001b[0m\u001b[1;33m(\u001b[0m\u001b[0mfile\u001b[0m\u001b[1;33m,\u001b[0m \u001b[0mfilemode\u001b[0m\u001b[1;33m)\u001b[0m\u001b[1;33m\u001b[0m\u001b[1;33m\u001b[0m\u001b[0m\n\u001b[0m\u001b[0;32m   1251\u001b[0m                 \u001b[1;32mexcept\u001b[0m \u001b[0mOSError\u001b[0m\u001b[1;33m:\u001b[0m\u001b[1;33m\u001b[0m\u001b[1;33m\u001b[0m\u001b[0m\n\u001b[0;32m   1252\u001b[0m                     \u001b[1;32mif\u001b[0m \u001b[0mfilemode\u001b[0m \u001b[1;32min\u001b[0m \u001b[0mmodeDict\u001b[0m\u001b[1;33m:\u001b[0m\u001b[1;33m\u001b[0m\u001b[1;33m\u001b[0m\u001b[0m\n",
      "\u001b[1;31mFileNotFoundError\u001b[0m: [Errno 2] No such file or directory: 'C:\\\\Users\\\\KorneevSN\\\\Downloads\\\\КНИГИ\\\\REPO\\\\Nextcloud_connector\\\\Nextcloud_connector\\\\è«¡Γα«½∞ îÄ\\\\èåç.zip'"
     ]
    }
   ],
   "source": [
    "########### done modules #################################\n",
    "import os\n",
    "import shutil\n",
    "import zipfile\n",
    "\n",
    "########### DEF unpack_zipfile #################################\n",
    "def unpack_zipfile(filename, extract_dir, encoding='cp866'):\n",
    "    with zipfile.ZipFile(filename) as archive:\n",
    "        for entry in archive.infolist():\n",
    "            try:\n",
    "                name = entry.filename.encode('cp437').decode(encoding)\n",
    "            except:\n",
    "                name = entry.filename.encode('cp866').decode('cp866')\n",
    "            if '.zip' in name:\n",
    "                print('entry=',entry, 'name=', name, sep='\\n')\n",
    "                nested_archive = archive.getinfo(entry.filename)\n",
    "                path_nested_archive = os.path.abspath(nested_archive.filename)              \n",
    "                zipfile.ZipFile(path_nested_archive).extract(path_nested_archive, 'unpacked')\n",
    "                print('nested_archive=',nested_archive, 'path_nested_archive=', path_nested_archive, sep='\\n')\n",
    "#                 with zipfile.ZipFile(filename) as archive:\n",
    "#             else:          \n",
    "#                 pass\n",
    "\n",
    "\n",
    "\n",
    "#   docx_zip = zipfile.ZipFile(zip_path)\n",
    "# docx_info = docx_zip.getinfo(name_of_image_in_zip)\n",
    "# path_to_image = os.path.abspath(docx_info.filename)          \n",
    "            \n",
    "            \n",
    "\n",
    "#                 # don't extract absolute paths or ones with .. in them\n",
    "#                 if name.startswith('/'):\n",
    "#                     print('dont extract',name)\n",
    "\n",
    "#                 target = os.path.join(extract_dir, *name.split('/'))    \n",
    "#                 os.makedirs(os.path.dirname(target), exist_ok=True)\n",
    "#                 if not entry.is_dir():  # file\n",
    "#                     with archive.open(entry) as source, open(target, 'wb') as dest:\n",
    "#                         shutil.copyfileobj(source, dest)\n",
    "\n",
    "########### RUN unpack_zipfile #################################\n",
    "unpack_zipfile(main_dir+'23.05.2022-15.01-Контроль МО.zip', 'unpacked', encoding='cp866')"
   ]
  },
  {
   "cell_type": "code",
   "execution_count": null,
   "metadata": {},
   "outputs": [],
   "source": []
  },
  {
   "cell_type": "code",
   "execution_count": null,
   "metadata": {},
   "outputs": [],
   "source": []
  },
  {
   "cell_type": "code",
   "execution_count": null,
   "metadata": {},
   "outputs": [],
   "source": []
  },
  {
   "cell_type": "code",
   "execution_count": null,
   "metadata": {},
   "outputs": [],
   "source": []
  },
  {
   "cell_type": "code",
   "execution_count": 149,
   "metadata": {},
   "outputs": [],
   "source": [
    "def old_unzip(file, unpack_dir, exceptions_unpack_dir):\n",
    "    with zipfile.ZipFile(file) as zip:\n",
    "    \n",
    "        for zip_info in zip.infolist():\n",
    "            if zip_info.filename[-1] == '/':\n",
    "                continue\n",
    "                try:\n",
    "    #                 print(abs_path_str.encode('cp437').decode('cp866'))\n",
    "                    name = zip_info.filename.encode('cp437').decode('cp866')\n",
    "                except: \n",
    "    #                 print('ex== ',abs_path_str.encode('cp866').decode('cp866'))\n",
    "                    name = zip_info.filename.encode('cp866').decode('cp866')\n",
    "    \n",
    "            if '.zip' in abs_path_str:\n",
    "                with zipfile.ZipFile(abs_path_str) as nested_zip:\n",
    "                    for nested_zip_info in nested_zip.infolist():\n",
    "                        try:\n",
    "            #                 print(abs_path_str.encode('cp437').decode('cp866'))\n",
    "                            nested_abs_path_str = nested_zip_info.filename.encode('cp437').decode('cp866')\n",
    "                        except: \n",
    "            #                 print('ex== ',abs_path_str.encode('cp866').decode('cp866'))\n",
    "                            nested_abs_path_str = nested_zip_info.filename.encode('cp866').decode('cp866')\n",
    "                    if '/КЖЗ' in abs_path_str and abs_path_str not in table_file_types:\n",
    "                        abs_path_str = os.path.basename(abs_path_str)\n",
    "                        zip.extract(zip_info, exceptions_unpack_dir)\n",
    "                    elif abs_path_str[-1] == '/':\n",
    "                        continue\n",
    "                    name = os.path.basename(abs_path_str)\n",
    "                    zip.extract(zip_info, unpack_dir)\n",
    "                \n",
    "            else:\n",
    "                if '/КЖЗ' in abs_path_str and abs_path_str not in table_file_types:\n",
    "                    abs_path_str = os.path.basename(abs_path_str)\n",
    "                    zip.extract(zip_info, exceptions_unpack_dir)\n",
    "                elif abs_path_str[-1] == '/':\n",
    "                    continue\n",
    "                \n",
    "            name = os.path.basename(abs_path_str)\n",
    "            zip.extract(zip_info, unpack_dir)"
   ]
  },
  {
   "cell_type": "code",
   "execution_count": 150,
   "metadata": {},
   "outputs": [
    {
     "ename": "FileNotFoundError",
     "evalue": "[Errno 2] No such file or directory: 'Контроль МО/КЖЗ.zip'",
     "output_type": "error",
     "traceback": [
      "\u001b[1;31m---------------------------------------------------------------------------\u001b[0m",
      "\u001b[1;31mFileNotFoundError\u001b[0m                         Traceback (most recent call last)",
      "\u001b[1;32m<ipython-input-150-01b0558dc87a>\u001b[0m in \u001b[0;36m<module>\u001b[1;34m\u001b[0m\n\u001b[0;32m      1\u001b[0m \u001b[1;32mfor\u001b[0m \u001b[0m_\u001b[0m \u001b[1;32min\u001b[0m \u001b[0mos\u001b[0m\u001b[1;33m.\u001b[0m\u001b[0mlistdir\u001b[0m\u001b[1;33m(\u001b[0m\u001b[0mmain_dir\u001b[0m\u001b[1;33m)\u001b[0m\u001b[1;33m:\u001b[0m\u001b[1;33m\u001b[0m\u001b[1;33m\u001b[0m\u001b[0m\n\u001b[0;32m      2\u001b[0m     \u001b[1;32mif\u001b[0m \u001b[1;34m'.zip'\u001b[0m \u001b[1;32min\u001b[0m \u001b[0m_\u001b[0m\u001b[1;33m:\u001b[0m\u001b[1;33m\u001b[0m\u001b[1;33m\u001b[0m\u001b[0m\n\u001b[1;32m----> 3\u001b[1;33m         \u001b[0mold_unzip\u001b[0m\u001b[1;33m(\u001b[0m\u001b[0mmain_dir\u001b[0m\u001b[1;33m+\u001b[0m\u001b[0m_\u001b[0m\u001b[1;33m,\u001b[0m \u001b[1;34m'old_unzip_script'\u001b[0m\u001b[1;33m,\u001b[0m \u001b[1;34m'exceptions_unpack_dir'\u001b[0m\u001b[1;33m)\u001b[0m\u001b[1;33m\u001b[0m\u001b[1;33m\u001b[0m\u001b[0m\n\u001b[0m",
      "\u001b[1;32m<ipython-input-149-4c7929403365>\u001b[0m in \u001b[0;36mold_unzip\u001b[1;34m(file, unpack_dir, exceptions_unpack_dir)\u001b[0m\n\u001b[0;32m     11\u001b[0m \u001b[1;33m\u001b[0m\u001b[0m\n\u001b[0;32m     12\u001b[0m             \u001b[1;32mif\u001b[0m \u001b[1;34m'.zip'\u001b[0m \u001b[1;32min\u001b[0m \u001b[0mabs_path_str\u001b[0m\u001b[1;33m:\u001b[0m\u001b[1;33m\u001b[0m\u001b[1;33m\u001b[0m\u001b[0m\n\u001b[1;32m---> 13\u001b[1;33m                 \u001b[1;32mwith\u001b[0m \u001b[0mzipfile\u001b[0m\u001b[1;33m.\u001b[0m\u001b[0mZipFile\u001b[0m\u001b[1;33m(\u001b[0m\u001b[0mabs_path_str\u001b[0m\u001b[1;33m)\u001b[0m \u001b[1;32mas\u001b[0m \u001b[0mnested_zip\u001b[0m\u001b[1;33m:\u001b[0m\u001b[1;33m\u001b[0m\u001b[1;33m\u001b[0m\u001b[0m\n\u001b[0m\u001b[0;32m     14\u001b[0m                     \u001b[1;32mfor\u001b[0m \u001b[0mnested_zip_info\u001b[0m \u001b[1;32min\u001b[0m \u001b[0mnested_zip\u001b[0m\u001b[1;33m.\u001b[0m\u001b[0minfolist\u001b[0m\u001b[1;33m(\u001b[0m\u001b[1;33m)\u001b[0m\u001b[1;33m:\u001b[0m\u001b[1;33m\u001b[0m\u001b[1;33m\u001b[0m\u001b[0m\n\u001b[0;32m     15\u001b[0m                         \u001b[1;32mtry\u001b[0m\u001b[1;33m:\u001b[0m\u001b[1;33m\u001b[0m\u001b[1;33m\u001b[0m\u001b[0m\n",
      "\u001b[1;32mC:\\ProgramData\\Anaconda3\\lib\\zipfile.py\u001b[0m in \u001b[0;36m__init__\u001b[1;34m(self, file, mode, compression, allowZip64, compresslevel, strict_timestamps)\u001b[0m\n\u001b[0;32m   1248\u001b[0m             \u001b[1;32mwhile\u001b[0m \u001b[1;32mTrue\u001b[0m\u001b[1;33m:\u001b[0m\u001b[1;33m\u001b[0m\u001b[1;33m\u001b[0m\u001b[0m\n\u001b[0;32m   1249\u001b[0m                 \u001b[1;32mtry\u001b[0m\u001b[1;33m:\u001b[0m\u001b[1;33m\u001b[0m\u001b[1;33m\u001b[0m\u001b[0m\n\u001b[1;32m-> 1250\u001b[1;33m                     \u001b[0mself\u001b[0m\u001b[1;33m.\u001b[0m\u001b[0mfp\u001b[0m \u001b[1;33m=\u001b[0m \u001b[0mio\u001b[0m\u001b[1;33m.\u001b[0m\u001b[0mopen\u001b[0m\u001b[1;33m(\u001b[0m\u001b[0mfile\u001b[0m\u001b[1;33m,\u001b[0m \u001b[0mfilemode\u001b[0m\u001b[1;33m)\u001b[0m\u001b[1;33m\u001b[0m\u001b[1;33m\u001b[0m\u001b[0m\n\u001b[0m\u001b[0;32m   1251\u001b[0m                 \u001b[1;32mexcept\u001b[0m \u001b[0mOSError\u001b[0m\u001b[1;33m:\u001b[0m\u001b[1;33m\u001b[0m\u001b[1;33m\u001b[0m\u001b[0m\n\u001b[0;32m   1252\u001b[0m                     \u001b[1;32mif\u001b[0m \u001b[0mfilemode\u001b[0m \u001b[1;32min\u001b[0m \u001b[0mmodeDict\u001b[0m\u001b[1;33m:\u001b[0m\u001b[1;33m\u001b[0m\u001b[1;33m\u001b[0m\u001b[0m\n",
      "\u001b[1;31mFileNotFoundError\u001b[0m: [Errno 2] No such file or directory: 'Контроль МО/КЖЗ.zip'"
     ]
    }
   ],
   "source": [
    "for _ in os.listdir(main_dir):\n",
    "    if '.zip' in _:\n",
    "        old_unzip(main_dir+_, 'old_unzip_script', 'exceptions_unpack_dir')"
   ]
  },
  {
   "cell_type": "code",
   "execution_count": 64,
   "metadata": {},
   "outputs": [],
   "source": [
    "########### subDEF unpack_zipfile #################################\n",
    "def unpack_zipfile(filename,\n",
    "                   extract_dir='unzip',\n",
    "                   exceptions_dir='unzip_exceptions'\n",
    "                   encoding='cp866'):\n",
    "    with zipfile.ZipFile(filename) as archive:\n",
    "        for entry in archive.infolist():\n",
    "            try:\n",
    "                name = entry.filename.encode('cp437').decode(encoding)  # reencode!!!\n",
    "            except:\n",
    "                name = entry.filename.encode('cp866').decode(encoding)  # reencode!!!\n",
    "            print(name)\n",
    "\n",
    "            # don't extract absolute paths or ones with .. in them\n",
    "            if 'КЖЗ' in name:\n",
    "                pass\n",
    "#             if name.startswith('/') or '..' in name:\n",
    "#                 continue\n",
    "\n",
    "            target = os.path.join(extract_dir, *name.split('/'))    \n",
    "            os.makedirs(os.path.dirname(target), exist_ok=True)\n",
    "            if not entry.is_dir():  # file\n",
    "                with archive.open(entry) as source, open(target, 'wb') as dest:\n",
    "                    shutil.copyfileobj(source, dest)"
   ]
  },
  {
   "cell_type": "code",
   "execution_count": 280,
   "metadata": {},
   "outputs": [],
   "source": [
    "# for _ in os.listdir(main_dir):\n",
    "#     if '.zip' in _:\n",
    "#         unpack_zipfile(main_dir + _)"
   ]
  },
  {
   "cell_type": "code",
   "execution_count": 61,
   "metadata": {},
   "outputs": [],
   "source": [
    "########### DEF find_dir_by_name_and_extract_files #################################\n",
    "def find_dir_by_name_and_extract_files(processing_dir_path,\n",
    "                                       target_dir_name = '\\КЖЗ\\\\',\n",
    "                                       dir_for_replace = '',\n",
    "                                       replacing_dir_name = '\\КЖЗ\\\\'):\n",
    "    \"\"\"\n",
    "    0) *dir_for_replace* - print path to parent folder for *replacing_dir_name* !!!\n",
    "       default 'None' - *replacing_dir_name* will be replaced to *processing_dir_path*   \n",
    "       \n",
    "    1) Find subdir in *processing_dir_path* by *target_dir_name*,\n",
    "    2) if need create *replacing_dir_name* as subdir in *processing_dir_path*\n",
    "    2) replace files in *target_dir_name* to *replacing_dir_name* \n",
    "    \"\"\"\n",
    "    \n",
    "#     os.chdir(processing_dir_path)\n",
    "    for root, dirs, files in os.walk(os.getcwd(), topdown = False):\n",
    "        for fld in dirs:\n",
    "            abs_path_to_folder = os.path.join(root, fld)\n",
    "            \n",
    "            print(abs_path_to_folder)\n",
    "\n",
    "            if target_dir_name in abs_path_to_folder:# and not_table_file_types in abs_path_to_folder:\n",
    "                if dir_for_replace != '':\n",
    "#                     print(dir_for_replace)\n",
    "                    shutil.move(abs_path_to_folder, dir_for_replace)\n",
    "                else: shutil.move(abs_path_to_folder, processing_dir_path +'\\\\'+ replacing_dir_name)"
   ]
  },
  {
   "cell_type": "code",
   "execution_count": 281,
   "metadata": {},
   "outputs": [],
   "source": [
    "# for _ in os.listdir(current_dir + 'unzip\\\\'):\n",
    "#     find_dir_by_name_and_extract_files(processing_dir_path = current_dir + 'unzip\\\\',\n",
    "#                                        target_dir_name = 'КЖЗ',\n",
    "#                                        dir_for_replace = current_dir + 'replace_kjz\\\\',\n",
    "#                                        replacing_dir_name = 'КЖЗ')"
   ]
  },
  {
   "cell_type": "code",
   "execution_count": 71,
   "metadata": {},
   "outputs": [],
   "source": [
    "def unzip(file, unpack_dir):\n",
    "    with zipfile.ZipFile(file) as zip:\n",
    "        for zip_info in zip.infolist():\n",
    "            if 'КЖЗ' in zip_info.filename:\n",
    "                pass\n",
    "            if zip_info.filename[-1] == '/':\n",
    "                continue\n",
    "            zip_info.filename = os.path.basename(zip_info.filename)\n",
    "            zip.extract(zip_info, unpack_dir)"
   ]
  },
  {
   "cell_type": "code",
   "execution_count": 282,
   "metadata": {},
   "outputs": [],
   "source": [
    "# with zipfile.ZipFile(main_dir+'23.05.2022-15.01-Контроль МО.zip') as zip:\n",
    "#     for zip_info in zip.infolist():\n",
    "#         print(zip_info)"
   ]
  },
  {
   "cell_type": "code",
   "execution_count": 72,
   "metadata": {},
   "outputs": [],
   "source": [
    "unzip(main_dir+'23.05.2022-15.01-Контроль МО.zip', 'old_arc')"
   ]
  },
  {
   "cell_type": "code",
   "execution_count": 64,
   "metadata": {},
   "outputs": [],
   "source": [
    "########### DEF find zip file in parent dir and unpack_zipfile #################################\n",
    "def get_archive_from_main_dir(main_dir):\n",
    "    for _ in os.listdir(main_dir):\n",
    "        if '.zip' in _:\n",
    "            unpack_zipfile(main_dir+_)"
   ]
  },
  {
   "cell_type": "code",
   "execution_count": 65,
   "metadata": {},
   "outputs": [],
   "source": [
    "get_archive_from_main_dir(main_dir)"
   ]
  },
  {
   "cell_type": "code",
   "execution_count": 66,
   "metadata": {},
   "outputs": [
    {
     "data": {
      "text/plain": [
       "'C:\\\\Users\\\\KorneevSN\\\\Downloads\\\\КНИГИ\\\\REPO\\\\Nextcloud_connector\\\\Nextcloud_connector\\\\unzip\\\\'"
      ]
     },
     "execution_count": 66,
     "metadata": {},
     "output_type": "execute_result"
    }
   ],
   "source": [
    "unzip_folder = current_dir+'unzip\\\\'\n",
    "unzip_folder"
   ]
  },
  {
   "cell_type": "code",
   "execution_count": 67,
   "metadata": {},
   "outputs": [],
   "source": [
    "########### DEF find_dir_by_name_and_extract_files #################################\n",
    "def find_dir_by_name_and_extract_files(processing_dir_path,\n",
    "                                       target_dir_name = 'КЖЗ',\n",
    "                                       dir_for_replace = '',\n",
    "                                       replacing_dir_name = 'КЖЗ'):\n",
    "    \"\"\"\n",
    "    0) *dir_for_replace* - print path to parent folder for *replacing_dir_name* !!!\n",
    "       default 'None' - *replacing_dir_name* will be replaced to *processing_dir_path*   \n",
    "       \n",
    "    1) Find subdir in *processing_dir_path* by *target_dir_name*,\n",
    "    2) if need create *replacing_dir_name* as subdir in *processing_dir_path*\n",
    "    2) replace files in *target_dir_name* to *replacing_dir_name* \n",
    "    \"\"\"\n",
    "    \n",
    "#     os.chdir(processing_dir_path)\n",
    "    for root, dirs, files in os.walk(os.getcwd(), topdown = False):\n",
    "        for fld in dirs:\n",
    "            abs_path_to_folder = os.path.join(root, fld)\n",
    "            \n",
    "            print(abs_path_to_folder)\n",
    "\n",
    "            if target_dir_name in abs_path_to_folder.split('\\\\')[-1] == target_dir_name:\n",
    "                if dir_for_replace != '':\n",
    "#                     print(dir_for_replace)\n",
    "                    shutil.move(abs_path_to_folder, dir_for_replace)\n",
    "                else: shutil.move(abs_path_to_folder, processing_dir_path +'\\\\'+ replacing_dir_name)"
   ]
  },
  {
   "cell_type": "code",
   "execution_count": 283,
   "metadata": {},
   "outputs": [],
   "source": [
    "# ########### RUN find_dir_by_name_and_extract_files #################################\n",
    "# find_dir_by_name_and_extract_files(unzip_folder)"
   ]
  },
  {
   "cell_type": "code",
   "execution_count": null,
   "metadata": {},
   "outputs": [],
   "source": []
  }
 ],
 "metadata": {
  "kernelspec": {
   "display_name": "Python 3",
   "language": "python",
   "name": "python3"
  },
  "language_info": {
   "codemirror_mode": {
    "name": "ipython",
    "version": 3
   },
   "file_extension": ".py",
   "mimetype": "text/x-python",
   "name": "python",
   "nbconvert_exporter": "python",
   "pygments_lexer": "ipython3",
   "version": "3.8.3"
  }
 },
 "nbformat": 4,
 "nbformat_minor": 4
}
